{
 "cells": [
  {
   "cell_type": "markdown",
   "id": "b287d3b0",
   "metadata": {},
   "source": [
    "## Pretrained ResNet50\n",
    "This notebook uses pretrained resnet50 weights in imagenet and then train the dense layers."
   ]
  },
  {
   "cell_type": "code",
   "execution_count": 19,
   "id": "2eb5c174",
   "metadata": {},
   "outputs": [],
   "source": [
    "import pathlib\n",
    "import tensorflow as tf\n",
    "from tensorflow.keras import utils, layers, optimizers\n",
    "from tensorflow.keras.callbacks import EarlyStopping, ModelCheckpoint, LambdaCallback\n",
    "\n",
    "import numpy as np\n",
    "import pandas as pd\n",
    "from matplotlib import pyplot as plt\n",
    "\n",
    "from tensorflow.keras.models import Sequential\n",
    "from tensorflow.keras.layers import Dense, Conv2D, Flatten, MaxPooling2D, Dropout, Input, Add, BatchNormalization, Activation\n",
    "\n",
    "from keras.models import Model\n",
    "from tensorflow.keras.applications import resnet\n",
    "\n",
    "from keras.initializers import glorot_uniform\n",
    "from tensorflow.keras.callbacks import LearningRateScheduler\n",
    "\n",
    "import warnings\n",
    "warnings.filterwarnings('ignore')"
   ]
  },
  {
   "cell_type": "code",
   "execution_count": 9,
   "id": "bf7e9a19",
   "metadata": {},
   "outputs": [
    {
     "name": "stdout",
     "output_type": "stream",
     "text": [
      "Found 8000 files belonging to 4 classes.\n",
      "Using 6400 files for training.\n",
      "Using 1600 files for validation.\n"
     ]
    }
   ],
   "source": [
    "dataset = utils.image_dataset_from_directory(\n",
    "    './figs',\n",
    "    labels=\"inferred\",\n",
    "    label_mode=\"int\",\n",
    "    class_names=['class0', 'class1', 'class2', 'class3'],\n",
    "    color_mode=\"rgb\",\n",
    "    batch_size=128,\n",
    "    image_size=(258, 347),\n",
    "    shuffle=True,\n",
    "    seed=109,\n",
    "    validation_split=0.2,\n",
    "    subset='both',\n",
    "    interpolation=\"bilinear\",\n",
    "    follow_links=False,\n",
    "    crop_to_aspect_ratio=False,\n",
    ")\n",
    "trainset, valset = dataset"
   ]
  },
  {
   "cell_type": "markdown",
   "id": "be91bccc",
   "metadata": {},
   "source": [
    "## Configure Dataset for Performance"
   ]
  },
  {
   "cell_type": "code",
   "execution_count": 10,
   "id": "788f0c93",
   "metadata": {},
   "outputs": [
    {
     "name": "stderr",
     "output_type": "stream",
     "text": [
      "2023-04-22 15:13:54.453473: I tensorflow/core/common_runtime/executor.cc:1197] [/device:CPU:0] (DEBUG INFO) Executor start aborting (this does not indicate an error and you can ignore this message): INVALID_ARGUMENT: You must feed a value for placeholder tensor 'Placeholder/_0' with dtype string and shape [6400]\n",
      "\t [[{{node Placeholder/_0}}]]\n",
      "2023-04-22 15:13:54.453874: I tensorflow/core/common_runtime/executor.cc:1197] [/device:CPU:0] (DEBUG INFO) Executor start aborting (this does not indicate an error and you can ignore this message): INVALID_ARGUMENT: You must feed a value for placeholder tensor 'Placeholder/_4' with dtype int32 and shape [6400]\n",
      "\t [[{{node Placeholder/_4}}]]\n"
     ]
    },
    {
     "name": "stdout",
     "output_type": "stream",
     "text": [
      "0.15294118 1.0\n"
     ]
    },
    {
     "name": "stderr",
     "output_type": "stream",
     "text": [
      "2023-04-22 15:13:55.903020: W tensorflow/core/kernels/data/cache_dataset_ops.cc:856] The calling iterator did not fully read the dataset being cached. In order to avoid unexpected truncation of the dataset, the partially cached contents of the dataset  will be discarded. This can happen if you have an input pipeline similar to `dataset.cache().take(k).repeat()`. You should use `dataset.take(k).cache().repeat()` instead.\n"
     ]
    }
   ],
   "source": [
    "AUTOTUNE = tf.data.AUTOTUNE\n",
    "\n",
    "trainset = trainset.cache().prefetch(buffer_size=AUTOTUNE)\n",
    "valset = valset.cache().prefetch(buffer_size=AUTOTUNE)\n",
    "\n",
    "##normalize the images\n",
    "normalization_layer = tf.keras.layers.Rescaling(1./255)\n",
    "normalized_train = trainset.map(lambda x, y: (normalization_layer(x), y))\n",
    "normalized_val = valset.map(lambda x, y: (normalization_layer(x), y))\n",
    "image_batch, labels_batch = next(iter(normalized_train))\n",
    "first_image = image_batch[0]\n",
    "# Notice the pixel values are now in `[0,1]`.\n",
    "print(np.min(first_image), np.max(first_image))"
   ]
  },
  {
   "cell_type": "markdown",
   "id": "781bf531",
   "metadata": {},
   "source": [
    "## Load Trained Model"
   ]
  },
  {
   "cell_type": "code",
   "execution_count": 122,
   "id": "88362da8",
   "metadata": {},
   "outputs": [],
   "source": [
    "resnet50_head = tf.keras.applications.resnet50.ResNet50(\n",
    "    include_top=False,\n",
    "    weights='imagenet',\n",
    "    input_shape=(258, 347, 3),\n",
    "    pooling='avg',\n",
    "    classes=4\n",
    ")\n",
    "##freeze the weights. in the convolutional layers\n",
    "resnet50_head.trainable = False"
   ]
  },
  {
   "cell_type": "code",
   "execution_count": 123,
   "id": "73cb4990",
   "metadata": {},
   "outputs": [
    {
     "name": "stdout",
     "output_type": "stream",
     "text": [
      "Model: \"resnet50\"\n",
      "__________________________________________________________________________________________________\n",
      " Layer (type)                   Output Shape         Param #     Connected to                     \n",
      "==================================================================================================\n",
      " input_7 (InputLayer)           [(None, 258, 347, 3  0           []                               \n",
      "                                )]                                                                \n",
      "                                                                                                  \n",
      " conv1_pad (ZeroPadding2D)      (None, 264, 353, 3)  0           ['input_7[0][0]']                \n",
      "                                                                                                  \n",
      " conv1_conv (Conv2D)            (None, 129, 174, 64  9472        ['conv1_pad[0][0]']              \n",
      "                                )                                                                 \n",
      "                                                                                                  \n",
      " conv1_bn (BatchNormalization)  (None, 129, 174, 64  256         ['conv1_conv[0][0]']             \n",
      "                                )                                                                 \n",
      "                                                                                                  \n",
      " conv1_relu (Activation)        (None, 129, 174, 64  0           ['conv1_bn[0][0]']               \n",
      "                                )                                                                 \n",
      "                                                                                                  \n",
      " pool1_pad (ZeroPadding2D)      (None, 131, 176, 64  0           ['conv1_relu[0][0]']             \n",
      "                                )                                                                 \n",
      "                                                                                                  \n",
      " pool1_pool (MaxPooling2D)      (None, 65, 87, 64)   0           ['pool1_pad[0][0]']              \n",
      "                                                                                                  \n",
      " conv2_block1_1_conv (Conv2D)   (None, 65, 87, 64)   4160        ['pool1_pool[0][0]']             \n",
      "                                                                                                  \n",
      " conv2_block1_1_bn (BatchNormal  (None, 65, 87, 64)  256         ['conv2_block1_1_conv[0][0]']    \n",
      " ization)                                                                                         \n",
      "                                                                                                  \n",
      " conv2_block1_1_relu (Activatio  (None, 65, 87, 64)  0           ['conv2_block1_1_bn[0][0]']      \n",
      " n)                                                                                               \n",
      "                                                                                                  \n",
      " conv2_block1_2_conv (Conv2D)   (None, 65, 87, 64)   36928       ['conv2_block1_1_relu[0][0]']    \n",
      "                                                                                                  \n",
      " conv2_block1_2_bn (BatchNormal  (None, 65, 87, 64)  256         ['conv2_block1_2_conv[0][0]']    \n",
      " ization)                                                                                         \n",
      "                                                                                                  \n",
      " conv2_block1_2_relu (Activatio  (None, 65, 87, 64)  0           ['conv2_block1_2_bn[0][0]']      \n",
      " n)                                                                                               \n",
      "                                                                                                  \n",
      " conv2_block1_0_conv (Conv2D)   (None, 65, 87, 256)  16640       ['pool1_pool[0][0]']             \n",
      "                                                                                                  \n",
      " conv2_block1_3_conv (Conv2D)   (None, 65, 87, 256)  16640       ['conv2_block1_2_relu[0][0]']    \n",
      "                                                                                                  \n",
      " conv2_block1_0_bn (BatchNormal  (None, 65, 87, 256)  1024       ['conv2_block1_0_conv[0][0]']    \n",
      " ization)                                                                                         \n",
      "                                                                                                  \n",
      " conv2_block1_3_bn (BatchNormal  (None, 65, 87, 256)  1024       ['conv2_block1_3_conv[0][0]']    \n",
      " ization)                                                                                         \n",
      "                                                                                                  \n",
      " conv2_block1_add (Add)         (None, 65, 87, 256)  0           ['conv2_block1_0_bn[0][0]',      \n",
      "                                                                  'conv2_block1_3_bn[0][0]']      \n",
      "                                                                                                  \n",
      " conv2_block1_out (Activation)  (None, 65, 87, 256)  0           ['conv2_block1_add[0][0]']       \n",
      "                                                                                                  \n",
      " conv2_block2_1_conv (Conv2D)   (None, 65, 87, 64)   16448       ['conv2_block1_out[0][0]']       \n",
      "                                                                                                  \n",
      " conv2_block2_1_bn (BatchNormal  (None, 65, 87, 64)  256         ['conv2_block2_1_conv[0][0]']    \n",
      " ization)                                                                                         \n",
      "                                                                                                  \n",
      " conv2_block2_1_relu (Activatio  (None, 65, 87, 64)  0           ['conv2_block2_1_bn[0][0]']      \n",
      " n)                                                                                               \n",
      "                                                                                                  \n",
      " conv2_block2_2_conv (Conv2D)   (None, 65, 87, 64)   36928       ['conv2_block2_1_relu[0][0]']    \n",
      "                                                                                                  \n",
      " conv2_block2_2_bn (BatchNormal  (None, 65, 87, 64)  256         ['conv2_block2_2_conv[0][0]']    \n",
      " ization)                                                                                         \n",
      "                                                                                                  \n",
      " conv2_block2_2_relu (Activatio  (None, 65, 87, 64)  0           ['conv2_block2_2_bn[0][0]']      \n",
      " n)                                                                                               \n",
      "                                                                                                  \n",
      " conv2_block2_3_conv (Conv2D)   (None, 65, 87, 256)  16640       ['conv2_block2_2_relu[0][0]']    \n",
      "                                                                                                  \n",
      " conv2_block2_3_bn (BatchNormal  (None, 65, 87, 256)  1024       ['conv2_block2_3_conv[0][0]']    \n",
      " ization)                                                                                         \n",
      "                                                                                                  \n",
      " conv2_block2_add (Add)         (None, 65, 87, 256)  0           ['conv2_block1_out[0][0]',       \n",
      "                                                                  'conv2_block2_3_bn[0][0]']      \n",
      "                                                                                                  \n",
      " conv2_block2_out (Activation)  (None, 65, 87, 256)  0           ['conv2_block2_add[0][0]']       \n",
      "                                                                                                  \n",
      " conv2_block3_1_conv (Conv2D)   (None, 65, 87, 64)   16448       ['conv2_block2_out[0][0]']       \n",
      "                                                                                                  \n",
      " conv2_block3_1_bn (BatchNormal  (None, 65, 87, 64)  256         ['conv2_block3_1_conv[0][0]']    \n",
      " ization)                                                                                         \n"
     ]
    },
    {
     "name": "stdout",
     "output_type": "stream",
     "text": [
      "                                                                                                  \n",
      " conv2_block3_1_relu (Activatio  (None, 65, 87, 64)  0           ['conv2_block3_1_bn[0][0]']      \n",
      " n)                                                                                               \n",
      "                                                                                                  \n",
      " conv2_block3_2_conv (Conv2D)   (None, 65, 87, 64)   36928       ['conv2_block3_1_relu[0][0]']    \n",
      "                                                                                                  \n",
      " conv2_block3_2_bn (BatchNormal  (None, 65, 87, 64)  256         ['conv2_block3_2_conv[0][0]']    \n",
      " ization)                                                                                         \n",
      "                                                                                                  \n",
      " conv2_block3_2_relu (Activatio  (None, 65, 87, 64)  0           ['conv2_block3_2_bn[0][0]']      \n",
      " n)                                                                                               \n",
      "                                                                                                  \n",
      " conv2_block3_3_conv (Conv2D)   (None, 65, 87, 256)  16640       ['conv2_block3_2_relu[0][0]']    \n",
      "                                                                                                  \n",
      " conv2_block3_3_bn (BatchNormal  (None, 65, 87, 256)  1024       ['conv2_block3_3_conv[0][0]']    \n",
      " ization)                                                                                         \n",
      "                                                                                                  \n",
      " conv2_block3_add (Add)         (None, 65, 87, 256)  0           ['conv2_block2_out[0][0]',       \n",
      "                                                                  'conv2_block3_3_bn[0][0]']      \n",
      "                                                                                                  \n",
      " conv2_block3_out (Activation)  (None, 65, 87, 256)  0           ['conv2_block3_add[0][0]']       \n",
      "                                                                                                  \n",
      " conv3_block1_1_conv (Conv2D)   (None, 33, 44, 128)  32896       ['conv2_block3_out[0][0]']       \n",
      "                                                                                                  \n",
      " conv3_block1_1_bn (BatchNormal  (None, 33, 44, 128)  512        ['conv3_block1_1_conv[0][0]']    \n",
      " ization)                                                                                         \n",
      "                                                                                                  \n",
      " conv3_block1_1_relu (Activatio  (None, 33, 44, 128)  0          ['conv3_block1_1_bn[0][0]']      \n",
      " n)                                                                                               \n",
      "                                                                                                  \n",
      " conv3_block1_2_conv (Conv2D)   (None, 33, 44, 128)  147584      ['conv3_block1_1_relu[0][0]']    \n",
      "                                                                                                  \n",
      " conv3_block1_2_bn (BatchNormal  (None, 33, 44, 128)  512        ['conv3_block1_2_conv[0][0]']    \n",
      " ization)                                                                                         \n",
      "                                                                                                  \n",
      " conv3_block1_2_relu (Activatio  (None, 33, 44, 128)  0          ['conv3_block1_2_bn[0][0]']      \n",
      " n)                                                                                               \n",
      "                                                                                                  \n",
      " conv3_block1_0_conv (Conv2D)   (None, 33, 44, 512)  131584      ['conv2_block3_out[0][0]']       \n",
      "                                                                                                  \n",
      " conv3_block1_3_conv (Conv2D)   (None, 33, 44, 512)  66048       ['conv3_block1_2_relu[0][0]']    \n",
      "                                                                                                  \n",
      " conv3_block1_0_bn (BatchNormal  (None, 33, 44, 512)  2048       ['conv3_block1_0_conv[0][0]']    \n",
      " ization)                                                                                         \n",
      "                                                                                                  \n",
      " conv3_block1_3_bn (BatchNormal  (None, 33, 44, 512)  2048       ['conv3_block1_3_conv[0][0]']    \n",
      " ization)                                                                                         \n",
      "                                                                                                  \n",
      " conv3_block1_add (Add)         (None, 33, 44, 512)  0           ['conv3_block1_0_bn[0][0]',      \n",
      "                                                                  'conv3_block1_3_bn[0][0]']      \n",
      "                                                                                                  \n",
      " conv3_block1_out (Activation)  (None, 33, 44, 512)  0           ['conv3_block1_add[0][0]']       \n",
      "                                                                                                  \n",
      " conv3_block2_1_conv (Conv2D)   (None, 33, 44, 128)  65664       ['conv3_block1_out[0][0]']       \n",
      "                                                                                                  \n",
      " conv3_block2_1_bn (BatchNormal  (None, 33, 44, 128)  512        ['conv3_block2_1_conv[0][0]']    \n",
      " ization)                                                                                         \n",
      "                                                                                                  \n",
      " conv3_block2_1_relu (Activatio  (None, 33, 44, 128)  0          ['conv3_block2_1_bn[0][0]']      \n",
      " n)                                                                                               \n",
      "                                                                                                  \n",
      " conv3_block2_2_conv (Conv2D)   (None, 33, 44, 128)  147584      ['conv3_block2_1_relu[0][0]']    \n",
      "                                                                                                  \n",
      " conv3_block2_2_bn (BatchNormal  (None, 33, 44, 128)  512        ['conv3_block2_2_conv[0][0]']    \n",
      " ization)                                                                                         \n",
      "                                                                                                  \n",
      " conv3_block2_2_relu (Activatio  (None, 33, 44, 128)  0          ['conv3_block2_2_bn[0][0]']      \n",
      " n)                                                                                               \n",
      "                                                                                                  \n",
      " conv3_block2_3_conv (Conv2D)   (None, 33, 44, 512)  66048       ['conv3_block2_2_relu[0][0]']    \n",
      "                                                                                                  \n",
      " conv3_block2_3_bn (BatchNormal  (None, 33, 44, 512)  2048       ['conv3_block2_3_conv[0][0]']    \n",
      " ization)                                                                                         \n",
      "                                                                                                  \n",
      " conv3_block2_add (Add)         (None, 33, 44, 512)  0           ['conv3_block1_out[0][0]',       \n",
      "                                                                  'conv3_block2_3_bn[0][0]']      \n",
      "                                                                                                  \n",
      " conv3_block2_out (Activation)  (None, 33, 44, 512)  0           ['conv3_block2_add[0][0]']       \n",
      "                                                                                                  \n",
      " conv3_block3_1_conv (Conv2D)   (None, 33, 44, 128)  65664       ['conv3_block2_out[0][0]']       \n",
      "                                                                                                  \n",
      " conv3_block3_1_bn (BatchNormal  (None, 33, 44, 128)  512        ['conv3_block3_1_conv[0][0]']    \n",
      " ization)                                                                                         \n"
     ]
    },
    {
     "name": "stdout",
     "output_type": "stream",
     "text": [
      "                                                                                                  \n",
      " conv3_block3_1_relu (Activatio  (None, 33, 44, 128)  0          ['conv3_block3_1_bn[0][0]']      \n",
      " n)                                                                                               \n",
      "                                                                                                  \n",
      " conv3_block3_2_conv (Conv2D)   (None, 33, 44, 128)  147584      ['conv3_block3_1_relu[0][0]']    \n",
      "                                                                                                  \n",
      " conv3_block3_2_bn (BatchNormal  (None, 33, 44, 128)  512        ['conv3_block3_2_conv[0][0]']    \n",
      " ization)                                                                                         \n",
      "                                                                                                  \n",
      " conv3_block3_2_relu (Activatio  (None, 33, 44, 128)  0          ['conv3_block3_2_bn[0][0]']      \n",
      " n)                                                                                               \n",
      "                                                                                                  \n",
      " conv3_block3_3_conv (Conv2D)   (None, 33, 44, 512)  66048       ['conv3_block3_2_relu[0][0]']    \n",
      "                                                                                                  \n",
      " conv3_block3_3_bn (BatchNormal  (None, 33, 44, 512)  2048       ['conv3_block3_3_conv[0][0]']    \n",
      " ization)                                                                                         \n",
      "                                                                                                  \n",
      " conv3_block3_add (Add)         (None, 33, 44, 512)  0           ['conv3_block2_out[0][0]',       \n",
      "                                                                  'conv3_block3_3_bn[0][0]']      \n",
      "                                                                                                  \n",
      " conv3_block3_out (Activation)  (None, 33, 44, 512)  0           ['conv3_block3_add[0][0]']       \n",
      "                                                                                                  \n",
      " conv3_block4_1_conv (Conv2D)   (None, 33, 44, 128)  65664       ['conv3_block3_out[0][0]']       \n",
      "                                                                                                  \n",
      " conv3_block4_1_bn (BatchNormal  (None, 33, 44, 128)  512        ['conv3_block4_1_conv[0][0]']    \n",
      " ization)                                                                                         \n",
      "                                                                                                  \n",
      " conv3_block4_1_relu (Activatio  (None, 33, 44, 128)  0          ['conv3_block4_1_bn[0][0]']      \n",
      " n)                                                                                               \n",
      "                                                                                                  \n",
      " conv3_block4_2_conv (Conv2D)   (None, 33, 44, 128)  147584      ['conv3_block4_1_relu[0][0]']    \n",
      "                                                                                                  \n",
      " conv3_block4_2_bn (BatchNormal  (None, 33, 44, 128)  512        ['conv3_block4_2_conv[0][0]']    \n",
      " ization)                                                                                         \n",
      "                                                                                                  \n",
      " conv3_block4_2_relu (Activatio  (None, 33, 44, 128)  0          ['conv3_block4_2_bn[0][0]']      \n",
      " n)                                                                                               \n",
      "                                                                                                  \n",
      " conv3_block4_3_conv (Conv2D)   (None, 33, 44, 512)  66048       ['conv3_block4_2_relu[0][0]']    \n",
      "                                                                                                  \n",
      " conv3_block4_3_bn (BatchNormal  (None, 33, 44, 512)  2048       ['conv3_block4_3_conv[0][0]']    \n",
      " ization)                                                                                         \n",
      "                                                                                                  \n",
      " conv3_block4_add (Add)         (None, 33, 44, 512)  0           ['conv3_block3_out[0][0]',       \n",
      "                                                                  'conv3_block4_3_bn[0][0]']      \n",
      "                                                                                                  \n",
      " conv3_block4_out (Activation)  (None, 33, 44, 512)  0           ['conv3_block4_add[0][0]']       \n",
      "                                                                                                  \n",
      " conv4_block1_1_conv (Conv2D)   (None, 17, 22, 256)  131328      ['conv3_block4_out[0][0]']       \n",
      "                                                                                                  \n",
      " conv4_block1_1_bn (BatchNormal  (None, 17, 22, 256)  1024       ['conv4_block1_1_conv[0][0]']    \n",
      " ization)                                                                                         \n",
      "                                                                                                  \n",
      " conv4_block1_1_relu (Activatio  (None, 17, 22, 256)  0          ['conv4_block1_1_bn[0][0]']      \n",
      " n)                                                                                               \n",
      "                                                                                                  \n",
      " conv4_block1_2_conv (Conv2D)   (None, 17, 22, 256)  590080      ['conv4_block1_1_relu[0][0]']    \n",
      "                                                                                                  \n",
      " conv4_block1_2_bn (BatchNormal  (None, 17, 22, 256)  1024       ['conv4_block1_2_conv[0][0]']    \n",
      " ization)                                                                                         \n",
      "                                                                                                  \n",
      " conv4_block1_2_relu (Activatio  (None, 17, 22, 256)  0          ['conv4_block1_2_bn[0][0]']      \n",
      " n)                                                                                               \n",
      "                                                                                                  \n",
      " conv4_block1_0_conv (Conv2D)   (None, 17, 22, 1024  525312      ['conv3_block4_out[0][0]']       \n",
      "                                )                                                                 \n",
      "                                                                                                  \n",
      " conv4_block1_3_conv (Conv2D)   (None, 17, 22, 1024  263168      ['conv4_block1_2_relu[0][0]']    \n",
      "                                )                                                                 \n",
      "                                                                                                  \n",
      " conv4_block1_0_bn (BatchNormal  (None, 17, 22, 1024  4096       ['conv4_block1_0_conv[0][0]']    \n",
      " ization)                       )                                                                 \n",
      "                                                                                                  \n",
      " conv4_block1_3_bn (BatchNormal  (None, 17, 22, 1024  4096       ['conv4_block1_3_conv[0][0]']    \n",
      " ization)                       )                                                                 \n",
      "                                                                                                  \n",
      " conv4_block1_add (Add)         (None, 17, 22, 1024  0           ['conv4_block1_0_bn[0][0]',      \n",
      "                                )                                 'conv4_block1_3_bn[0][0]']      \n",
      "                                                                                                  \n",
      " conv4_block1_out (Activation)  (None, 17, 22, 1024  0           ['conv4_block1_add[0][0]']       \n",
      "                                )                                                                 \n",
      "                                                                                                  \n",
      " conv4_block2_1_conv (Conv2D)   (None, 17, 22, 256)  262400      ['conv4_block1_out[0][0]']       \n"
     ]
    },
    {
     "name": "stdout",
     "output_type": "stream",
     "text": [
      "                                                                                                  \n",
      " conv4_block2_1_bn (BatchNormal  (None, 17, 22, 256)  1024       ['conv4_block2_1_conv[0][0]']    \n",
      " ization)                                                                                         \n",
      "                                                                                                  \n",
      " conv4_block2_1_relu (Activatio  (None, 17, 22, 256)  0          ['conv4_block2_1_bn[0][0]']      \n",
      " n)                                                                                               \n",
      "                                                                                                  \n",
      " conv4_block2_2_conv (Conv2D)   (None, 17, 22, 256)  590080      ['conv4_block2_1_relu[0][0]']    \n",
      "                                                                                                  \n",
      " conv4_block2_2_bn (BatchNormal  (None, 17, 22, 256)  1024       ['conv4_block2_2_conv[0][0]']    \n",
      " ization)                                                                                         \n",
      "                                                                                                  \n",
      " conv4_block2_2_relu (Activatio  (None, 17, 22, 256)  0          ['conv4_block2_2_bn[0][0]']      \n",
      " n)                                                                                               \n",
      "                                                                                                  \n",
      " conv4_block2_3_conv (Conv2D)   (None, 17, 22, 1024  263168      ['conv4_block2_2_relu[0][0]']    \n",
      "                                )                                                                 \n",
      "                                                                                                  \n",
      " conv4_block2_3_bn (BatchNormal  (None, 17, 22, 1024  4096       ['conv4_block2_3_conv[0][0]']    \n",
      " ization)                       )                                                                 \n",
      "                                                                                                  \n",
      " conv4_block2_add (Add)         (None, 17, 22, 1024  0           ['conv4_block1_out[0][0]',       \n",
      "                                )                                 'conv4_block2_3_bn[0][0]']      \n",
      "                                                                                                  \n",
      " conv4_block2_out (Activation)  (None, 17, 22, 1024  0           ['conv4_block2_add[0][0]']       \n",
      "                                )                                                                 \n",
      "                                                                                                  \n",
      " conv4_block3_1_conv (Conv2D)   (None, 17, 22, 256)  262400      ['conv4_block2_out[0][0]']       \n",
      "                                                                                                  \n",
      " conv4_block3_1_bn (BatchNormal  (None, 17, 22, 256)  1024       ['conv4_block3_1_conv[0][0]']    \n",
      " ization)                                                                                         \n",
      "                                                                                                  \n",
      " conv4_block3_1_relu (Activatio  (None, 17, 22, 256)  0          ['conv4_block3_1_bn[0][0]']      \n",
      " n)                                                                                               \n",
      "                                                                                                  \n",
      " conv4_block3_2_conv (Conv2D)   (None, 17, 22, 256)  590080      ['conv4_block3_1_relu[0][0]']    \n",
      "                                                                                                  \n",
      " conv4_block3_2_bn (BatchNormal  (None, 17, 22, 256)  1024       ['conv4_block3_2_conv[0][0]']    \n",
      " ization)                                                                                         \n",
      "                                                                                                  \n",
      " conv4_block3_2_relu (Activatio  (None, 17, 22, 256)  0          ['conv4_block3_2_bn[0][0]']      \n",
      " n)                                                                                               \n",
      "                                                                                                  \n",
      " conv4_block3_3_conv (Conv2D)   (None, 17, 22, 1024  263168      ['conv4_block3_2_relu[0][0]']    \n",
      "                                )                                                                 \n",
      "                                                                                                  \n",
      " conv4_block3_3_bn (BatchNormal  (None, 17, 22, 1024  4096       ['conv4_block3_3_conv[0][0]']    \n",
      " ization)                       )                                                                 \n",
      "                                                                                                  \n",
      " conv4_block3_add (Add)         (None, 17, 22, 1024  0           ['conv4_block2_out[0][0]',       \n",
      "                                )                                 'conv4_block3_3_bn[0][0]']      \n",
      "                                                                                                  \n",
      " conv4_block3_out (Activation)  (None, 17, 22, 1024  0           ['conv4_block3_add[0][0]']       \n",
      "                                )                                                                 \n",
      "                                                                                                  \n",
      " conv4_block4_1_conv (Conv2D)   (None, 17, 22, 256)  262400      ['conv4_block3_out[0][0]']       \n",
      "                                                                                                  \n",
      " conv4_block4_1_bn (BatchNormal  (None, 17, 22, 256)  1024       ['conv4_block4_1_conv[0][0]']    \n",
      " ization)                                                                                         \n",
      "                                                                                                  \n",
      " conv4_block4_1_relu (Activatio  (None, 17, 22, 256)  0          ['conv4_block4_1_bn[0][0]']      \n",
      " n)                                                                                               \n",
      "                                                                                                  \n",
      " conv4_block4_2_conv (Conv2D)   (None, 17, 22, 256)  590080      ['conv4_block4_1_relu[0][0]']    \n",
      "                                                                                                  \n",
      " conv4_block4_2_bn (BatchNormal  (None, 17, 22, 256)  1024       ['conv4_block4_2_conv[0][0]']    \n",
      " ization)                                                                                         \n",
      "                                                                                                  \n",
      " conv4_block4_2_relu (Activatio  (None, 17, 22, 256)  0          ['conv4_block4_2_bn[0][0]']      \n",
      " n)                                                                                               \n",
      "                                                                                                  \n",
      " conv4_block4_3_conv (Conv2D)   (None, 17, 22, 1024  263168      ['conv4_block4_2_relu[0][0]']    \n",
      "                                )                                                                 \n",
      "                                                                                                  \n",
      " conv4_block4_3_bn (BatchNormal  (None, 17, 22, 1024  4096       ['conv4_block4_3_conv[0][0]']    \n",
      " ization)                       )                                                                 \n",
      "                                                                                                  \n",
      " conv4_block4_add (Add)         (None, 17, 22, 1024  0           ['conv4_block3_out[0][0]',       \n",
      "                                )                                 'conv4_block4_3_bn[0][0]']      \n",
      "                                                                                                  \n",
      " conv4_block4_out (Activation)  (None, 17, 22, 1024  0           ['conv4_block4_add[0][0]']       \n",
      "                                )                                                                 \n",
      "                                                                                                  \n"
     ]
    },
    {
     "name": "stdout",
     "output_type": "stream",
     "text": [
      " conv4_block5_1_conv (Conv2D)   (None, 17, 22, 256)  262400      ['conv4_block4_out[0][0]']       \n",
      "                                                                                                  \n",
      " conv4_block5_1_bn (BatchNormal  (None, 17, 22, 256)  1024       ['conv4_block5_1_conv[0][0]']    \n",
      " ization)                                                                                         \n",
      "                                                                                                  \n",
      " conv4_block5_1_relu (Activatio  (None, 17, 22, 256)  0          ['conv4_block5_1_bn[0][0]']      \n",
      " n)                                                                                               \n",
      "                                                                                                  \n",
      " conv4_block5_2_conv (Conv2D)   (None, 17, 22, 256)  590080      ['conv4_block5_1_relu[0][0]']    \n",
      "                                                                                                  \n",
      " conv4_block5_2_bn (BatchNormal  (None, 17, 22, 256)  1024       ['conv4_block5_2_conv[0][0]']    \n",
      " ization)                                                                                         \n",
      "                                                                                                  \n",
      " conv4_block5_2_relu (Activatio  (None, 17, 22, 256)  0          ['conv4_block5_2_bn[0][0]']      \n",
      " n)                                                                                               \n",
      "                                                                                                  \n",
      " conv4_block5_3_conv (Conv2D)   (None, 17, 22, 1024  263168      ['conv4_block5_2_relu[0][0]']    \n",
      "                                )                                                                 \n",
      "                                                                                                  \n",
      " conv4_block5_3_bn (BatchNormal  (None, 17, 22, 1024  4096       ['conv4_block5_3_conv[0][0]']    \n",
      " ization)                       )                                                                 \n",
      "                                                                                                  \n",
      " conv4_block5_add (Add)         (None, 17, 22, 1024  0           ['conv4_block4_out[0][0]',       \n",
      "                                )                                 'conv4_block5_3_bn[0][0]']      \n",
      "                                                                                                  \n",
      " conv4_block5_out (Activation)  (None, 17, 22, 1024  0           ['conv4_block5_add[0][0]']       \n",
      "                                )                                                                 \n",
      "                                                                                                  \n",
      " conv4_block6_1_conv (Conv2D)   (None, 17, 22, 256)  262400      ['conv4_block5_out[0][0]']       \n",
      "                                                                                                  \n",
      " conv4_block6_1_bn (BatchNormal  (None, 17, 22, 256)  1024       ['conv4_block6_1_conv[0][0]']    \n",
      " ization)                                                                                         \n",
      "                                                                                                  \n",
      " conv4_block6_1_relu (Activatio  (None, 17, 22, 256)  0          ['conv4_block6_1_bn[0][0]']      \n",
      " n)                                                                                               \n",
      "                                                                                                  \n",
      " conv4_block6_2_conv (Conv2D)   (None, 17, 22, 256)  590080      ['conv4_block6_1_relu[0][0]']    \n",
      "                                                                                                  \n",
      " conv4_block6_2_bn (BatchNormal  (None, 17, 22, 256)  1024       ['conv4_block6_2_conv[0][0]']    \n",
      " ization)                                                                                         \n",
      "                                                                                                  \n",
      " conv4_block6_2_relu (Activatio  (None, 17, 22, 256)  0          ['conv4_block6_2_bn[0][0]']      \n",
      " n)                                                                                               \n",
      "                                                                                                  \n",
      " conv4_block6_3_conv (Conv2D)   (None, 17, 22, 1024  263168      ['conv4_block6_2_relu[0][0]']    \n",
      "                                )                                                                 \n",
      "                                                                                                  \n",
      " conv4_block6_3_bn (BatchNormal  (None, 17, 22, 1024  4096       ['conv4_block6_3_conv[0][0]']    \n",
      " ization)                       )                                                                 \n",
      "                                                                                                  \n",
      " conv4_block6_add (Add)         (None, 17, 22, 1024  0           ['conv4_block5_out[0][0]',       \n",
      "                                )                                 'conv4_block6_3_bn[0][0]']      \n",
      "                                                                                                  \n",
      " conv4_block6_out (Activation)  (None, 17, 22, 1024  0           ['conv4_block6_add[0][0]']       \n",
      "                                )                                                                 \n",
      "                                                                                                  \n",
      " conv5_block1_1_conv (Conv2D)   (None, 9, 11, 512)   524800      ['conv4_block6_out[0][0]']       \n",
      "                                                                                                  \n",
      " conv5_block1_1_bn (BatchNormal  (None, 9, 11, 512)  2048        ['conv5_block1_1_conv[0][0]']    \n",
      " ization)                                                                                         \n",
      "                                                                                                  \n",
      " conv5_block1_1_relu (Activatio  (None, 9, 11, 512)  0           ['conv5_block1_1_bn[0][0]']      \n",
      " n)                                                                                               \n",
      "                                                                                                  \n",
      " conv5_block1_2_conv (Conv2D)   (None, 9, 11, 512)   2359808     ['conv5_block1_1_relu[0][0]']    \n",
      "                                                                                                  \n",
      " conv5_block1_2_bn (BatchNormal  (None, 9, 11, 512)  2048        ['conv5_block1_2_conv[0][0]']    \n",
      " ization)                                                                                         \n",
      "                                                                                                  \n",
      " conv5_block1_2_relu (Activatio  (None, 9, 11, 512)  0           ['conv5_block1_2_bn[0][0]']      \n",
      " n)                                                                                               \n",
      "                                                                                                  \n",
      " conv5_block1_0_conv (Conv2D)   (None, 9, 11, 2048)  2099200     ['conv4_block6_out[0][0]']       \n",
      "                                                                                                  \n",
      " conv5_block1_3_conv (Conv2D)   (None, 9, 11, 2048)  1050624     ['conv5_block1_2_relu[0][0]']    \n",
      "                                                                                                  \n",
      " conv5_block1_0_bn (BatchNormal  (None, 9, 11, 2048)  8192       ['conv5_block1_0_conv[0][0]']    \n",
      " ization)                                                                                         \n",
      "                                                                                                  \n",
      " conv5_block1_3_bn (BatchNormal  (None, 9, 11, 2048)  8192       ['conv5_block1_3_conv[0][0]']    \n",
      " ization)                                                                                         \n",
      "                                                                                                  \n",
      " conv5_block1_add (Add)         (None, 9, 11, 2048)  0           ['conv5_block1_0_bn[0][0]',      \n"
     ]
    },
    {
     "name": "stdout",
     "output_type": "stream",
     "text": [
      "                                                                  'conv5_block1_3_bn[0][0]']      \n",
      "                                                                                                  \n",
      " conv5_block1_out (Activation)  (None, 9, 11, 2048)  0           ['conv5_block1_add[0][0]']       \n",
      "                                                                                                  \n",
      " conv5_block2_1_conv (Conv2D)   (None, 9, 11, 512)   1049088     ['conv5_block1_out[0][0]']       \n",
      "                                                                                                  \n",
      " conv5_block2_1_bn (BatchNormal  (None, 9, 11, 512)  2048        ['conv5_block2_1_conv[0][0]']    \n",
      " ization)                                                                                         \n",
      "                                                                                                  \n",
      " conv5_block2_1_relu (Activatio  (None, 9, 11, 512)  0           ['conv5_block2_1_bn[0][0]']      \n",
      " n)                                                                                               \n",
      "                                                                                                  \n",
      " conv5_block2_2_conv (Conv2D)   (None, 9, 11, 512)   2359808     ['conv5_block2_1_relu[0][0]']    \n",
      "                                                                                                  \n",
      " conv5_block2_2_bn (BatchNormal  (None, 9, 11, 512)  2048        ['conv5_block2_2_conv[0][0]']    \n",
      " ization)                                                                                         \n",
      "                                                                                                  \n",
      " conv5_block2_2_relu (Activatio  (None, 9, 11, 512)  0           ['conv5_block2_2_bn[0][0]']      \n",
      " n)                                                                                               \n",
      "                                                                                                  \n",
      " conv5_block2_3_conv (Conv2D)   (None, 9, 11, 2048)  1050624     ['conv5_block2_2_relu[0][0]']    \n",
      "                                                                                                  \n",
      " conv5_block2_3_bn (BatchNormal  (None, 9, 11, 2048)  8192       ['conv5_block2_3_conv[0][0]']    \n",
      " ization)                                                                                         \n",
      "                                                                                                  \n",
      " conv5_block2_add (Add)         (None, 9, 11, 2048)  0           ['conv5_block1_out[0][0]',       \n",
      "                                                                  'conv5_block2_3_bn[0][0]']      \n",
      "                                                                                                  \n",
      " conv5_block2_out (Activation)  (None, 9, 11, 2048)  0           ['conv5_block2_add[0][0]']       \n",
      "                                                                                                  \n",
      " conv5_block3_1_conv (Conv2D)   (None, 9, 11, 512)   1049088     ['conv5_block2_out[0][0]']       \n",
      "                                                                                                  \n",
      " conv5_block3_1_bn (BatchNormal  (None, 9, 11, 512)  2048        ['conv5_block3_1_conv[0][0]']    \n",
      " ization)                                                                                         \n",
      "                                                                                                  \n",
      " conv5_block3_1_relu (Activatio  (None, 9, 11, 512)  0           ['conv5_block3_1_bn[0][0]']      \n",
      " n)                                                                                               \n",
      "                                                                                                  \n",
      " conv5_block3_2_conv (Conv2D)   (None, 9, 11, 512)   2359808     ['conv5_block3_1_relu[0][0]']    \n",
      "                                                                                                  \n",
      " conv5_block3_2_bn (BatchNormal  (None, 9, 11, 512)  2048        ['conv5_block3_2_conv[0][0]']    \n",
      " ization)                                                                                         \n",
      "                                                                                                  \n",
      " conv5_block3_2_relu (Activatio  (None, 9, 11, 512)  0           ['conv5_block3_2_bn[0][0]']      \n",
      " n)                                                                                               \n",
      "                                                                                                  \n",
      " conv5_block3_3_conv (Conv2D)   (None, 9, 11, 2048)  1050624     ['conv5_block3_2_relu[0][0]']    \n",
      "                                                                                                  \n",
      " conv5_block3_3_bn (BatchNormal  (None, 9, 11, 2048)  8192       ['conv5_block3_3_conv[0][0]']    \n",
      " ization)                                                                                         \n",
      "                                                                                                  \n",
      " conv5_block3_add (Add)         (None, 9, 11, 2048)  0           ['conv5_block2_out[0][0]',       \n",
      "                                                                  'conv5_block3_3_bn[0][0]']      \n",
      "                                                                                                  \n",
      " conv5_block3_out (Activation)  (None, 9, 11, 2048)  0           ['conv5_block3_add[0][0]']       \n",
      "                                                                                                  \n",
      " avg_pool (GlobalAveragePooling  (None, 2048)        0           ['conv5_block3_out[0][0]']       \n",
      " 2D)                                                                                              \n",
      "                                                                                                  \n",
      "==================================================================================================\n",
      "Total params: 23,587,712\n",
      "Trainable params: 0\n",
      "Non-trainable params: 23,587,712\n",
      "__________________________________________________________________________________________________\n"
     ]
    }
   ],
   "source": [
    "resnet50_head.summary()"
   ]
  },
  {
   "cell_type": "code",
   "execution_count": 124,
   "id": "4c698d15",
   "metadata": {},
   "outputs": [],
   "source": [
    "##add trainable dense layers\n",
    "dense1 = Dense(512, activation='relu', \n",
    "               kernel_regularizer=tf.keras.regularizers.L1L2(l1=1e-5, l2=1e-4))(resnet50_head.output)\n",
    "dense1 = Dropout(0.4)(dense1)\n",
    "outputs = Dense(4, activation='softmax')(dense1)"
   ]
  },
  {
   "cell_type": "code",
   "execution_count": 125,
   "id": "677aded3",
   "metadata": {},
   "outputs": [
    {
     "name": "stdout",
     "output_type": "stream",
     "text": [
      "Model: \"model_5\"\n",
      "__________________________________________________________________________________________________\n",
      " Layer (type)                   Output Shape         Param #     Connected to                     \n",
      "==================================================================================================\n",
      " input_7 (InputLayer)           [(None, 258, 347, 3  0           []                               \n",
      "                                )]                                                                \n",
      "                                                                                                  \n",
      " conv1_pad (ZeroPadding2D)      (None, 264, 353, 3)  0           ['input_7[0][0]']                \n",
      "                                                                                                  \n",
      " conv1_conv (Conv2D)            (None, 129, 174, 64  9472        ['conv1_pad[0][0]']              \n",
      "                                )                                                                 \n",
      "                                                                                                  \n",
      " conv1_bn (BatchNormalization)  (None, 129, 174, 64  256         ['conv1_conv[0][0]']             \n",
      "                                )                                                                 \n",
      "                                                                                                  \n",
      " conv1_relu (Activation)        (None, 129, 174, 64  0           ['conv1_bn[0][0]']               \n",
      "                                )                                                                 \n",
      "                                                                                                  \n",
      " pool1_pad (ZeroPadding2D)      (None, 131, 176, 64  0           ['conv1_relu[0][0]']             \n",
      "                                )                                                                 \n",
      "                                                                                                  \n",
      " pool1_pool (MaxPooling2D)      (None, 65, 87, 64)   0           ['pool1_pad[0][0]']              \n",
      "                                                                                                  \n",
      " conv2_block1_1_conv (Conv2D)   (None, 65, 87, 64)   4160        ['pool1_pool[0][0]']             \n",
      "                                                                                                  \n",
      " conv2_block1_1_bn (BatchNormal  (None, 65, 87, 64)  256         ['conv2_block1_1_conv[0][0]']    \n",
      " ization)                                                                                         \n",
      "                                                                                                  \n",
      " conv2_block1_1_relu (Activatio  (None, 65, 87, 64)  0           ['conv2_block1_1_bn[0][0]']      \n",
      " n)                                                                                               \n",
      "                                                                                                  \n",
      " conv2_block1_2_conv (Conv2D)   (None, 65, 87, 64)   36928       ['conv2_block1_1_relu[0][0]']    \n",
      "                                                                                                  \n",
      " conv2_block1_2_bn (BatchNormal  (None, 65, 87, 64)  256         ['conv2_block1_2_conv[0][0]']    \n",
      " ization)                                                                                         \n",
      "                                                                                                  \n",
      " conv2_block1_2_relu (Activatio  (None, 65, 87, 64)  0           ['conv2_block1_2_bn[0][0]']      \n",
      " n)                                                                                               \n",
      "                                                                                                  \n",
      " conv2_block1_0_conv (Conv2D)   (None, 65, 87, 256)  16640       ['pool1_pool[0][0]']             \n",
      "                                                                                                  \n",
      " conv2_block1_3_conv (Conv2D)   (None, 65, 87, 256)  16640       ['conv2_block1_2_relu[0][0]']    \n",
      "                                                                                                  \n",
      " conv2_block1_0_bn (BatchNormal  (None, 65, 87, 256)  1024       ['conv2_block1_0_conv[0][0]']    \n",
      " ization)                                                                                         \n",
      "                                                                                                  \n",
      " conv2_block1_3_bn (BatchNormal  (None, 65, 87, 256)  1024       ['conv2_block1_3_conv[0][0]']    \n",
      " ization)                                                                                         \n",
      "                                                                                                  \n",
      " conv2_block1_add (Add)         (None, 65, 87, 256)  0           ['conv2_block1_0_bn[0][0]',      \n",
      "                                                                  'conv2_block1_3_bn[0][0]']      \n",
      "                                                                                                  \n",
      " conv2_block1_out (Activation)  (None, 65, 87, 256)  0           ['conv2_block1_add[0][0]']       \n",
      "                                                                                                  \n",
      " conv2_block2_1_conv (Conv2D)   (None, 65, 87, 64)   16448       ['conv2_block1_out[0][0]']       \n",
      "                                                                                                  \n",
      " conv2_block2_1_bn (BatchNormal  (None, 65, 87, 64)  256         ['conv2_block2_1_conv[0][0]']    \n",
      " ization)                                                                                         \n",
      "                                                                                                  \n",
      " conv2_block2_1_relu (Activatio  (None, 65, 87, 64)  0           ['conv2_block2_1_bn[0][0]']      \n",
      " n)                                                                                               \n",
      "                                                                                                  \n",
      " conv2_block2_2_conv (Conv2D)   (None, 65, 87, 64)   36928       ['conv2_block2_1_relu[0][0]']    \n",
      "                                                                                                  \n",
      " conv2_block2_2_bn (BatchNormal  (None, 65, 87, 64)  256         ['conv2_block2_2_conv[0][0]']    \n",
      " ization)                                                                                         \n",
      "                                                                                                  \n",
      " conv2_block2_2_relu (Activatio  (None, 65, 87, 64)  0           ['conv2_block2_2_bn[0][0]']      \n",
      " n)                                                                                               \n",
      "                                                                                                  \n",
      " conv2_block2_3_conv (Conv2D)   (None, 65, 87, 256)  16640       ['conv2_block2_2_relu[0][0]']    \n",
      "                                                                                                  \n",
      " conv2_block2_3_bn (BatchNormal  (None, 65, 87, 256)  1024       ['conv2_block2_3_conv[0][0]']    \n",
      " ization)                                                                                         \n",
      "                                                                                                  \n",
      " conv2_block2_add (Add)         (None, 65, 87, 256)  0           ['conv2_block1_out[0][0]',       \n",
      "                                                                  'conv2_block2_3_bn[0][0]']      \n",
      "                                                                                                  \n",
      " conv2_block2_out (Activation)  (None, 65, 87, 256)  0           ['conv2_block2_add[0][0]']       \n",
      "                                                                                                  \n",
      " conv2_block3_1_conv (Conv2D)   (None, 65, 87, 64)   16448       ['conv2_block2_out[0][0]']       \n",
      "                                                                                                  \n",
      " conv2_block3_1_bn (BatchNormal  (None, 65, 87, 64)  256         ['conv2_block3_1_conv[0][0]']    \n",
      " ization)                                                                                         \n"
     ]
    },
    {
     "name": "stdout",
     "output_type": "stream",
     "text": [
      "                                                                                                  \n",
      " conv2_block3_1_relu (Activatio  (None, 65, 87, 64)  0           ['conv2_block3_1_bn[0][0]']      \n",
      " n)                                                                                               \n",
      "                                                                                                  \n",
      " conv2_block3_2_conv (Conv2D)   (None, 65, 87, 64)   36928       ['conv2_block3_1_relu[0][0]']    \n",
      "                                                                                                  \n",
      " conv2_block3_2_bn (BatchNormal  (None, 65, 87, 64)  256         ['conv2_block3_2_conv[0][0]']    \n",
      " ization)                                                                                         \n",
      "                                                                                                  \n",
      " conv2_block3_2_relu (Activatio  (None, 65, 87, 64)  0           ['conv2_block3_2_bn[0][0]']      \n",
      " n)                                                                                               \n",
      "                                                                                                  \n",
      " conv2_block3_3_conv (Conv2D)   (None, 65, 87, 256)  16640       ['conv2_block3_2_relu[0][0]']    \n",
      "                                                                                                  \n",
      " conv2_block3_3_bn (BatchNormal  (None, 65, 87, 256)  1024       ['conv2_block3_3_conv[0][0]']    \n",
      " ization)                                                                                         \n",
      "                                                                                                  \n",
      " conv2_block3_add (Add)         (None, 65, 87, 256)  0           ['conv2_block2_out[0][0]',       \n",
      "                                                                  'conv2_block3_3_bn[0][0]']      \n",
      "                                                                                                  \n",
      " conv2_block3_out (Activation)  (None, 65, 87, 256)  0           ['conv2_block3_add[0][0]']       \n",
      "                                                                                                  \n",
      " conv3_block1_1_conv (Conv2D)   (None, 33, 44, 128)  32896       ['conv2_block3_out[0][0]']       \n",
      "                                                                                                  \n",
      " conv3_block1_1_bn (BatchNormal  (None, 33, 44, 128)  512        ['conv3_block1_1_conv[0][0]']    \n",
      " ization)                                                                                         \n",
      "                                                                                                  \n",
      " conv3_block1_1_relu (Activatio  (None, 33, 44, 128)  0          ['conv3_block1_1_bn[0][0]']      \n",
      " n)                                                                                               \n",
      "                                                                                                  \n",
      " conv3_block1_2_conv (Conv2D)   (None, 33, 44, 128)  147584      ['conv3_block1_1_relu[0][0]']    \n",
      "                                                                                                  \n",
      " conv3_block1_2_bn (BatchNormal  (None, 33, 44, 128)  512        ['conv3_block1_2_conv[0][0]']    \n",
      " ization)                                                                                         \n",
      "                                                                                                  \n",
      " conv3_block1_2_relu (Activatio  (None, 33, 44, 128)  0          ['conv3_block1_2_bn[0][0]']      \n",
      " n)                                                                                               \n",
      "                                                                                                  \n",
      " conv3_block1_0_conv (Conv2D)   (None, 33, 44, 512)  131584      ['conv2_block3_out[0][0]']       \n",
      "                                                                                                  \n",
      " conv3_block1_3_conv (Conv2D)   (None, 33, 44, 512)  66048       ['conv3_block1_2_relu[0][0]']    \n",
      "                                                                                                  \n",
      " conv3_block1_0_bn (BatchNormal  (None, 33, 44, 512)  2048       ['conv3_block1_0_conv[0][0]']    \n",
      " ization)                                                                                         \n",
      "                                                                                                  \n",
      " conv3_block1_3_bn (BatchNormal  (None, 33, 44, 512)  2048       ['conv3_block1_3_conv[0][0]']    \n",
      " ization)                                                                                         \n",
      "                                                                                                  \n",
      " conv3_block1_add (Add)         (None, 33, 44, 512)  0           ['conv3_block1_0_bn[0][0]',      \n",
      "                                                                  'conv3_block1_3_bn[0][0]']      \n",
      "                                                                                                  \n",
      " conv3_block1_out (Activation)  (None, 33, 44, 512)  0           ['conv3_block1_add[0][0]']       \n",
      "                                                                                                  \n",
      " conv3_block2_1_conv (Conv2D)   (None, 33, 44, 128)  65664       ['conv3_block1_out[0][0]']       \n",
      "                                                                                                  \n",
      " conv3_block2_1_bn (BatchNormal  (None, 33, 44, 128)  512        ['conv3_block2_1_conv[0][0]']    \n",
      " ization)                                                                                         \n",
      "                                                                                                  \n",
      " conv3_block2_1_relu (Activatio  (None, 33, 44, 128)  0          ['conv3_block2_1_bn[0][0]']      \n",
      " n)                                                                                               \n",
      "                                                                                                  \n",
      " conv3_block2_2_conv (Conv2D)   (None, 33, 44, 128)  147584      ['conv3_block2_1_relu[0][0]']    \n",
      "                                                                                                  \n",
      " conv3_block2_2_bn (BatchNormal  (None, 33, 44, 128)  512        ['conv3_block2_2_conv[0][0]']    \n",
      " ization)                                                                                         \n",
      "                                                                                                  \n",
      " conv3_block2_2_relu (Activatio  (None, 33, 44, 128)  0          ['conv3_block2_2_bn[0][0]']      \n",
      " n)                                                                                               \n",
      "                                                                                                  \n",
      " conv3_block2_3_conv (Conv2D)   (None, 33, 44, 512)  66048       ['conv3_block2_2_relu[0][0]']    \n",
      "                                                                                                  \n",
      " conv3_block2_3_bn (BatchNormal  (None, 33, 44, 512)  2048       ['conv3_block2_3_conv[0][0]']    \n",
      " ization)                                                                                         \n",
      "                                                                                                  \n",
      " conv3_block2_add (Add)         (None, 33, 44, 512)  0           ['conv3_block1_out[0][0]',       \n",
      "                                                                  'conv3_block2_3_bn[0][0]']      \n",
      "                                                                                                  \n",
      " conv3_block2_out (Activation)  (None, 33, 44, 512)  0           ['conv3_block2_add[0][0]']       \n",
      "                                                                                                  \n",
      " conv3_block3_1_conv (Conv2D)   (None, 33, 44, 128)  65664       ['conv3_block2_out[0][0]']       \n",
      "                                                                                                  \n",
      " conv3_block3_1_bn (BatchNormal  (None, 33, 44, 128)  512        ['conv3_block3_1_conv[0][0]']    \n",
      " ization)                                                                                         \n"
     ]
    },
    {
     "name": "stdout",
     "output_type": "stream",
     "text": [
      "                                                                                                  \n",
      " conv3_block3_1_relu (Activatio  (None, 33, 44, 128)  0          ['conv3_block3_1_bn[0][0]']      \n",
      " n)                                                                                               \n",
      "                                                                                                  \n",
      " conv3_block3_2_conv (Conv2D)   (None, 33, 44, 128)  147584      ['conv3_block3_1_relu[0][0]']    \n",
      "                                                                                                  \n",
      " conv3_block3_2_bn (BatchNormal  (None, 33, 44, 128)  512        ['conv3_block3_2_conv[0][0]']    \n",
      " ization)                                                                                         \n",
      "                                                                                                  \n",
      " conv3_block3_2_relu (Activatio  (None, 33, 44, 128)  0          ['conv3_block3_2_bn[0][0]']      \n",
      " n)                                                                                               \n",
      "                                                                                                  \n",
      " conv3_block3_3_conv (Conv2D)   (None, 33, 44, 512)  66048       ['conv3_block3_2_relu[0][0]']    \n",
      "                                                                                                  \n",
      " conv3_block3_3_bn (BatchNormal  (None, 33, 44, 512)  2048       ['conv3_block3_3_conv[0][0]']    \n",
      " ization)                                                                                         \n",
      "                                                                                                  \n",
      " conv3_block3_add (Add)         (None, 33, 44, 512)  0           ['conv3_block2_out[0][0]',       \n",
      "                                                                  'conv3_block3_3_bn[0][0]']      \n",
      "                                                                                                  \n",
      " conv3_block3_out (Activation)  (None, 33, 44, 512)  0           ['conv3_block3_add[0][0]']       \n",
      "                                                                                                  \n",
      " conv3_block4_1_conv (Conv2D)   (None, 33, 44, 128)  65664       ['conv3_block3_out[0][0]']       \n",
      "                                                                                                  \n",
      " conv3_block4_1_bn (BatchNormal  (None, 33, 44, 128)  512        ['conv3_block4_1_conv[0][0]']    \n",
      " ization)                                                                                         \n",
      "                                                                                                  \n",
      " conv3_block4_1_relu (Activatio  (None, 33, 44, 128)  0          ['conv3_block4_1_bn[0][0]']      \n",
      " n)                                                                                               \n",
      "                                                                                                  \n",
      " conv3_block4_2_conv (Conv2D)   (None, 33, 44, 128)  147584      ['conv3_block4_1_relu[0][0]']    \n",
      "                                                                                                  \n",
      " conv3_block4_2_bn (BatchNormal  (None, 33, 44, 128)  512        ['conv3_block4_2_conv[0][0]']    \n",
      " ization)                                                                                         \n",
      "                                                                                                  \n",
      " conv3_block4_2_relu (Activatio  (None, 33, 44, 128)  0          ['conv3_block4_2_bn[0][0]']      \n",
      " n)                                                                                               \n",
      "                                                                                                  \n",
      " conv3_block4_3_conv (Conv2D)   (None, 33, 44, 512)  66048       ['conv3_block4_2_relu[0][0]']    \n",
      "                                                                                                  \n",
      " conv3_block4_3_bn (BatchNormal  (None, 33, 44, 512)  2048       ['conv3_block4_3_conv[0][0]']    \n",
      " ization)                                                                                         \n",
      "                                                                                                  \n",
      " conv3_block4_add (Add)         (None, 33, 44, 512)  0           ['conv3_block3_out[0][0]',       \n",
      "                                                                  'conv3_block4_3_bn[0][0]']      \n",
      "                                                                                                  \n",
      " conv3_block4_out (Activation)  (None, 33, 44, 512)  0           ['conv3_block4_add[0][0]']       \n",
      "                                                                                                  \n",
      " conv4_block1_1_conv (Conv2D)   (None, 17, 22, 256)  131328      ['conv3_block4_out[0][0]']       \n",
      "                                                                                                  \n",
      " conv4_block1_1_bn (BatchNormal  (None, 17, 22, 256)  1024       ['conv4_block1_1_conv[0][0]']    \n",
      " ization)                                                                                         \n",
      "                                                                                                  \n",
      " conv4_block1_1_relu (Activatio  (None, 17, 22, 256)  0          ['conv4_block1_1_bn[0][0]']      \n",
      " n)                                                                                               \n",
      "                                                                                                  \n",
      " conv4_block1_2_conv (Conv2D)   (None, 17, 22, 256)  590080      ['conv4_block1_1_relu[0][0]']    \n",
      "                                                                                                  \n",
      " conv4_block1_2_bn (BatchNormal  (None, 17, 22, 256)  1024       ['conv4_block1_2_conv[0][0]']    \n",
      " ization)                                                                                         \n",
      "                                                                                                  \n",
      " conv4_block1_2_relu (Activatio  (None, 17, 22, 256)  0          ['conv4_block1_2_bn[0][0]']      \n",
      " n)                                                                                               \n",
      "                                                                                                  \n",
      " conv4_block1_0_conv (Conv2D)   (None, 17, 22, 1024  525312      ['conv3_block4_out[0][0]']       \n",
      "                                )                                                                 \n",
      "                                                                                                  \n",
      " conv4_block1_3_conv (Conv2D)   (None, 17, 22, 1024  263168      ['conv4_block1_2_relu[0][0]']    \n",
      "                                )                                                                 \n",
      "                                                                                                  \n",
      " conv4_block1_0_bn (BatchNormal  (None, 17, 22, 1024  4096       ['conv4_block1_0_conv[0][0]']    \n",
      " ization)                       )                                                                 \n",
      "                                                                                                  \n",
      " conv4_block1_3_bn (BatchNormal  (None, 17, 22, 1024  4096       ['conv4_block1_3_conv[0][0]']    \n",
      " ization)                       )                                                                 \n",
      "                                                                                                  \n",
      " conv4_block1_add (Add)         (None, 17, 22, 1024  0           ['conv4_block1_0_bn[0][0]',      \n",
      "                                )                                 'conv4_block1_3_bn[0][0]']      \n",
      "                                                                                                  \n",
      " conv4_block1_out (Activation)  (None, 17, 22, 1024  0           ['conv4_block1_add[0][0]']       \n",
      "                                )                                                                 \n",
      "                                                                                                  \n",
      " conv4_block2_1_conv (Conv2D)   (None, 17, 22, 256)  262400      ['conv4_block1_out[0][0]']       \n"
     ]
    },
    {
     "name": "stdout",
     "output_type": "stream",
     "text": [
      "                                                                                                  \n",
      " conv4_block2_1_bn (BatchNormal  (None, 17, 22, 256)  1024       ['conv4_block2_1_conv[0][0]']    \n",
      " ization)                                                                                         \n",
      "                                                                                                  \n",
      " conv4_block2_1_relu (Activatio  (None, 17, 22, 256)  0          ['conv4_block2_1_bn[0][0]']      \n",
      " n)                                                                                               \n",
      "                                                                                                  \n",
      " conv4_block2_2_conv (Conv2D)   (None, 17, 22, 256)  590080      ['conv4_block2_1_relu[0][0]']    \n",
      "                                                                                                  \n",
      " conv4_block2_2_bn (BatchNormal  (None, 17, 22, 256)  1024       ['conv4_block2_2_conv[0][0]']    \n",
      " ization)                                                                                         \n",
      "                                                                                                  \n",
      " conv4_block2_2_relu (Activatio  (None, 17, 22, 256)  0          ['conv4_block2_2_bn[0][0]']      \n",
      " n)                                                                                               \n",
      "                                                                                                  \n",
      " conv4_block2_3_conv (Conv2D)   (None, 17, 22, 1024  263168      ['conv4_block2_2_relu[0][0]']    \n",
      "                                )                                                                 \n",
      "                                                                                                  \n",
      " conv4_block2_3_bn (BatchNormal  (None, 17, 22, 1024  4096       ['conv4_block2_3_conv[0][0]']    \n",
      " ization)                       )                                                                 \n",
      "                                                                                                  \n",
      " conv4_block2_add (Add)         (None, 17, 22, 1024  0           ['conv4_block1_out[0][0]',       \n",
      "                                )                                 'conv4_block2_3_bn[0][0]']      \n",
      "                                                                                                  \n",
      " conv4_block2_out (Activation)  (None, 17, 22, 1024  0           ['conv4_block2_add[0][0]']       \n",
      "                                )                                                                 \n",
      "                                                                                                  \n",
      " conv4_block3_1_conv (Conv2D)   (None, 17, 22, 256)  262400      ['conv4_block2_out[0][0]']       \n",
      "                                                                                                  \n",
      " conv4_block3_1_bn (BatchNormal  (None, 17, 22, 256)  1024       ['conv4_block3_1_conv[0][0]']    \n",
      " ization)                                                                                         \n",
      "                                                                                                  \n",
      " conv4_block3_1_relu (Activatio  (None, 17, 22, 256)  0          ['conv4_block3_1_bn[0][0]']      \n",
      " n)                                                                                               \n",
      "                                                                                                  \n",
      " conv4_block3_2_conv (Conv2D)   (None, 17, 22, 256)  590080      ['conv4_block3_1_relu[0][0]']    \n",
      "                                                                                                  \n",
      " conv4_block3_2_bn (BatchNormal  (None, 17, 22, 256)  1024       ['conv4_block3_2_conv[0][0]']    \n",
      " ization)                                                                                         \n",
      "                                                                                                  \n",
      " conv4_block3_2_relu (Activatio  (None, 17, 22, 256)  0          ['conv4_block3_2_bn[0][0]']      \n",
      " n)                                                                                               \n",
      "                                                                                                  \n",
      " conv4_block3_3_conv (Conv2D)   (None, 17, 22, 1024  263168      ['conv4_block3_2_relu[0][0]']    \n",
      "                                )                                                                 \n",
      "                                                                                                  \n",
      " conv4_block3_3_bn (BatchNormal  (None, 17, 22, 1024  4096       ['conv4_block3_3_conv[0][0]']    \n",
      " ization)                       )                                                                 \n",
      "                                                                                                  \n",
      " conv4_block3_add (Add)         (None, 17, 22, 1024  0           ['conv4_block2_out[0][0]',       \n",
      "                                )                                 'conv4_block3_3_bn[0][0]']      \n",
      "                                                                                                  \n",
      " conv4_block3_out (Activation)  (None, 17, 22, 1024  0           ['conv4_block3_add[0][0]']       \n",
      "                                )                                                                 \n",
      "                                                                                                  \n",
      " conv4_block4_1_conv (Conv2D)   (None, 17, 22, 256)  262400      ['conv4_block3_out[0][0]']       \n",
      "                                                                                                  \n",
      " conv4_block4_1_bn (BatchNormal  (None, 17, 22, 256)  1024       ['conv4_block4_1_conv[0][0]']    \n",
      " ization)                                                                                         \n",
      "                                                                                                  \n",
      " conv4_block4_1_relu (Activatio  (None, 17, 22, 256)  0          ['conv4_block4_1_bn[0][0]']      \n",
      " n)                                                                                               \n",
      "                                                                                                  \n",
      " conv4_block4_2_conv (Conv2D)   (None, 17, 22, 256)  590080      ['conv4_block4_1_relu[0][0]']    \n",
      "                                                                                                  \n",
      " conv4_block4_2_bn (BatchNormal  (None, 17, 22, 256)  1024       ['conv4_block4_2_conv[0][0]']    \n",
      " ization)                                                                                         \n",
      "                                                                                                  \n",
      " conv4_block4_2_relu (Activatio  (None, 17, 22, 256)  0          ['conv4_block4_2_bn[0][0]']      \n",
      " n)                                                                                               \n",
      "                                                                                                  \n",
      " conv4_block4_3_conv (Conv2D)   (None, 17, 22, 1024  263168      ['conv4_block4_2_relu[0][0]']    \n",
      "                                )                                                                 \n",
      "                                                                                                  \n",
      " conv4_block4_3_bn (BatchNormal  (None, 17, 22, 1024  4096       ['conv4_block4_3_conv[0][0]']    \n",
      " ization)                       )                                                                 \n",
      "                                                                                                  \n",
      " conv4_block4_add (Add)         (None, 17, 22, 1024  0           ['conv4_block3_out[0][0]',       \n",
      "                                )                                 'conv4_block4_3_bn[0][0]']      \n",
      "                                                                                                  \n",
      " conv4_block4_out (Activation)  (None, 17, 22, 1024  0           ['conv4_block4_add[0][0]']       \n",
      "                                )                                                                 \n",
      "                                                                                                  \n"
     ]
    },
    {
     "name": "stdout",
     "output_type": "stream",
     "text": [
      " conv4_block5_1_conv (Conv2D)   (None, 17, 22, 256)  262400      ['conv4_block4_out[0][0]']       \n",
      "                                                                                                  \n",
      " conv4_block5_1_bn (BatchNormal  (None, 17, 22, 256)  1024       ['conv4_block5_1_conv[0][0]']    \n",
      " ization)                                                                                         \n",
      "                                                                                                  \n",
      " conv4_block5_1_relu (Activatio  (None, 17, 22, 256)  0          ['conv4_block5_1_bn[0][0]']      \n",
      " n)                                                                                               \n",
      "                                                                                                  \n",
      " conv4_block5_2_conv (Conv2D)   (None, 17, 22, 256)  590080      ['conv4_block5_1_relu[0][0]']    \n",
      "                                                                                                  \n",
      " conv4_block5_2_bn (BatchNormal  (None, 17, 22, 256)  1024       ['conv4_block5_2_conv[0][0]']    \n",
      " ization)                                                                                         \n",
      "                                                                                                  \n",
      " conv4_block5_2_relu (Activatio  (None, 17, 22, 256)  0          ['conv4_block5_2_bn[0][0]']      \n",
      " n)                                                                                               \n",
      "                                                                                                  \n",
      " conv4_block5_3_conv (Conv2D)   (None, 17, 22, 1024  263168      ['conv4_block5_2_relu[0][0]']    \n",
      "                                )                                                                 \n",
      "                                                                                                  \n",
      " conv4_block5_3_bn (BatchNormal  (None, 17, 22, 1024  4096       ['conv4_block5_3_conv[0][0]']    \n",
      " ization)                       )                                                                 \n",
      "                                                                                                  \n",
      " conv4_block5_add (Add)         (None, 17, 22, 1024  0           ['conv4_block4_out[0][0]',       \n",
      "                                )                                 'conv4_block5_3_bn[0][0]']      \n",
      "                                                                                                  \n",
      " conv4_block5_out (Activation)  (None, 17, 22, 1024  0           ['conv4_block5_add[0][0]']       \n",
      "                                )                                                                 \n",
      "                                                                                                  \n",
      " conv4_block6_1_conv (Conv2D)   (None, 17, 22, 256)  262400      ['conv4_block5_out[0][0]']       \n",
      "                                                                                                  \n",
      " conv4_block6_1_bn (BatchNormal  (None, 17, 22, 256)  1024       ['conv4_block6_1_conv[0][0]']    \n",
      " ization)                                                                                         \n",
      "                                                                                                  \n",
      " conv4_block6_1_relu (Activatio  (None, 17, 22, 256)  0          ['conv4_block6_1_bn[0][0]']      \n",
      " n)                                                                                               \n",
      "                                                                                                  \n",
      " conv4_block6_2_conv (Conv2D)   (None, 17, 22, 256)  590080      ['conv4_block6_1_relu[0][0]']    \n",
      "                                                                                                  \n",
      " conv4_block6_2_bn (BatchNormal  (None, 17, 22, 256)  1024       ['conv4_block6_2_conv[0][0]']    \n",
      " ization)                                                                                         \n",
      "                                                                                                  \n",
      " conv4_block6_2_relu (Activatio  (None, 17, 22, 256)  0          ['conv4_block6_2_bn[0][0]']      \n",
      " n)                                                                                               \n",
      "                                                                                                  \n",
      " conv4_block6_3_conv (Conv2D)   (None, 17, 22, 1024  263168      ['conv4_block6_2_relu[0][0]']    \n",
      "                                )                                                                 \n",
      "                                                                                                  \n",
      " conv4_block6_3_bn (BatchNormal  (None, 17, 22, 1024  4096       ['conv4_block6_3_conv[0][0]']    \n",
      " ization)                       )                                                                 \n",
      "                                                                                                  \n",
      " conv4_block6_add (Add)         (None, 17, 22, 1024  0           ['conv4_block5_out[0][0]',       \n",
      "                                )                                 'conv4_block6_3_bn[0][0]']      \n",
      "                                                                                                  \n",
      " conv4_block6_out (Activation)  (None, 17, 22, 1024  0           ['conv4_block6_add[0][0]']       \n",
      "                                )                                                                 \n",
      "                                                                                                  \n",
      " conv5_block1_1_conv (Conv2D)   (None, 9, 11, 512)   524800      ['conv4_block6_out[0][0]']       \n",
      "                                                                                                  \n",
      " conv5_block1_1_bn (BatchNormal  (None, 9, 11, 512)  2048        ['conv5_block1_1_conv[0][0]']    \n",
      " ization)                                                                                         \n",
      "                                                                                                  \n",
      " conv5_block1_1_relu (Activatio  (None, 9, 11, 512)  0           ['conv5_block1_1_bn[0][0]']      \n",
      " n)                                                                                               \n",
      "                                                                                                  \n",
      " conv5_block1_2_conv (Conv2D)   (None, 9, 11, 512)   2359808     ['conv5_block1_1_relu[0][0]']    \n",
      "                                                                                                  \n",
      " conv5_block1_2_bn (BatchNormal  (None, 9, 11, 512)  2048        ['conv5_block1_2_conv[0][0]']    \n",
      " ization)                                                                                         \n",
      "                                                                                                  \n",
      " conv5_block1_2_relu (Activatio  (None, 9, 11, 512)  0           ['conv5_block1_2_bn[0][0]']      \n",
      " n)                                                                                               \n",
      "                                                                                                  \n",
      " conv5_block1_0_conv (Conv2D)   (None, 9, 11, 2048)  2099200     ['conv4_block6_out[0][0]']       \n",
      "                                                                                                  \n",
      " conv5_block1_3_conv (Conv2D)   (None, 9, 11, 2048)  1050624     ['conv5_block1_2_relu[0][0]']    \n",
      "                                                                                                  \n",
      " conv5_block1_0_bn (BatchNormal  (None, 9, 11, 2048)  8192       ['conv5_block1_0_conv[0][0]']    \n",
      " ization)                                                                                         \n",
      "                                                                                                  \n",
      " conv5_block1_3_bn (BatchNormal  (None, 9, 11, 2048)  8192       ['conv5_block1_3_conv[0][0]']    \n",
      " ization)                                                                                         \n",
      "                                                                                                  \n",
      " conv5_block1_add (Add)         (None, 9, 11, 2048)  0           ['conv5_block1_0_bn[0][0]',      \n"
     ]
    },
    {
     "name": "stdout",
     "output_type": "stream",
     "text": [
      "                                                                  'conv5_block1_3_bn[0][0]']      \n",
      "                                                                                                  \n",
      " conv5_block1_out (Activation)  (None, 9, 11, 2048)  0           ['conv5_block1_add[0][0]']       \n",
      "                                                                                                  \n",
      " conv5_block2_1_conv (Conv2D)   (None, 9, 11, 512)   1049088     ['conv5_block1_out[0][0]']       \n",
      "                                                                                                  \n",
      " conv5_block2_1_bn (BatchNormal  (None, 9, 11, 512)  2048        ['conv5_block2_1_conv[0][0]']    \n",
      " ization)                                                                                         \n",
      "                                                                                                  \n",
      " conv5_block2_1_relu (Activatio  (None, 9, 11, 512)  0           ['conv5_block2_1_bn[0][0]']      \n",
      " n)                                                                                               \n",
      "                                                                                                  \n",
      " conv5_block2_2_conv (Conv2D)   (None, 9, 11, 512)   2359808     ['conv5_block2_1_relu[0][0]']    \n",
      "                                                                                                  \n",
      " conv5_block2_2_bn (BatchNormal  (None, 9, 11, 512)  2048        ['conv5_block2_2_conv[0][0]']    \n",
      " ization)                                                                                         \n",
      "                                                                                                  \n",
      " conv5_block2_2_relu (Activatio  (None, 9, 11, 512)  0           ['conv5_block2_2_bn[0][0]']      \n",
      " n)                                                                                               \n",
      "                                                                                                  \n",
      " conv5_block2_3_conv (Conv2D)   (None, 9, 11, 2048)  1050624     ['conv5_block2_2_relu[0][0]']    \n",
      "                                                                                                  \n",
      " conv5_block2_3_bn (BatchNormal  (None, 9, 11, 2048)  8192       ['conv5_block2_3_conv[0][0]']    \n",
      " ization)                                                                                         \n",
      "                                                                                                  \n",
      " conv5_block2_add (Add)         (None, 9, 11, 2048)  0           ['conv5_block1_out[0][0]',       \n",
      "                                                                  'conv5_block2_3_bn[0][0]']      \n",
      "                                                                                                  \n",
      " conv5_block2_out (Activation)  (None, 9, 11, 2048)  0           ['conv5_block2_add[0][0]']       \n",
      "                                                                                                  \n",
      " conv5_block3_1_conv (Conv2D)   (None, 9, 11, 512)   1049088     ['conv5_block2_out[0][0]']       \n",
      "                                                                                                  \n",
      " conv5_block3_1_bn (BatchNormal  (None, 9, 11, 512)  2048        ['conv5_block3_1_conv[0][0]']    \n",
      " ization)                                                                                         \n",
      "                                                                                                  \n",
      " conv5_block3_1_relu (Activatio  (None, 9, 11, 512)  0           ['conv5_block3_1_bn[0][0]']      \n",
      " n)                                                                                               \n",
      "                                                                                                  \n",
      " conv5_block3_2_conv (Conv2D)   (None, 9, 11, 512)   2359808     ['conv5_block3_1_relu[0][0]']    \n",
      "                                                                                                  \n",
      " conv5_block3_2_bn (BatchNormal  (None, 9, 11, 512)  2048        ['conv5_block3_2_conv[0][0]']    \n",
      " ization)                                                                                         \n",
      "                                                                                                  \n",
      " conv5_block3_2_relu (Activatio  (None, 9, 11, 512)  0           ['conv5_block3_2_bn[0][0]']      \n",
      " n)                                                                                               \n",
      "                                                                                                  \n",
      " conv5_block3_3_conv (Conv2D)   (None, 9, 11, 2048)  1050624     ['conv5_block3_2_relu[0][0]']    \n",
      "                                                                                                  \n",
      " conv5_block3_3_bn (BatchNormal  (None, 9, 11, 2048)  8192       ['conv5_block3_3_conv[0][0]']    \n",
      " ization)                                                                                         \n",
      "                                                                                                  \n",
      " conv5_block3_add (Add)         (None, 9, 11, 2048)  0           ['conv5_block2_out[0][0]',       \n",
      "                                                                  'conv5_block3_3_bn[0][0]']      \n",
      "                                                                                                  \n",
      " conv5_block3_out (Activation)  (None, 9, 11, 2048)  0           ['conv5_block3_add[0][0]']       \n",
      "                                                                                                  \n",
      " avg_pool (GlobalAveragePooling  (None, 2048)        0           ['conv5_block3_out[0][0]']       \n",
      " 2D)                                                                                              \n",
      "                                                                                                  \n",
      " dense_14 (Dense)               (None, 512)          1049088     ['avg_pool[0][0]']               \n",
      "                                                                                                  \n",
      " dropout_7 (Dropout)            (None, 512)          0           ['dense_14[0][0]']               \n",
      "                                                                                                  \n",
      " dense_15 (Dense)               (None, 4)            2052        ['dropout_7[0][0]']              \n",
      "                                                                                                  \n",
      "==================================================================================================\n",
      "Total params: 24,638,852\n",
      "Trainable params: 1,051,140\n",
      "Non-trainable params: 23,587,712\n",
      "__________________________________________________________________________________________________\n"
     ]
    }
   ],
   "source": [
    "resnet50 = Model(inputs=resnet50_head.inputs[0], outputs=outputs)\n",
    "resnet50.summary()"
   ]
  },
  {
   "cell_type": "code",
   "execution_count": null,
   "id": "c06b3b33",
   "metadata": {},
   "outputs": [],
   "source": [
    "number_of_epochs = 100\n",
    "\n",
    "# Learning rate scheduling: warm-up and linear decay\n",
    "def scheduler(epoch, lr):\n",
    "    warmup_epochs = 1\n",
    "    decay_epochs = number_of_epochs - warmup_epochs\n",
    "    if epoch < warmup_epochs:\n",
    "        return lr * (epoch + 1) / warmup_epochs\n",
    "    else:\n",
    "        return lr * (1 - (epoch - warmup_epochs) / decay_epochs)\n",
    "\n",
    "# Model checkpoint callback\n",
    "checkpoint_filepath = './models/resnet50_pretrained_onlytrain_dense'\n",
    "model_checkpoint_callback = tf.keras.callbacks.ModelCheckpoint(\n",
    "    filepath=checkpoint_filepath,\n",
    "    save_weights_only=False,\n",
    "    monitor='val_accuracy',\n",
    "    mode='max',\n",
    "    save_best_only=True)\n",
    "\n",
    "# Early Stopping callback\n",
    "es = EarlyStopping(\n",
    "    monitor='val_loss', # You can monitor validation loss or validation accuracy\n",
    "    patience=30, # Number of epochs with no improvement after which training will be stopped\n",
    "    restore_best_weights=True, # Restore the best weights found during training\n",
    "    verbose=1\n",
    ")\n",
    "\n",
    "# Learning rate scheduler callback\n",
    "lr_callback = LearningRateScheduler(scheduler, verbose=1)"
   ]
  },
  {
   "cell_type": "code",
   "execution_count": 126,
   "id": "fffcdc73",
   "metadata": {},
   "outputs": [],
   "source": [
    "# Compiling the model\n",
    "resnet50.compile(loss='sparse_categorical_crossentropy',\n",
    "              optimizer=optimizers.Adam(learning_rate=1e-4),\n",
    "              metrics=['accuracy'])"
   ]
  },
  {
   "cell_type": "code",
   "execution_count": 50,
   "id": "b241281b",
   "metadata": {
    "scrolled": true
   },
   "outputs": [
    {
     "name": "stdout",
     "output_type": "stream",
     "text": [
      "CPU times: user 4 µs, sys: 0 ns, total: 4 µs\n",
      "Wall time: 8.82 µs\n",
      "Epoch 1/100\n",
      "50/50 [==============================] - 39s 786ms/step - loss: 0.5954 - accuracy: 0.7719 - val_loss: 0.7777 - val_accuracy: 0.6737\n",
      "Epoch 2/100\n",
      "50/50 [==============================] - 40s 796ms/step - loss: 0.5942 - accuracy: 0.7691 - val_loss: 0.7957 - val_accuracy: 0.6606\n",
      "Epoch 3/100\n",
      "50/50 [==============================] - 41s 813ms/step - loss: 0.6035 - accuracy: 0.7619 - val_loss: 0.8140 - val_accuracy: 0.6544\n",
      "Epoch 4/100\n",
      "50/50 [==============================] - 42s 833ms/step - loss: 0.5958 - accuracy: 0.7669 - val_loss: 0.7724 - val_accuracy: 0.6806\n",
      "Epoch 5/100\n",
      "50/50 [==============================] - 41s 831ms/step - loss: 0.5875 - accuracy: 0.7739 - val_loss: 0.7879 - val_accuracy: 0.6650\n",
      "Epoch 6/100\n",
      "50/50 [==============================] - 41s 827ms/step - loss: 0.5903 - accuracy: 0.7678 - val_loss: 0.7954 - val_accuracy: 0.6619\n",
      "Epoch 7/100\n",
      "50/50 [==============================] - 41s 825ms/step - loss: 0.5971 - accuracy: 0.7619 - val_loss: 0.8008 - val_accuracy: 0.6544\n",
      "Epoch 8/100\n",
      "50/50 [==============================] - 41s 824ms/step - loss: 0.5930 - accuracy: 0.7689 - val_loss: 0.8094 - val_accuracy: 0.6513\n",
      "Epoch 9/100\n",
      "50/50 [==============================] - 41s 822ms/step - loss: 0.5859 - accuracy: 0.7744 - val_loss: 0.7964 - val_accuracy: 0.6612\n",
      "Epoch 10/100\n",
      "50/50 [==============================] - 41s 824ms/step - loss: 0.5910 - accuracy: 0.7691 - val_loss: 0.7851 - val_accuracy: 0.6694\n",
      "Epoch 11/100\n",
      "50/50 [==============================] - 42s 832ms/step - loss: 0.5930 - accuracy: 0.7683 - val_loss: 0.7917 - val_accuracy: 0.6644\n",
      "Epoch 12/100\n",
      "50/50 [==============================] - 41s 824ms/step - loss: 0.5866 - accuracy: 0.7694 - val_loss: 0.7808 - val_accuracy: 0.6737\n",
      "Epoch 13/100\n",
      "50/50 [==============================] - 41s 822ms/step - loss: 0.5858 - accuracy: 0.7738 - val_loss: 0.7865 - val_accuracy: 0.6681\n",
      "Epoch 14/100\n",
      "50/50 [==============================] - 41s 829ms/step - loss: 0.5824 - accuracy: 0.7706 - val_loss: 0.7775 - val_accuracy: 0.6731\n",
      "Epoch 15/100\n",
      "50/50 [==============================] - 42s 832ms/step - loss: 0.5839 - accuracy: 0.7722 - val_loss: 0.7786 - val_accuracy: 0.6737\n",
      "Epoch 16/100\n",
      "50/50 [==============================] - 42s 835ms/step - loss: 0.5883 - accuracy: 0.7719 - val_loss: 0.7764 - val_accuracy: 0.6744\n",
      "Epoch 17/100\n",
      "50/50 [==============================] - 42s 833ms/step - loss: 0.5885 - accuracy: 0.7697 - val_loss: 0.7908 - val_accuracy: 0.6625\n",
      "Epoch 18/100\n",
      "50/50 [==============================] - 41s 826ms/step - loss: 0.5898 - accuracy: 0.7639 - val_loss: 0.8066 - val_accuracy: 0.6581\n",
      "Epoch 19/100\n",
      "50/50 [==============================] - ETA: 0s - loss: 0.5838 - accuracy: 0.7734"
     ]
    },
    {
     "name": "stderr",
     "output_type": "stream",
     "text": [
      "2023-04-22 22:42:33.383717: I tensorflow/core/common_runtime/executor.cc:1197] [/device:CPU:0] (DEBUG INFO) Executor start aborting (this does not indicate an error and you can ignore this message): INVALID_ARGUMENT: You must feed a value for placeholder tensor 'inputs' with dtype float and shape [?,512]\n",
      "\t [[{{node inputs}}]]\n",
      "2023-04-22 22:42:38.377720: I tensorflow/core/common_runtime/executor.cc:1197] [/device:CPU:0] (DEBUG INFO) Executor start aborting (this does not indicate an error and you can ignore this message): INVALID_ARGUMENT: You must feed a value for placeholder tensor 'inputs' with dtype float and shape [?,512]\n",
      "\t [[{{node inputs}}]]\n",
      "WARNING:absl:Found untraced functions such as _jit_compiled_convolution_op, _jit_compiled_convolution_op, _jit_compiled_convolution_op, _jit_compiled_convolution_op, _jit_compiled_convolution_op while saving (showing 5 of 53). These functions will not be directly callable after loading.\n"
     ]
    },
    {
     "name": "stdout",
     "output_type": "stream",
     "text": [
      "INFO:tensorflow:Assets written to: ./models/resnet50_pretrained_onlytrain_dense/assets\n"
     ]
    },
    {
     "name": "stderr",
     "output_type": "stream",
     "text": [
      "INFO:tensorflow:Assets written to: ./models/resnet50_pretrained_onlytrain_dense/assets\n"
     ]
    },
    {
     "name": "stdout",
     "output_type": "stream",
     "text": [
      "50/50 [==============================] - 57s 1s/step - loss: 0.5838 - accuracy: 0.7734 - val_loss: 0.7669 - val_accuracy: 0.6850\n",
      "Epoch 20/100\n",
      "50/50 [==============================] - 41s 819ms/step - loss: 0.5817 - accuracy: 0.7731 - val_loss: 0.7965 - val_accuracy: 0.6600\n",
      "Epoch 21/100\n",
      "50/50 [==============================] - 42s 834ms/step - loss: 0.5840 - accuracy: 0.7703 - val_loss: 0.7695 - val_accuracy: 0.6806\n",
      "Epoch 22/100\n",
      "50/50 [==============================] - 41s 821ms/step - loss: 0.5899 - accuracy: 0.7642 - val_loss: 0.7851 - val_accuracy: 0.6675\n",
      "Epoch 23/100\n",
      "50/50 [==============================] - 41s 823ms/step - loss: 0.5854 - accuracy: 0.7694 - val_loss: 0.7797 - val_accuracy: 0.6687\n",
      "Epoch 24/100\n",
      "50/50 [==============================] - 42s 836ms/step - loss: 0.5790 - accuracy: 0.7789 - val_loss: 0.7708 - val_accuracy: 0.6825\n",
      "Epoch 25/100\n",
      "50/50 [==============================] - 41s 832ms/step - loss: 0.5776 - accuracy: 0.7753 - val_loss: 0.7891 - val_accuracy: 0.6600\n",
      "Epoch 26/100\n",
      "50/50 [==============================] - 41s 815ms/step - loss: 0.5802 - accuracy: 0.7730 - val_loss: 0.7698 - val_accuracy: 0.6812\n",
      "Epoch 27/100\n",
      "50/50 [==============================] - 42s 834ms/step - loss: 0.5737 - accuracy: 0.7769 - val_loss: 0.7762 - val_accuracy: 0.6744\n",
      "Epoch 28/100\n",
      "50/50 [==============================] - 42s 832ms/step - loss: 0.5814 - accuracy: 0.7713 - val_loss: 0.7734 - val_accuracy: 0.6762\n",
      "Epoch 29/100\n",
      "50/50 [==============================] - 41s 831ms/step - loss: 0.5768 - accuracy: 0.7727 - val_loss: 0.7815 - val_accuracy: 0.6731\n",
      "Epoch 30/100\n",
      "50/50 [==============================] - 41s 830ms/step - loss: 0.5728 - accuracy: 0.7759 - val_loss: 0.7881 - val_accuracy: 0.6650\n",
      "Epoch 31/100\n",
      "50/50 [==============================] - 42s 832ms/step - loss: 0.5705 - accuracy: 0.7766 - val_loss: 0.7639 - val_accuracy: 0.6837\n",
      "Epoch 32/100\n",
      "50/50 [==============================] - 41s 830ms/step - loss: 0.5744 - accuracy: 0.7736 - val_loss: 0.7733 - val_accuracy: 0.6769\n",
      "Epoch 33/100\n",
      "50/50 [==============================] - 41s 829ms/step - loss: 0.5727 - accuracy: 0.7723 - val_loss: 0.7796 - val_accuracy: 0.6719\n",
      "Epoch 34/100\n",
      "50/50 [==============================] - 41s 830ms/step - loss: 0.5709 - accuracy: 0.7809 - val_loss: 0.7635 - val_accuracy: 0.6850\n",
      "Epoch 35/100\n",
      "50/50 [==============================] - 41s 828ms/step - loss: 0.5722 - accuracy: 0.7786 - val_loss: 0.7909 - val_accuracy: 0.6637\n",
      "Epoch 36/100\n",
      "50/50 [==============================] - ETA: 0s - loss: 0.5696 - accuracy: 0.7780"
     ]
    },
    {
     "name": "stderr",
     "output_type": "stream",
     "text": [
      "2023-04-22 22:55:51.373214: I tensorflow/core/common_runtime/executor.cc:1197] [/device:CPU:0] (DEBUG INFO) Executor start aborting (this does not indicate an error and you can ignore this message): INVALID_ARGUMENT: You must feed a value for placeholder tensor 'inputs' with dtype float and shape [?,512]\n",
      "\t [[{{node inputs}}]]\n",
      "2023-04-22 22:55:56.798358: I tensorflow/core/common_runtime/executor.cc:1197] [/device:CPU:0] (DEBUG INFO) Executor start aborting (this does not indicate an error and you can ignore this message): INVALID_ARGUMENT: You must feed a value for placeholder tensor 'inputs' with dtype float and shape [?,512]\n",
      "\t [[{{node inputs}}]]\n",
      "WARNING:absl:Found untraced functions such as _jit_compiled_convolution_op, _jit_compiled_convolution_op, _jit_compiled_convolution_op, _jit_compiled_convolution_op, _jit_compiled_convolution_op while saving (showing 5 of 53). These functions will not be directly callable after loading.\n"
     ]
    },
    {
     "name": "stdout",
     "output_type": "stream",
     "text": [
      "INFO:tensorflow:Assets written to: ./models/resnet50_pretrained_onlytrain_dense/assets\n"
     ]
    },
    {
     "name": "stderr",
     "output_type": "stream",
     "text": [
      "INFO:tensorflow:Assets written to: ./models/resnet50_pretrained_onlytrain_dense/assets\n"
     ]
    },
    {
     "name": "stdout",
     "output_type": "stream",
     "text": [
      "50/50 [==============================] - 56s 1s/step - loss: 0.5696 - accuracy: 0.7780 - val_loss: 0.7581 - val_accuracy: 0.6931\n",
      "Epoch 37/100\n",
      "50/50 [==============================] - 41s 822ms/step - loss: 0.5672 - accuracy: 0.7825 - val_loss: 0.7759 - val_accuracy: 0.6794\n",
      "Epoch 38/100\n",
      "50/50 [==============================] - 42s 835ms/step - loss: 0.5795 - accuracy: 0.7697 - val_loss: 0.7739 - val_accuracy: 0.6725\n",
      "Epoch 39/100\n",
      "50/50 [==============================] - 41s 825ms/step - loss: 0.5729 - accuracy: 0.7786 - val_loss: 0.7932 - val_accuracy: 0.6600\n",
      "Epoch 40/100\n",
      "50/50 [==============================] - 41s 822ms/step - loss: 0.5705 - accuracy: 0.7789 - val_loss: 0.7764 - val_accuracy: 0.6731\n",
      "Epoch 41/100\n",
      "50/50 [==============================] - 41s 832ms/step - loss: 0.5723 - accuracy: 0.7703 - val_loss: 0.7780 - val_accuracy: 0.6725\n",
      "Epoch 42/100\n",
      "50/50 [==============================] - 41s 830ms/step - loss: 0.5675 - accuracy: 0.7780 - val_loss: 0.7715 - val_accuracy: 0.6850\n",
      "Epoch 43/100\n",
      "50/50 [==============================] - 41s 825ms/step - loss: 0.5675 - accuracy: 0.7794 - val_loss: 0.7711 - val_accuracy: 0.6769\n",
      "Epoch 44/100\n",
      "50/50 [==============================] - 41s 825ms/step - loss: 0.5671 - accuracy: 0.7794 - val_loss: 0.7731 - val_accuracy: 0.6756\n",
      "Epoch 45/100\n",
      "50/50 [==============================] - ETA: 0s - loss: 0.5679 - accuracy: 0.7833"
     ]
    },
    {
     "name": "stderr",
     "output_type": "stream",
     "text": [
      "2023-04-22 23:02:19.025128: I tensorflow/core/common_runtime/executor.cc:1197] [/device:CPU:0] (DEBUG INFO) Executor start aborting (this does not indicate an error and you can ignore this message): INVALID_ARGUMENT: You must feed a value for placeholder tensor 'inputs' with dtype float and shape [?,512]\n",
      "\t [[{{node inputs}}]]\n",
      "2023-04-22 23:02:23.737756: I tensorflow/core/common_runtime/executor.cc:1197] [/device:CPU:0] (DEBUG INFO) Executor start aborting (this does not indicate an error and you can ignore this message): INVALID_ARGUMENT: You must feed a value for placeholder tensor 'inputs' with dtype float and shape [?,512]\n",
      "\t [[{{node inputs}}]]\n",
      "WARNING:absl:Found untraced functions such as _jit_compiled_convolution_op, _jit_compiled_convolution_op, _jit_compiled_convolution_op, _jit_compiled_convolution_op, _jit_compiled_convolution_op while saving (showing 5 of 53). These functions will not be directly callable after loading.\n"
     ]
    },
    {
     "name": "stdout",
     "output_type": "stream",
     "text": [
      "INFO:tensorflow:Assets written to: ./models/resnet50_pretrained_onlytrain_dense/assets\n"
     ]
    },
    {
     "name": "stderr",
     "output_type": "stream",
     "text": [
      "INFO:tensorflow:Assets written to: ./models/resnet50_pretrained_onlytrain_dense/assets\n"
     ]
    },
    {
     "name": "stdout",
     "output_type": "stream",
     "text": [
      "50/50 [==============================] - 57s 1s/step - loss: 0.5679 - accuracy: 0.7833 - val_loss: 0.7557 - val_accuracy: 0.6938\n",
      "Epoch 46/100\n",
      "50/50 [==============================] - 41s 824ms/step - loss: 0.5619 - accuracy: 0.7812 - val_loss: 0.7623 - val_accuracy: 0.6938\n",
      "Epoch 47/100\n",
      "50/50 [==============================] - 42s 833ms/step - loss: 0.5713 - accuracy: 0.7758 - val_loss: 0.7730 - val_accuracy: 0.6744\n",
      "Epoch 48/100\n",
      "50/50 [==============================] - 41s 822ms/step - loss: 0.5623 - accuracy: 0.7825 - val_loss: 0.7695 - val_accuracy: 0.6825\n",
      "Epoch 49/100\n",
      "50/50 [==============================] - 41s 827ms/step - loss: 0.5646 - accuracy: 0.7791 - val_loss: 0.7599 - val_accuracy: 0.6900\n",
      "Epoch 50/100\n",
      "50/50 [==============================] - ETA: 0s - loss: 0.5597 - accuracy: 0.7873"
     ]
    },
    {
     "name": "stderr",
     "output_type": "stream",
     "text": [
      "2023-04-22 23:06:01.093543: I tensorflow/core/common_runtime/executor.cc:1197] [/device:CPU:0] (DEBUG INFO) Executor start aborting (this does not indicate an error and you can ignore this message): INVALID_ARGUMENT: You must feed a value for placeholder tensor 'inputs' with dtype float and shape [?,512]\n",
      "\t [[{{node inputs}}]]\n",
      "2023-04-22 23:06:06.176216: I tensorflow/core/common_runtime/executor.cc:1197] [/device:CPU:0] (DEBUG INFO) Executor start aborting (this does not indicate an error and you can ignore this message): INVALID_ARGUMENT: You must feed a value for placeholder tensor 'inputs' with dtype float and shape [?,512]\n",
      "\t [[{{node inputs}}]]\n",
      "WARNING:absl:Found untraced functions such as _jit_compiled_convolution_op, _jit_compiled_convolution_op, _jit_compiled_convolution_op, _jit_compiled_convolution_op, _jit_compiled_convolution_op while saving (showing 5 of 53). These functions will not be directly callable after loading.\n"
     ]
    },
    {
     "name": "stdout",
     "output_type": "stream",
     "text": [
      "INFO:tensorflow:Assets written to: ./models/resnet50_pretrained_onlytrain_dense/assets\n"
     ]
    },
    {
     "name": "stderr",
     "output_type": "stream",
     "text": [
      "INFO:tensorflow:Assets written to: ./models/resnet50_pretrained_onlytrain_dense/assets\n"
     ]
    },
    {
     "name": "stdout",
     "output_type": "stream",
     "text": [
      "50/50 [==============================] - 57s 1s/step - loss: 0.5597 - accuracy: 0.7873 - val_loss: 0.7538 - val_accuracy: 0.6988\n",
      "Epoch 51/100\n",
      "50/50 [==============================] - ETA: 0s - loss: 0.5574 - accuracy: 0.7844"
     ]
    },
    {
     "name": "stderr",
     "output_type": "stream",
     "text": [
      "2023-04-22 23:06:57.885937: I tensorflow/core/common_runtime/executor.cc:1197] [/device:CPU:0] (DEBUG INFO) Executor start aborting (this does not indicate an error and you can ignore this message): INVALID_ARGUMENT: You must feed a value for placeholder tensor 'inputs' with dtype float and shape [?,512]\n",
      "\t [[{{node inputs}}]]\n",
      "2023-04-22 23:07:02.626845: I tensorflow/core/common_runtime/executor.cc:1197] [/device:CPU:0] (DEBUG INFO) Executor start aborting (this does not indicate an error and you can ignore this message): INVALID_ARGUMENT: You must feed a value for placeholder tensor 'inputs' with dtype float and shape [?,512]\n",
      "\t [[{{node inputs}}]]\n",
      "WARNING:absl:Found untraced functions such as _jit_compiled_convolution_op, _jit_compiled_convolution_op, _jit_compiled_convolution_op, _jit_compiled_convolution_op, _jit_compiled_convolution_op while saving (showing 5 of 53). These functions will not be directly callable after loading.\n"
     ]
    },
    {
     "name": "stdout",
     "output_type": "stream",
     "text": [
      "INFO:tensorflow:Assets written to: ./models/resnet50_pretrained_onlytrain_dense/assets\n"
     ]
    },
    {
     "name": "stderr",
     "output_type": "stream",
     "text": [
      "INFO:tensorflow:Assets written to: ./models/resnet50_pretrained_onlytrain_dense/assets\n"
     ]
    },
    {
     "name": "stdout",
     "output_type": "stream",
     "text": [
      "50/50 [==============================] - 57s 1s/step - loss: 0.5574 - accuracy: 0.7844 - val_loss: 0.7509 - val_accuracy: 0.7019\n",
      "Epoch 52/100\n",
      "50/50 [==============================] - 41s 830ms/step - loss: 0.5618 - accuracy: 0.7858 - val_loss: 0.7615 - val_accuracy: 0.6875\n",
      "Epoch 53/100\n",
      "50/50 [==============================] - 41s 827ms/step - loss: 0.5676 - accuracy: 0.7836 - val_loss: 0.7719 - val_accuracy: 0.6775\n",
      "Epoch 54/100\n",
      "50/50 [==============================] - 41s 820ms/step - loss: 0.5609 - accuracy: 0.7783 - val_loss: 0.7657 - val_accuracy: 0.6862\n",
      "Epoch 55/100\n",
      "50/50 [==============================] - 42s 835ms/step - loss: 0.5635 - accuracy: 0.7758 - val_loss: 0.7816 - val_accuracy: 0.6756\n",
      "Epoch 56/100\n",
      "50/50 [==============================] - 41s 829ms/step - loss: 0.5614 - accuracy: 0.7806 - val_loss: 0.7594 - val_accuracy: 0.6875\n",
      "Epoch 57/100\n",
      "50/50 [==============================] - 41s 823ms/step - loss: 0.5564 - accuracy: 0.7820 - val_loss: 0.7860 - val_accuracy: 0.6662\n",
      "Epoch 58/100\n",
      "50/50 [==============================] - 41s 830ms/step - loss: 0.5565 - accuracy: 0.7839 - val_loss: 0.7554 - val_accuracy: 0.6925\n",
      "Epoch 59/100\n",
      "50/50 [==============================] - ETA: 0s - loss: 0.5612 - accuracy: 0.7805"
     ]
    },
    {
     "name": "stderr",
     "output_type": "stream",
     "text": [
      "2023-04-22 23:12:44.110066: I tensorflow/core/common_runtime/executor.cc:1197] [/device:CPU:0] (DEBUG INFO) Executor start aborting (this does not indicate an error and you can ignore this message): INVALID_ARGUMENT: You must feed a value for placeholder tensor 'inputs' with dtype float and shape [?,512]\n",
      "\t [[{{node inputs}}]]\n",
      "2023-04-22 23:12:49.175974: I tensorflow/core/common_runtime/executor.cc:1197] [/device:CPU:0] (DEBUG INFO) Executor start aborting (this does not indicate an error and you can ignore this message): INVALID_ARGUMENT: You must feed a value for placeholder tensor 'inputs' with dtype float and shape [?,512]\n",
      "\t [[{{node inputs}}]]\n",
      "WARNING:absl:Found untraced functions such as _jit_compiled_convolution_op, _jit_compiled_convolution_op, _jit_compiled_convolution_op, _jit_compiled_convolution_op, _jit_compiled_convolution_op while saving (showing 5 of 53). These functions will not be directly callable after loading.\n"
     ]
    },
    {
     "name": "stdout",
     "output_type": "stream",
     "text": [
      "INFO:tensorflow:Assets written to: ./models/resnet50_pretrained_onlytrain_dense/assets\n"
     ]
    },
    {
     "name": "stderr",
     "output_type": "stream",
     "text": [
      "INFO:tensorflow:Assets written to: ./models/resnet50_pretrained_onlytrain_dense/assets\n"
     ]
    },
    {
     "name": "stdout",
     "output_type": "stream",
     "text": [
      "50/50 [==============================] - 57s 1s/step - loss: 0.5612 - accuracy: 0.7805 - val_loss: 0.7456 - val_accuracy: 0.7094\n",
      "Epoch 60/100\n",
      "50/50 [==============================] - 41s 825ms/step - loss: 0.5518 - accuracy: 0.7883 - val_loss: 0.7559 - val_accuracy: 0.6900\n",
      "Epoch 61/100\n",
      "50/50 [==============================] - 44s 876ms/step - loss: 0.5548 - accuracy: 0.7853 - val_loss: 0.7408 - val_accuracy: 0.7081\n",
      "Epoch 62/100\n",
      "50/50 [==============================] - 41s 826ms/step - loss: 0.5543 - accuracy: 0.7847 - val_loss: 0.7649 - val_accuracy: 0.6844\n",
      "Epoch 63/100\n",
      "50/50 [==============================] - 41s 823ms/step - loss: 0.5461 - accuracy: 0.7870 - val_loss: 0.7544 - val_accuracy: 0.6994\n",
      "Epoch 64/100\n",
      "50/50 [==============================] - 41s 825ms/step - loss: 0.5489 - accuracy: 0.7858 - val_loss: 0.7576 - val_accuracy: 0.6913\n",
      "Epoch 65/100\n",
      "50/50 [==============================] - 41s 832ms/step - loss: 0.5488 - accuracy: 0.7889 - val_loss: 0.7534 - val_accuracy: 0.6988\n",
      "Epoch 66/100\n",
      "50/50 [==============================] - 41s 832ms/step - loss: 0.5506 - accuracy: 0.7891 - val_loss: 0.7590 - val_accuracy: 0.6931\n",
      "Epoch 67/100\n",
      "50/50 [==============================] - 41s 823ms/step - loss: 0.5464 - accuracy: 0.7908 - val_loss: 0.7523 - val_accuracy: 0.6906\n",
      "Epoch 68/100\n",
      "50/50 [==============================] - 41s 822ms/step - loss: 0.5522 - accuracy: 0.7844 - val_loss: 0.7602 - val_accuracy: 0.6862\n",
      "Epoch 69/100\n",
      "50/50 [==============================] - 42s 832ms/step - loss: 0.5495 - accuracy: 0.7881 - val_loss: 0.7554 - val_accuracy: 0.6938\n",
      "Epoch 70/100\n",
      "50/50 [==============================] - ETA: 0s - loss: 0.5482 - accuracy: 0.7837"
     ]
    },
    {
     "name": "stderr",
     "output_type": "stream",
     "text": [
      "2023-04-22 23:20:34.838238: I tensorflow/core/common_runtime/executor.cc:1197] [/device:CPU:0] (DEBUG INFO) Executor start aborting (this does not indicate an error and you can ignore this message): INVALID_ARGUMENT: You must feed a value for placeholder tensor 'inputs' with dtype float and shape [?,512]\n",
      "\t [[{{node inputs}}]]\n",
      "2023-04-22 23:20:40.227961: I tensorflow/core/common_runtime/executor.cc:1197] [/device:CPU:0] (DEBUG INFO) Executor start aborting (this does not indicate an error and you can ignore this message): INVALID_ARGUMENT: You must feed a value for placeholder tensor 'inputs' with dtype float and shape [?,512]\n",
      "\t [[{{node inputs}}]]\n",
      "WARNING:absl:Found untraced functions such as _jit_compiled_convolution_op, _jit_compiled_convolution_op, _jit_compiled_convolution_op, _jit_compiled_convolution_op, _jit_compiled_convolution_op while saving (showing 5 of 53). These functions will not be directly callable after loading.\n"
     ]
    },
    {
     "name": "stdout",
     "output_type": "stream",
     "text": [
      "INFO:tensorflow:Assets written to: ./models/resnet50_pretrained_onlytrain_dense/assets\n"
     ]
    },
    {
     "name": "stderr",
     "output_type": "stream",
     "text": [
      "INFO:tensorflow:Assets written to: ./models/resnet50_pretrained_onlytrain_dense/assets\n"
     ]
    },
    {
     "name": "stdout",
     "output_type": "stream",
     "text": [
      "50/50 [==============================] - 56s 1s/step - loss: 0.5482 - accuracy: 0.7837 - val_loss: 0.7467 - val_accuracy: 0.7131\n",
      "Epoch 71/100\n",
      "50/50 [==============================] - 41s 821ms/step - loss: 0.5471 - accuracy: 0.7905 - val_loss: 0.7519 - val_accuracy: 0.6963\n",
      "Epoch 72/100\n",
      "50/50 [==============================] - 42s 835ms/step - loss: 0.5447 - accuracy: 0.7850 - val_loss: 0.7548 - val_accuracy: 0.7019\n",
      "Epoch 73/100\n",
      "50/50 [==============================] - 41s 832ms/step - loss: 0.5462 - accuracy: 0.7870 - val_loss: 0.7447 - val_accuracy: 0.6981\n",
      "Epoch 74/100\n",
      "50/50 [==============================] - 41s 825ms/step - loss: 0.5496 - accuracy: 0.7872 - val_loss: 0.7392 - val_accuracy: 0.7063\n",
      "Epoch 75/100\n",
      "50/50 [==============================] - 41s 832ms/step - loss: 0.5430 - accuracy: 0.7931 - val_loss: 0.7489 - val_accuracy: 0.6975\n",
      "Epoch 76/100\n",
      "50/50 [==============================] - 41s 830ms/step - loss: 0.5470 - accuracy: 0.7867 - val_loss: 0.7552 - val_accuracy: 0.6925\n",
      "Epoch 77/100\n",
      "50/50 [==============================] - 41s 823ms/step - loss: 0.5449 - accuracy: 0.7872 - val_loss: 0.7476 - val_accuracy: 0.6975\n",
      "Epoch 78/100\n",
      "50/50 [==============================] - 41s 824ms/step - loss: 0.5512 - accuracy: 0.7822 - val_loss: 0.7622 - val_accuracy: 0.6856\n",
      "Epoch 79/100\n",
      "50/50 [==============================] - 41s 831ms/step - loss: 0.5465 - accuracy: 0.7856 - val_loss: 0.7403 - val_accuracy: 0.7063\n",
      "Epoch 80/100\n",
      "50/50 [==============================] - 42s 837ms/step - loss: 0.5444 - accuracy: 0.7906 - val_loss: 0.7405 - val_accuracy: 0.7075\n",
      "Epoch 81/100\n",
      "50/50 [==============================] - 41s 829ms/step - loss: 0.5419 - accuracy: 0.7958 - val_loss: 0.7456 - val_accuracy: 0.6925\n",
      "Epoch 82/100\n",
      "50/50 [==============================] - 41s 818ms/step - loss: 0.5425 - accuracy: 0.7895 - val_loss: 0.7471 - val_accuracy: 0.7000\n",
      "Epoch 83/100\n",
      "50/50 [==============================] - 42s 834ms/step - loss: 0.5401 - accuracy: 0.7881 - val_loss: 0.7436 - val_accuracy: 0.7019\n",
      "Epoch 84/100\n",
      "50/50 [==============================] - 41s 826ms/step - loss: 0.5366 - accuracy: 0.7923 - val_loss: 0.7492 - val_accuracy: 0.6963\n",
      "Epoch 85/100\n",
      "50/50 [==============================] - 41s 822ms/step - loss: 0.5394 - accuracy: 0.7856 - val_loss: 0.7439 - val_accuracy: 0.7044\n",
      "Epoch 86/100\n",
      "50/50 [==============================] - 42s 838ms/step - loss: 0.5430 - accuracy: 0.7856 - val_loss: 0.7368 - val_accuracy: 0.7000\n",
      "Epoch 87/100\n",
      "50/50 [==============================] - 41s 827ms/step - loss: 0.5379 - accuracy: 0.7886 - val_loss: 0.7353 - val_accuracy: 0.7056\n",
      "Epoch 88/100\n",
      "50/50 [==============================] - 41s 822ms/step - loss: 0.5361 - accuracy: 0.7956 - val_loss: 0.7409 - val_accuracy: 0.7088\n",
      "Epoch 89/100\n",
      "50/50 [==============================] - 42s 834ms/step - loss: 0.5346 - accuracy: 0.7937 - val_loss: 0.7401 - val_accuracy: 0.7081\n",
      "Epoch 90/100\n",
      "50/50 [==============================] - 41s 819ms/step - loss: 0.5368 - accuracy: 0.7953 - val_loss: 0.7430 - val_accuracy: 0.6988\n",
      "Epoch 91/100\n",
      "50/50 [==============================] - 41s 825ms/step - loss: 0.5346 - accuracy: 0.7930 - val_loss: 0.7374 - val_accuracy: 0.7069\n",
      "Epoch 92/100\n",
      "50/50 [==============================] - 42s 835ms/step - loss: 0.5364 - accuracy: 0.7859 - val_loss: 0.7303 - val_accuracy: 0.7119\n",
      "Epoch 93/100\n",
      "50/50 [==============================] - 41s 824ms/step - loss: 0.5324 - accuracy: 0.7936 - val_loss: 0.7428 - val_accuracy: 0.7044\n",
      "Epoch 94/100\n",
      "50/50 [==============================] - 41s 824ms/step - loss: 0.5329 - accuracy: 0.7959 - val_loss: 0.7418 - val_accuracy: 0.7025\n",
      "Epoch 95/100\n",
      "50/50 [==============================] - ETA: 0s - loss: 0.5344 - accuracy: 0.7902"
     ]
    },
    {
     "name": "stderr",
     "output_type": "stream",
     "text": [
      "2023-04-22 23:38:03.766488: I tensorflow/core/common_runtime/executor.cc:1197] [/device:CPU:0] (DEBUG INFO) Executor start aborting (this does not indicate an error and you can ignore this message): INVALID_ARGUMENT: You must feed a value for placeholder tensor 'inputs' with dtype float and shape [?,512]\n",
      "\t [[{{node inputs}}]]\n",
      "2023-04-22 23:38:08.499397: I tensorflow/core/common_runtime/executor.cc:1197] [/device:CPU:0] (DEBUG INFO) Executor start aborting (this does not indicate an error and you can ignore this message): INVALID_ARGUMENT: You must feed a value for placeholder tensor 'inputs' with dtype float and shape [?,512]\n",
      "\t [[{{node inputs}}]]\n",
      "WARNING:absl:Found untraced functions such as _jit_compiled_convolution_op, _jit_compiled_convolution_op, _jit_compiled_convolution_op, _jit_compiled_convolution_op, _jit_compiled_convolution_op while saving (showing 5 of 53). These functions will not be directly callable after loading.\n"
     ]
    },
    {
     "name": "stdout",
     "output_type": "stream",
     "text": [
      "INFO:tensorflow:Assets written to: ./models/resnet50_pretrained_onlytrain_dense/assets\n"
     ]
    },
    {
     "name": "stderr",
     "output_type": "stream",
     "text": [
      "INFO:tensorflow:Assets written to: ./models/resnet50_pretrained_onlytrain_dense/assets\n"
     ]
    },
    {
     "name": "stdout",
     "output_type": "stream",
     "text": [
      "50/50 [==============================] - 57s 1s/step - loss: 0.5344 - accuracy: 0.7902 - val_loss: 0.7228 - val_accuracy: 0.7175\n",
      "Epoch 96/100\n",
      "50/50 [==============================] - 41s 827ms/step - loss: 0.5290 - accuracy: 0.7945 - val_loss: 0.7368 - val_accuracy: 0.7163\n",
      "Epoch 97/100\n",
      "50/50 [==============================] - 42s 836ms/step - loss: 0.5308 - accuracy: 0.7941 - val_loss: 0.7326 - val_accuracy: 0.7044\n",
      "Epoch 98/100\n",
      "50/50 [==============================] - 41s 831ms/step - loss: 0.5384 - accuracy: 0.7892 - val_loss: 0.7230 - val_accuracy: 0.7131\n",
      "Epoch 99/100\n",
      "50/50 [==============================] - 41s 826ms/step - loss: 0.5318 - accuracy: 0.7942 - val_loss: 0.7396 - val_accuracy: 0.7038\n",
      "Epoch 100/100\n",
      "50/50 [==============================] - 41s 823ms/step - loss: 0.5268 - accuracy: 0.7942 - val_loss: 0.7453 - val_accuracy: 0.7044\n"
     ]
    },
    {
     "data": {
      "text/plain": [
       "<keras.callbacks.History at 0x7fed0c700b90>"
      ]
     },
     "execution_count": 50,
     "metadata": {},
     "output_type": "execute_result"
    }
   ],
   "source": [
    "##fit \n",
    "%time\n",
    "resnet50.fit(\n",
    "  normalized_train,\n",
    "  validation_data=normalized_val,\n",
    "    epochs=number_of_epochs, \n",
    "    callbacks=[es, model_checkpoint_callback] \n",
    ")"
   ]
  },
  {
   "cell_type": "code",
   "execution_count": 31,
   "id": "f412cea9",
   "metadata": {},
   "outputs": [],
   "source": [
    "# train_loss = resnet50.history.history['loss']\n",
    "# val_loss = resnet50.history.history['val_loss']\n",
    "# train_accu = resnet50.history.history['accuracy']\n",
    "# val_accu = resnet50.history.history['val_accuracy']"
   ]
  },
  {
   "cell_type": "code",
   "execution_count": 47,
   "id": "bd45392a",
   "metadata": {},
   "outputs": [],
   "source": [
    "train_loss = np.concatenate((train_loss, resnet50.history.history['loss']))\n",
    "val_loss = np.concatenate((val_loss, resnet50.history.history['val_loss']))\n",
    "train_accu = np.concatenate((train_accu, resnet50.history.history['accuracy']))\n",
    "val_accu = np.concatenate((val_accu, resnet50.history.history['val_accuracy']))"
   ]
  },
  {
   "cell_type": "code",
   "execution_count": 51,
   "id": "f39fef91",
   "metadata": {},
   "outputs": [
    {
     "name": "stdout",
     "output_type": "stream",
     "text": [
      "0.7174999713897705\n"
     ]
    },
    {
     "data": {
      "image/png": "[encoded data removed]",
      "text/plain": [
       "<Figure size 1000x500 with 2 Axes>"
      ]
     },
     "metadata": {},
     "output_type": "display_data"
    }
   ],
   "source": [
    "fig, ax = plt.subplots(1, 2, figsize=(10, 5))\n",
    "ax[0].plot(range(1, len(train_loss)+1), train_loss, \n",
    "           label='Train Loss');\n",
    "ax[0].plot(range(1, len(val_loss)+1), \n",
    "         val_loss, label='Val Loss');\n",
    "ax[0].grid();\n",
    "ax[0].legend();\n",
    "ax[0].set_xlabel(\"Number of Epochs\");\n",
    "ax[1].plot(range(1, len(train_accu)+1),train_accu,\n",
    "          label = 'Train Accuracy')\n",
    "ax[1].plot(range(1, len(val_accu)+1), val_accu, \n",
    "          label = 'Validation Accuracy')\n",
    "ax[1].grid();\n",
    "ax[1].legend();\n",
    "ax[1].set_xlabel(\"Number of Epochs\");\n",
    "print(max(resnet50.history.history['val_accuracy']))"
   ]
  },
  {
   "cell_type": "code",
   "execution_count": 6,
   "id": "41f6ca1a",
   "metadata": {},
   "outputs": [],
   "source": [
    "##reload the model if necessary\n",
    "#resnet50 = tf.keras.models.load_model(\"./models/pretrained_resnet50\")"
   ]
  },
  {
   "cell_type": "code",
   "execution_count": 128,
   "id": "d71ee679",
   "metadata": {},
   "outputs": [
    {
     "name": "stdout",
     "output_type": "stream",
     "text": [
      "13/13 [==============================] - 9s 581ms/step - loss: 2.2677 - accuracy: 0.7175\n"
     ]
    },
    {
     "data": {
      "text/plain": [
       "[2.2676546573638916, 0.7174999713897705]"
      ]
     },
     "execution_count": 128,
     "metadata": {},
     "output_type": "execute_result"
    }
   ],
   "source": [
    "resnet50.evaluate(normalized_val)"
   ]
  },
  {
   "cell_type": "code",
   "execution_count": 127,
   "id": "c003fef0",
   "metadata": {},
   "outputs": [
    {
     "name": "stderr",
     "output_type": "stream",
     "text": [
      "2023-04-23 17:09:28.372109: W tensorflow/core/util/tensor_slice_reader.cc:97] Could not open ./models/resnet50_pretrained_onlytrain_dense: FAILED_PRECONDITION: models/resnet50_pretrained_onlytrain_dense; Is a directory: perhaps your file is in a different file format and you need to use a different restore operator?\n"
     ]
    },
    {
     "data": {
      "text/plain": [
       "<tensorflow.python.checkpoint.checkpoint.CheckpointLoadStatus at 0x7fed1501a510>"
      ]
     },
     "execution_count": 127,
     "metadata": {},
     "output_type": "execute_result"
    }
   ],
   "source": [
    "resnet50.load_weights(\"./models/resnet50_pretrained_onlytrain_dense\")"
   ]
  },
  {
   "cell_type": "code",
   "execution_count": 129,
   "id": "ff231735",
   "metadata": {},
   "outputs": [],
   "source": [
    "##free the last 4 convolutional layers and their batch norm layers\n",
    "resnet50.layers[-7].trainable = True\n",
    "resnet50.layers[-8].trainable = True\n",
    "resnet50.layers[-10].trainable = True\n",
    "resnet50.layers[-11].trainable= True\n",
    "\n",
    "resnet50.layers[-13].trainable = True\n",
    "resnet50.layers[-14].trainalbe = True\n",
    "resnet50.layers[-17].trainable = True\n",
    "resnet50.layers[-18].trainable = True"
   ]
  },
  {
   "cell_type": "code",
   "execution_count": 130,
   "id": "de7433b2",
   "metadata": {},
   "outputs": [],
   "source": [
    "##recompile using smaller learning rate\n",
    "# Compiling the model fine Tune\n",
    "resnet50.compile(loss='sparse_categorical_crossentropy',\n",
    "              optimizer=optimizers.Adam(learning_rate=1e-5),\n",
    "              metrics=['accuracy'])"
   ]
  },
  {
   "cell_type": "code",
   "execution_count": 131,
   "id": "1f1b46ac",
   "metadata": {},
   "outputs": [
    {
     "name": "stdout",
     "output_type": "stream",
     "text": [
      "CPU times: user 4 µs, sys: 0 ns, total: 4 µs\n",
      "Wall time: 7.87 µs\n",
      "Epoch 1/50\n",
      "50/50 [==============================] - ETA: 0s - loss: 24.3492 - accuracy: 0.3559\n",
      "Epoch 1: val_accuracy improved from -inf to 0.24125, saving model to ./models/pretrained_resnet50_trainlast4convlayers\n"
     ]
    },
    {
     "name": "stderr",
     "output_type": "stream",
     "text": [
      "2023-04-23 17:12:40.111770: I tensorflow/core/common_runtime/executor.cc:1197] [/device:CPU:0] (DEBUG INFO) Executor start aborting (this does not indicate an error and you can ignore this message): INVALID_ARGUMENT: You must feed a value for placeholder tensor 'inputs' with dtype float and shape [?,512]\n",
      "\t [[{{node inputs}}]]\n",
      "2023-04-23 17:12:45.354264: I tensorflow/core/common_runtime/executor.cc:1197] [/device:CPU:0] (DEBUG INFO) Executor start aborting (this does not indicate an error and you can ignore this message): INVALID_ARGUMENT: You must feed a value for placeholder tensor 'inputs' with dtype float and shape [?,512]\n",
      "\t [[{{node inputs}}]]\n",
      "WARNING:absl:Found untraced functions such as _jit_compiled_convolution_op, _jit_compiled_convolution_op, _jit_compiled_convolution_op, _jit_compiled_convolution_op, _jit_compiled_convolution_op while saving (showing 5 of 53). These functions will not be directly callable after loading.\n"
     ]
    },
    {
     "name": "stdout",
     "output_type": "stream",
     "text": [
      "INFO:tensorflow:Assets written to: ./models/pretrained_resnet50_trainlast4convlayers/assets\n"
     ]
    },
    {
     "name": "stderr",
     "output_type": "stream",
     "text": [
      "INFO:tensorflow:Assets written to: ./models/pretrained_resnet50_trainlast4convlayers/assets\n"
     ]
    },
    {
     "name": "stdout",
     "output_type": "stream",
     "text": [
      "50/50 [==============================] - 64s 1s/step - loss: 24.3492 - accuracy: 0.3559 - val_loss: 12.6285 - val_accuracy: 0.2412\n",
      "Epoch 2/50\n",
      "50/50 [==============================] - ETA: 0s - loss: 7.3058 - accuracy: 0.4741\n",
      "Epoch 2: val_accuracy improved from 0.24125 to 0.25438, saving model to ./models/pretrained_resnet50_trainlast4convlayers\n"
     ]
    },
    {
     "name": "stderr",
     "output_type": "stream",
     "text": [
      "2023-04-23 17:13:38.051289: I tensorflow/core/common_runtime/executor.cc:1197] [/device:CPU:0] (DEBUG INFO) Executor start aborting (this does not indicate an error and you can ignore this message): INVALID_ARGUMENT: You must feed a value for placeholder tensor 'inputs' with dtype float and shape [?,512]\n",
      "\t [[{{node inputs}}]]\n",
      "2023-04-23 17:13:43.657250: I tensorflow/core/common_runtime/executor.cc:1197] [/device:CPU:0] (DEBUG INFO) Executor start aborting (this does not indicate an error and you can ignore this message): INVALID_ARGUMENT: You must feed a value for placeholder tensor 'inputs' with dtype float and shape [?,512]\n",
      "\t [[{{node inputs}}]]\n",
      "WARNING:absl:Found untraced functions such as _jit_compiled_convolution_op, _jit_compiled_convolution_op, _jit_compiled_convolution_op, _jit_compiled_convolution_op, _jit_compiled_convolution_op while saving (showing 5 of 53). These functions will not be directly callable after loading.\n"
     ]
    },
    {
     "name": "stdout",
     "output_type": "stream",
     "text": [
      "INFO:tensorflow:Assets written to: ./models/pretrained_resnet50_trainlast4convlayers/assets\n"
     ]
    },
    {
     "name": "stderr",
     "output_type": "stream",
     "text": [
      "INFO:tensorflow:Assets written to: ./models/pretrained_resnet50_trainlast4convlayers/assets\n"
     ]
    },
    {
     "name": "stdout",
     "output_type": "stream",
     "text": [
      "50/50 [==============================] - 58s 1s/step - loss: 7.3058 - accuracy: 0.4741 - val_loss: 17.1499 - val_accuracy: 0.2544\n",
      "Epoch 3/50\n",
      "50/50 [==============================] - ETA: 0s - loss: 5.8248 - accuracy: 0.5261\n",
      "Epoch 3: val_accuracy improved from 0.25438 to 0.28188, saving model to ./models/pretrained_resnet50_trainlast4convlayers\n"
     ]
    },
    {
     "name": "stderr",
     "output_type": "stream",
     "text": [
      "2023-04-23 17:14:37.250438: I tensorflow/core/common_runtime/executor.cc:1197] [/device:CPU:0] (DEBUG INFO) Executor start aborting (this does not indicate an error and you can ignore this message): INVALID_ARGUMENT: You must feed a value for placeholder tensor 'inputs' with dtype float and shape [?,512]\n",
      "\t [[{{node inputs}}]]\n",
      "2023-04-23 17:14:42.005890: I tensorflow/core/common_runtime/executor.cc:1197] [/device:CPU:0] (DEBUG INFO) Executor start aborting (this does not indicate an error and you can ignore this message): INVALID_ARGUMENT: You must feed a value for placeholder tensor 'inputs' with dtype float and shape [?,512]\n",
      "\t [[{{node inputs}}]]\n",
      "WARNING:absl:Found untraced functions such as _jit_compiled_convolution_op, _jit_compiled_convolution_op, _jit_compiled_convolution_op, _jit_compiled_convolution_op, _jit_compiled_convolution_op while saving (showing 5 of 53). These functions will not be directly callable after loading.\n"
     ]
    },
    {
     "name": "stdout",
     "output_type": "stream",
     "text": [
      "INFO:tensorflow:Assets written to: ./models/pretrained_resnet50_trainlast4convlayers/assets\n"
     ]
    },
    {
     "name": "stderr",
     "output_type": "stream",
     "text": [
      "INFO:tensorflow:Assets written to: ./models/pretrained_resnet50_trainlast4convlayers/assets\n"
     ]
    },
    {
     "name": "stdout",
     "output_type": "stream",
     "text": [
      "50/50 [==============================] - 59s 1s/step - loss: 5.8248 - accuracy: 0.5261 - val_loss: 15.6763 - val_accuracy: 0.2819\n",
      "Epoch 4/50\n",
      "50/50 [==============================] - ETA: 0s - loss: 5.0376 - accuracy: 0.5641\n",
      "Epoch 4: val_accuracy improved from 0.28188 to 0.30125, saving model to ./models/pretrained_resnet50_trainlast4convlayers\n"
     ]
    },
    {
     "name": "stderr",
     "output_type": "stream",
     "text": [
      "2023-04-23 17:15:35.337930: I tensorflow/core/common_runtime/executor.cc:1197] [/device:CPU:0] (DEBUG INFO) Executor start aborting (this does not indicate an error and you can ignore this message): INVALID_ARGUMENT: You must feed a value for placeholder tensor 'inputs' with dtype float and shape [?,512]\n",
      "\t [[{{node inputs}}]]\n",
      "2023-04-23 17:15:41.003966: I tensorflow/core/common_runtime/executor.cc:1197] [/device:CPU:0] (DEBUG INFO) Executor start aborting (this does not indicate an error and you can ignore this message): INVALID_ARGUMENT: You must feed a value for placeholder tensor 'inputs' with dtype float and shape [?,512]\n",
      "\t [[{{node inputs}}]]\n",
      "WARNING:absl:Found untraced functions such as _jit_compiled_convolution_op, _jit_compiled_convolution_op, _jit_compiled_convolution_op, _jit_compiled_convolution_op, _jit_compiled_convolution_op while saving (showing 5 of 53). These functions will not be directly callable after loading.\n"
     ]
    },
    {
     "name": "stdout",
     "output_type": "stream",
     "text": [
      "INFO:tensorflow:Assets written to: ./models/pretrained_resnet50_trainlast4convlayers/assets\n"
     ]
    },
    {
     "name": "stderr",
     "output_type": "stream",
     "text": [
      "INFO:tensorflow:Assets written to: ./models/pretrained_resnet50_trainlast4convlayers/assets\n"
     ]
    },
    {
     "name": "stdout",
     "output_type": "stream",
     "text": [
      "50/50 [==============================] - 58s 1s/step - loss: 5.0376 - accuracy: 0.5641 - val_loss: 12.4512 - val_accuracy: 0.3013\n",
      "Epoch 5/50\n",
      "50/50 [==============================] - ETA: 0s - loss: 4.2654 - accuracy: 0.6095\n",
      "Epoch 5: val_accuracy improved from 0.30125 to 0.35688, saving model to ./models/pretrained_resnet50_trainlast4convlayers\n"
     ]
    },
    {
     "name": "stderr",
     "output_type": "stream",
     "text": [
      "2023-04-23 17:16:34.687689: I tensorflow/core/common_runtime/executor.cc:1197] [/device:CPU:0] (DEBUG INFO) Executor start aborting (this does not indicate an error and you can ignore this message): INVALID_ARGUMENT: You must feed a value for placeholder tensor 'inputs' with dtype float and shape [?,512]\n",
      "\t [[{{node inputs}}]]\n",
      "2023-04-23 17:16:39.953525: I tensorflow/core/common_runtime/executor.cc:1197] [/device:CPU:0] (DEBUG INFO) Executor start aborting (this does not indicate an error and you can ignore this message): INVALID_ARGUMENT: You must feed a value for placeholder tensor 'inputs' with dtype float and shape [?,512]\n",
      "\t [[{{node inputs}}]]\n",
      "WARNING:absl:Found untraced functions such as _jit_compiled_convolution_op, _jit_compiled_convolution_op, _jit_compiled_convolution_op, _jit_compiled_convolution_op, _jit_compiled_convolution_op while saving (showing 5 of 53). These functions will not be directly callable after loading.\n"
     ]
    },
    {
     "name": "stdout",
     "output_type": "stream",
     "text": [
      "INFO:tensorflow:Assets written to: ./models/pretrained_resnet50_trainlast4convlayers/assets\n"
     ]
    },
    {
     "name": "stderr",
     "output_type": "stream",
     "text": [
      "INFO:tensorflow:Assets written to: ./models/pretrained_resnet50_trainlast4convlayers/assets\n"
     ]
    },
    {
     "name": "stdout",
     "output_type": "stream",
     "text": [
      "50/50 [==============================] - 59s 1s/step - loss: 4.2654 - accuracy: 0.6095 - val_loss: 9.3785 - val_accuracy: 0.3569\n",
      "Epoch 6/50\n",
      "50/50 [==============================] - ETA: 0s - loss: 3.8851 - accuracy: 0.6273\n",
      "Epoch 6: val_accuracy improved from 0.35688 to 0.44188, saving model to ./models/pretrained_resnet50_trainlast4convlayers\n"
     ]
    },
    {
     "name": "stderr",
     "output_type": "stream",
     "text": [
      "2023-04-23 17:17:33.805932: I tensorflow/core/common_runtime/executor.cc:1197] [/device:CPU:0] (DEBUG INFO) Executor start aborting (this does not indicate an error and you can ignore this message): INVALID_ARGUMENT: You must feed a value for placeholder tensor 'inputs' with dtype float and shape [?,512]\n",
      "\t [[{{node inputs}}]]\n",
      "2023-04-23 17:17:39.112101: I tensorflow/core/common_runtime/executor.cc:1197] [/device:CPU:0] (DEBUG INFO) Executor start aborting (this does not indicate an error and you can ignore this message): INVALID_ARGUMENT: You must feed a value for placeholder tensor 'inputs' with dtype float and shape [?,512]\n",
      "\t [[{{node inputs}}]]\n",
      "WARNING:absl:Found untraced functions such as _jit_compiled_convolution_op, _jit_compiled_convolution_op, _jit_compiled_convolution_op, _jit_compiled_convolution_op, _jit_compiled_convolution_op while saving (showing 5 of 53). These functions will not be directly callable after loading.\n"
     ]
    },
    {
     "name": "stdout",
     "output_type": "stream",
     "text": [
      "INFO:tensorflow:Assets written to: ./models/pretrained_resnet50_trainlast4convlayers/assets\n"
     ]
    },
    {
     "name": "stderr",
     "output_type": "stream",
     "text": [
      "INFO:tensorflow:Assets written to: ./models/pretrained_resnet50_trainlast4convlayers/assets\n"
     ]
    },
    {
     "name": "stdout",
     "output_type": "stream",
     "text": [
      "50/50 [==============================] - 59s 1s/step - loss: 3.8851 - accuracy: 0.6273 - val_loss: 6.1601 - val_accuracy: 0.4419\n",
      "Epoch 7/50\n",
      "50/50 [==============================] - ETA: 0s - loss: 3.3184 - accuracy: 0.6633\n",
      "Epoch 7: val_accuracy improved from 0.44188 to 0.53062, saving model to ./models/pretrained_resnet50_trainlast4convlayers\n"
     ]
    },
    {
     "name": "stderr",
     "output_type": "stream",
     "text": [
      "2023-04-23 17:18:33.071650: I tensorflow/core/common_runtime/executor.cc:1197] [/device:CPU:0] (DEBUG INFO) Executor start aborting (this does not indicate an error and you can ignore this message): INVALID_ARGUMENT: You must feed a value for placeholder tensor 'inputs' with dtype float and shape [?,512]\n",
      "\t [[{{node inputs}}]]\n",
      "2023-04-23 17:18:37.844085: I tensorflow/core/common_runtime/executor.cc:1197] [/device:CPU:0] (DEBUG INFO) Executor start aborting (this does not indicate an error and you can ignore this message): INVALID_ARGUMENT: You must feed a value for placeholder tensor 'inputs' with dtype float and shape [?,512]\n",
      "\t [[{{node inputs}}]]\n",
      "WARNING:absl:Found untraced functions such as _jit_compiled_convolution_op, _jit_compiled_convolution_op, _jit_compiled_convolution_op, _jit_compiled_convolution_op, _jit_compiled_convolution_op while saving (showing 5 of 53). These functions will not be directly callable after loading.\n"
     ]
    },
    {
     "name": "stdout",
     "output_type": "stream",
     "text": [
      "INFO:tensorflow:Assets written to: ./models/pretrained_resnet50_trainlast4convlayers/assets\n"
     ]
    },
    {
     "name": "stderr",
     "output_type": "stream",
     "text": [
      "INFO:tensorflow:Assets written to: ./models/pretrained_resnet50_trainlast4convlayers/assets\n"
     ]
    },
    {
     "name": "stdout",
     "output_type": "stream",
     "text": [
      "50/50 [==============================] - 59s 1s/step - loss: 3.3184 - accuracy: 0.6633 - val_loss: 4.2688 - val_accuracy: 0.5306\n",
      "Epoch 8/50\n",
      "50/50 [==============================] - ETA: 0s - loss: 3.0946 - accuracy: 0.6792\n",
      "Epoch 8: val_accuracy improved from 0.53062 to 0.66938, saving model to ./models/pretrained_resnet50_trainlast4convlayers\n"
     ]
    },
    {
     "name": "stderr",
     "output_type": "stream",
     "text": [
      "2023-04-23 17:19:31.476258: I tensorflow/core/common_runtime/executor.cc:1197] [/device:CPU:0] (DEBUG INFO) Executor start aborting (this does not indicate an error and you can ignore this message): INVALID_ARGUMENT: You must feed a value for placeholder tensor 'inputs' with dtype float and shape [?,512]\n",
      "\t [[{{node inputs}}]]\n",
      "2023-04-23 17:19:37.136918: I tensorflow/core/common_runtime/executor.cc:1197] [/device:CPU:0] (DEBUG INFO) Executor start aborting (this does not indicate an error and you can ignore this message): INVALID_ARGUMENT: You must feed a value for placeholder tensor 'inputs' with dtype float and shape [?,512]\n",
      "\t [[{{node inputs}}]]\n",
      "WARNING:absl:Found untraced functions such as _jit_compiled_convolution_op, _jit_compiled_convolution_op, _jit_compiled_convolution_op, _jit_compiled_convolution_op, _jit_compiled_convolution_op while saving (showing 5 of 53). These functions will not be directly callable after loading.\n"
     ]
    },
    {
     "name": "stdout",
     "output_type": "stream",
     "text": [
      "INFO:tensorflow:Assets written to: ./models/pretrained_resnet50_trainlast4convlayers/assets\n"
     ]
    },
    {
     "name": "stderr",
     "output_type": "stream",
     "text": [
      "INFO:tensorflow:Assets written to: ./models/pretrained_resnet50_trainlast4convlayers/assets\n"
     ]
    },
    {
     "name": "stdout",
     "output_type": "stream",
     "text": [
      "50/50 [==============================] - 59s 1s/step - loss: 3.0946 - accuracy: 0.6792 - val_loss: 3.1114 - val_accuracy: 0.6694\n",
      "Epoch 9/50\n",
      "50/50 [==============================] - ETA: 0s - loss: 2.7857 - accuracy: 0.7070\n",
      "Epoch 9: val_accuracy improved from 0.66938 to 0.67375, saving model to ./models/pretrained_resnet50_trainlast4convlayers\n"
     ]
    },
    {
     "name": "stderr",
     "output_type": "stream",
     "text": [
      "2023-04-23 17:20:31.211545: I tensorflow/core/common_runtime/executor.cc:1197] [/device:CPU:0] (DEBUG INFO) Executor start aborting (this does not indicate an error and you can ignore this message): INVALID_ARGUMENT: You must feed a value for placeholder tensor 'inputs' with dtype float and shape [?,512]\n",
      "\t [[{{node inputs}}]]\n",
      "2023-04-23 17:20:36.543764: I tensorflow/core/common_runtime/executor.cc:1197] [/device:CPU:0] (DEBUG INFO) Executor start aborting (this does not indicate an error and you can ignore this message): INVALID_ARGUMENT: You must feed a value for placeholder tensor 'inputs' with dtype float and shape [?,512]\n",
      "\t [[{{node inputs}}]]\n",
      "WARNING:absl:Found untraced functions such as _jit_compiled_convolution_op, _jit_compiled_convolution_op, _jit_compiled_convolution_op, _jit_compiled_convolution_op, _jit_compiled_convolution_op while saving (showing 5 of 53). These functions will not be directly callable after loading.\n"
     ]
    },
    {
     "name": "stdout",
     "output_type": "stream",
     "text": [
      "INFO:tensorflow:Assets written to: ./models/pretrained_resnet50_trainlast4convlayers/assets\n"
     ]
    },
    {
     "name": "stderr",
     "output_type": "stream",
     "text": [
      "INFO:tensorflow:Assets written to: ./models/pretrained_resnet50_trainlast4convlayers/assets\n"
     ]
    },
    {
     "name": "stdout",
     "output_type": "stream",
     "text": [
      "50/50 [==============================] - 59s 1s/step - loss: 2.7857 - accuracy: 0.7070 - val_loss: 2.9891 - val_accuracy: 0.6737\n",
      "Epoch 10/50\n",
      "50/50 [==============================] - ETA: 0s - loss: 2.5907 - accuracy: 0.7356\n",
      "Epoch 10: val_accuracy improved from 0.67375 to 0.71688, saving model to ./models/pretrained_resnet50_trainlast4convlayers\n"
     ]
    },
    {
     "name": "stderr",
     "output_type": "stream",
     "text": [
      "2023-04-23 17:21:30.329871: I tensorflow/core/common_runtime/executor.cc:1197] [/device:CPU:0] (DEBUG INFO) Executor start aborting (this does not indicate an error and you can ignore this message): INVALID_ARGUMENT: You must feed a value for placeholder tensor 'inputs' with dtype float and shape [?,512]\n",
      "\t [[{{node inputs}}]]\n",
      "2023-04-23 17:21:35.667005: I tensorflow/core/common_runtime/executor.cc:1197] [/device:CPU:0] (DEBUG INFO) Executor start aborting (this does not indicate an error and you can ignore this message): INVALID_ARGUMENT: You must feed a value for placeholder tensor 'inputs' with dtype float and shape [?,512]\n",
      "\t [[{{node inputs}}]]\n",
      "WARNING:absl:Found untraced functions such as _jit_compiled_convolution_op, _jit_compiled_convolution_op, _jit_compiled_convolution_op, _jit_compiled_convolution_op, _jit_compiled_convolution_op while saving (showing 5 of 53). These functions will not be directly callable after loading.\n"
     ]
    },
    {
     "name": "stdout",
     "output_type": "stream",
     "text": [
      "INFO:tensorflow:Assets written to: ./models/pretrained_resnet50_trainlast4convlayers/assets\n"
     ]
    },
    {
     "name": "stderr",
     "output_type": "stream",
     "text": [
      "INFO:tensorflow:Assets written to: ./models/pretrained_resnet50_trainlast4convlayers/assets\n"
     ]
    },
    {
     "name": "stdout",
     "output_type": "stream",
     "text": [
      "50/50 [==============================] - 59s 1s/step - loss: 2.5907 - accuracy: 0.7356 - val_loss: 2.8344 - val_accuracy: 0.7169\n",
      "Epoch 11/50\n",
      "50/50 [==============================] - ETA: 0s - loss: 2.4445 - accuracy: 0.7545\n",
      "Epoch 11: val_accuracy did not improve from 0.71688\n",
      "50/50 [==============================] - 43s 866ms/step - loss: 2.4445 - accuracy: 0.7545 - val_loss: 2.8136 - val_accuracy: 0.7069\n",
      "Epoch 12/50\n",
      "50/50 [==============================] - ETA: 0s - loss: 2.3017 - accuracy: 0.7692\n",
      "Epoch 12: val_accuracy did not improve from 0.71688\n",
      "50/50 [==============================] - 44s 877ms/step - loss: 2.3017 - accuracy: 0.7692 - val_loss: 2.8609 - val_accuracy: 0.7094\n",
      "Epoch 13/50\n",
      "50/50 [==============================] - ETA: 0s - loss: 2.1600 - accuracy: 0.7928\n",
      "Epoch 13: val_accuracy improved from 0.71688 to 0.72750, saving model to ./models/pretrained_resnet50_trainlast4convlayers\n"
     ]
    },
    {
     "name": "stderr",
     "output_type": "stream",
     "text": [
      "2023-04-23 17:23:57.407943: I tensorflow/core/common_runtime/executor.cc:1197] [/device:CPU:0] (DEBUG INFO) Executor start aborting (this does not indicate an error and you can ignore this message): INVALID_ARGUMENT: You must feed a value for placeholder tensor 'inputs' with dtype float and shape [?,512]\n",
      "\t [[{{node inputs}}]]\n",
      "2023-04-23 17:24:02.184557: I tensorflow/core/common_runtime/executor.cc:1197] [/device:CPU:0] (DEBUG INFO) Executor start aborting (this does not indicate an error and you can ignore this message): INVALID_ARGUMENT: You must feed a value for placeholder tensor 'inputs' with dtype float and shape [?,512]\n",
      "\t [[{{node inputs}}]]\n",
      "WARNING:absl:Found untraced functions such as _jit_compiled_convolution_op, _jit_compiled_convolution_op, _jit_compiled_convolution_op, _jit_compiled_convolution_op, _jit_compiled_convolution_op while saving (showing 5 of 53). These functions will not be directly callable after loading.\n"
     ]
    },
    {
     "name": "stdout",
     "output_type": "stream",
     "text": [
      "INFO:tensorflow:Assets written to: ./models/pretrained_resnet50_trainlast4convlayers/assets\n"
     ]
    },
    {
     "name": "stderr",
     "output_type": "stream",
     "text": [
      "INFO:tensorflow:Assets written to: ./models/pretrained_resnet50_trainlast4convlayers/assets\n"
     ]
    },
    {
     "name": "stdout",
     "output_type": "stream",
     "text": [
      "50/50 [==============================] - 60s 1s/step - loss: 2.1600 - accuracy: 0.7928 - val_loss: 2.7212 - val_accuracy: 0.7275\n",
      "Epoch 14/50\n",
      "50/50 [==============================] - ETA: 0s - loss: 2.0861 - accuracy: 0.7983\n",
      "Epoch 14: val_accuracy improved from 0.72750 to 0.73750, saving model to ./models/pretrained_resnet50_trainlast4convlayers\n"
     ]
    },
    {
     "name": "stderr",
     "output_type": "stream",
     "text": [
      "2023-04-23 17:24:56.476678: I tensorflow/core/common_runtime/executor.cc:1197] [/device:CPU:0] (DEBUG INFO) Executor start aborting (this does not indicate an error and you can ignore this message): INVALID_ARGUMENT: You must feed a value for placeholder tensor 'inputs' with dtype float and shape [?,512]\n",
      "\t [[{{node inputs}}]]\n",
      "2023-04-23 17:25:02.153117: I tensorflow/core/common_runtime/executor.cc:1197] [/device:CPU:0] (DEBUG INFO) Executor start aborting (this does not indicate an error and you can ignore this message): INVALID_ARGUMENT: You must feed a value for placeholder tensor 'inputs' with dtype float and shape [?,512]\n",
      "\t [[{{node inputs}}]]\n",
      "WARNING:absl:Found untraced functions such as _jit_compiled_convolution_op, _jit_compiled_convolution_op, _jit_compiled_convolution_op, _jit_compiled_convolution_op, _jit_compiled_convolution_op while saving (showing 5 of 53). These functions will not be directly callable after loading.\n"
     ]
    },
    {
     "name": "stdout",
     "output_type": "stream",
     "text": [
      "INFO:tensorflow:Assets written to: ./models/pretrained_resnet50_trainlast4convlayers/assets\n"
     ]
    },
    {
     "name": "stderr",
     "output_type": "stream",
     "text": [
      "INFO:tensorflow:Assets written to: ./models/pretrained_resnet50_trainlast4convlayers/assets\n"
     ]
    },
    {
     "name": "stdout",
     "output_type": "stream",
     "text": [
      "50/50 [==============================] - 59s 1s/step - loss: 2.0861 - accuracy: 0.7983 - val_loss: 2.6895 - val_accuracy: 0.7375\n",
      "Epoch 15/50\n",
      "50/50 [==============================] - ETA: 0s - loss: 2.0156 - accuracy: 0.8156\n",
      "Epoch 15: val_accuracy did not improve from 0.73750\n",
      "50/50 [==============================] - 44s 872ms/step - loss: 2.0156 - accuracy: 0.8156 - val_loss: 2.6506 - val_accuracy: 0.7369\n",
      "Epoch 16/50\n",
      "50/50 [==============================] - ETA: 0s - loss: 1.9505 - accuracy: 0.8339\n",
      "Epoch 16: val_accuracy did not improve from 0.73750\n",
      "50/50 [==============================] - 44s 882ms/step - loss: 1.9505 - accuracy: 0.8339 - val_loss: 2.6289 - val_accuracy: 0.7287\n",
      "Epoch 17/50\n",
      "50/50 [==============================] - ETA: 0s - loss: 1.8950 - accuracy: 0.8469\n",
      "Epoch 17: val_accuracy did not improve from 0.73750\n",
      "50/50 [==============================] - 44s 887ms/step - loss: 1.8950 - accuracy: 0.8469 - val_loss: 2.6473 - val_accuracy: 0.7250\n",
      "Epoch 18/50\n",
      "50/50 [==============================] - ETA: 0s - loss: 1.8760 - accuracy: 0.8558\n",
      "Epoch 18: val_accuracy improved from 0.73750 to 0.73875, saving model to ./models/pretrained_resnet50_trainlast4convlayers\n"
     ]
    },
    {
     "name": "stderr",
     "output_type": "stream",
     "text": [
      "2023-04-23 17:28:09.264376: I tensorflow/core/common_runtime/executor.cc:1197] [/device:CPU:0] (DEBUG INFO) Executor start aborting (this does not indicate an error and you can ignore this message): INVALID_ARGUMENT: You must feed a value for placeholder tensor 'inputs' with dtype float and shape [?,512]\n",
      "\t [[{{node inputs}}]]\n",
      "2023-04-23 17:28:14.551387: I tensorflow/core/common_runtime/executor.cc:1197] [/device:CPU:0] (DEBUG INFO) Executor start aborting (this does not indicate an error and you can ignore this message): INVALID_ARGUMENT: You must feed a value for placeholder tensor 'inputs' with dtype float and shape [?,512]\n",
      "\t [[{{node inputs}}]]\n",
      "WARNING:absl:Found untraced functions such as _jit_compiled_convolution_op, _jit_compiled_convolution_op, _jit_compiled_convolution_op, _jit_compiled_convolution_op, _jit_compiled_convolution_op while saving (showing 5 of 53). These functions will not be directly callable after loading.\n"
     ]
    },
    {
     "name": "stdout",
     "output_type": "stream",
     "text": [
      "INFO:tensorflow:Assets written to: ./models/pretrained_resnet50_trainlast4convlayers/assets\n"
     ]
    },
    {
     "name": "stderr",
     "output_type": "stream",
     "text": [
      "INFO:tensorflow:Assets written to: ./models/pretrained_resnet50_trainlast4convlayers/assets\n"
     ]
    },
    {
     "name": "stdout",
     "output_type": "stream",
     "text": [
      "50/50 [==============================] - 60s 1s/step - loss: 1.8760 - accuracy: 0.8558 - val_loss: 2.6114 - val_accuracy: 0.7387\n",
      "Epoch 19/50\n",
      "50/50 [==============================] - ETA: 0s - loss: 1.8380 - accuracy: 0.8680\n",
      "Epoch 19: val_accuracy did not improve from 0.73875\n",
      "50/50 [==============================] - 44s 880ms/step - loss: 1.8380 - accuracy: 0.8680 - val_loss: 2.8028 - val_accuracy: 0.7031\n",
      "Epoch 20/50\n",
      "50/50 [==============================] - ETA: 0s - loss: 1.8154 - accuracy: 0.8777\n",
      "Epoch 20: val_accuracy improved from 0.73875 to 0.74063, saving model to ./models/pretrained_resnet50_trainlast4convlayers\n"
     ]
    },
    {
     "name": "stderr",
     "output_type": "stream",
     "text": [
      "2023-04-23 17:29:53.514647: I tensorflow/core/common_runtime/executor.cc:1197] [/device:CPU:0] (DEBUG INFO) Executor start aborting (this does not indicate an error and you can ignore this message): INVALID_ARGUMENT: You must feed a value for placeholder tensor 'inputs' with dtype float and shape [?,512]\n",
      "\t [[{{node inputs}}]]\n",
      "2023-04-23 17:29:58.266731: I tensorflow/core/common_runtime/executor.cc:1197] [/device:CPU:0] (DEBUG INFO) Executor start aborting (this does not indicate an error and you can ignore this message): INVALID_ARGUMENT: You must feed a value for placeholder tensor 'inputs' with dtype float and shape [?,512]\n",
      "\t [[{{node inputs}}]]\n",
      "WARNING:absl:Found untraced functions such as _jit_compiled_convolution_op, _jit_compiled_convolution_op, _jit_compiled_convolution_op, _jit_compiled_convolution_op, _jit_compiled_convolution_op while saving (showing 5 of 53). These functions will not be directly callable after loading.\n"
     ]
    },
    {
     "name": "stdout",
     "output_type": "stream",
     "text": [
      "INFO:tensorflow:Assets written to: ./models/pretrained_resnet50_trainlast4convlayers/assets\n"
     ]
    },
    {
     "name": "stderr",
     "output_type": "stream",
     "text": [
      "INFO:tensorflow:Assets written to: ./models/pretrained_resnet50_trainlast4convlayers/assets\n"
     ]
    },
    {
     "name": "stdout",
     "output_type": "stream",
     "text": [
      "50/50 [==============================] - 60s 1s/step - loss: 1.8154 - accuracy: 0.8777 - val_loss: 2.5878 - val_accuracy: 0.7406\n",
      "Epoch 21/50\n",
      "50/50 [==============================] - ETA: 0s - loss: 1.7784 - accuracy: 0.8873\n",
      "Epoch 21: val_accuracy did not improve from 0.74063\n",
      "50/50 [==============================] - 44s 877ms/step - loss: 1.7784 - accuracy: 0.8873 - val_loss: 2.6779 - val_accuracy: 0.7163\n",
      "Epoch 22/50\n",
      "50/50 [==============================] - ETA: 0s - loss: 1.7776 - accuracy: 0.8861\n",
      "Epoch 22: val_accuracy improved from 0.74063 to 0.74313, saving model to ./models/pretrained_resnet50_trainlast4convlayers\n"
     ]
    },
    {
     "name": "stderr",
     "output_type": "stream",
     "text": [
      "2023-04-23 17:31:37.820986: I tensorflow/core/common_runtime/executor.cc:1197] [/device:CPU:0] (DEBUG INFO) Executor start aborting (this does not indicate an error and you can ignore this message): INVALID_ARGUMENT: You must feed a value for placeholder tensor 'inputs' with dtype float and shape [?,512]\n",
      "\t [[{{node inputs}}]]\n",
      "2023-04-23 17:31:42.613725: I tensorflow/core/common_runtime/executor.cc:1197] [/device:CPU:0] (DEBUG INFO) Executor start aborting (this does not indicate an error and you can ignore this message): INVALID_ARGUMENT: You must feed a value for placeholder tensor 'inputs' with dtype float and shape [?,512]\n",
      "\t [[{{node inputs}}]]\n",
      "WARNING:absl:Found untraced functions such as _jit_compiled_convolution_op, _jit_compiled_convolution_op, _jit_compiled_convolution_op, _jit_compiled_convolution_op, _jit_compiled_convolution_op while saving (showing 5 of 53). These functions will not be directly callable after loading.\n"
     ]
    },
    {
     "name": "stdout",
     "output_type": "stream",
     "text": [
      "INFO:tensorflow:Assets written to: ./models/pretrained_resnet50_trainlast4convlayers/assets\n"
     ]
    },
    {
     "name": "stderr",
     "output_type": "stream",
     "text": [
      "INFO:tensorflow:Assets written to: ./models/pretrained_resnet50_trainlast4convlayers/assets\n"
     ]
    },
    {
     "name": "stdout",
     "output_type": "stream",
     "text": [
      "50/50 [==============================] - 61s 1s/step - loss: 1.7776 - accuracy: 0.8861 - val_loss: 2.6207 - val_accuracy: 0.7431\n",
      "Epoch 23/50\n",
      "50/50 [==============================] - ETA: 0s - loss: 1.7539 - accuracy: 0.9005\n",
      "Epoch 23: val_accuracy did not improve from 0.74313\n",
      "50/50 [==============================] - 44s 876ms/step - loss: 1.7539 - accuracy: 0.9005 - val_loss: 2.6053 - val_accuracy: 0.7369\n",
      "Epoch 24/50\n",
      "50/50 [==============================] - ETA: 0s - loss: 1.7310 - accuracy: 0.9031\n",
      "Epoch 24: val_accuracy did not improve from 0.74313\n",
      "50/50 [==============================] - 44s 885ms/step - loss: 1.7310 - accuracy: 0.9031 - val_loss: 2.6781 - val_accuracy: 0.7300\n",
      "Epoch 25/50\n",
      "50/50 [==============================] - ETA: 0s - loss: 1.7146 - accuracy: 0.9131\n",
      "Epoch 25: val_accuracy did not improve from 0.74313\n",
      "50/50 [==============================] - 44s 891ms/step - loss: 1.7146 - accuracy: 0.9131 - val_loss: 2.6809 - val_accuracy: 0.7406\n",
      "Epoch 26/50\n",
      "50/50 [==============================] - ETA: 0s - loss: 1.7127 - accuracy: 0.9167\n",
      "Epoch 26: val_accuracy did not improve from 0.74313\n",
      "50/50 [==============================] - 45s 893ms/step - loss: 1.7127 - accuracy: 0.9167 - val_loss: 2.7002 - val_accuracy: 0.7212\n",
      "Epoch 27/50\n",
      "50/50 [==============================] - ETA: 0s - loss: 1.6959 - accuracy: 0.9200\n",
      "Epoch 27: val_accuracy did not improve from 0.74313\n",
      "50/50 [==============================] - 44s 890ms/step - loss: 1.6959 - accuracy: 0.9200 - val_loss: 2.7707 - val_accuracy: 0.7181\n",
      "Epoch 28/50\n",
      "50/50 [==============================] - ETA: 0s - loss: 1.6788 - accuracy: 0.9252\n",
      "Epoch 28: val_accuracy improved from 0.74313 to 0.75250, saving model to ./models/pretrained_resnet50_trainlast4convlayers\n"
     ]
    },
    {
     "name": "stderr",
     "output_type": "stream",
     "text": [
      "2023-04-23 17:36:19.066783: I tensorflow/core/common_runtime/executor.cc:1197] [/device:CPU:0] (DEBUG INFO) Executor start aborting (this does not indicate an error and you can ignore this message): INVALID_ARGUMENT: You must feed a value for placeholder tensor 'inputs' with dtype float and shape [?,512]\n",
      "\t [[{{node inputs}}]]\n",
      "2023-04-23 17:36:24.738307: I tensorflow/core/common_runtime/executor.cc:1197] [/device:CPU:0] (DEBUG INFO) Executor start aborting (this does not indicate an error and you can ignore this message): INVALID_ARGUMENT: You must feed a value for placeholder tensor 'inputs' with dtype float and shape [?,512]\n",
      "\t [[{{node inputs}}]]\n",
      "WARNING:absl:Found untraced functions such as _jit_compiled_convolution_op, _jit_compiled_convolution_op, _jit_compiled_convolution_op, _jit_compiled_convolution_op, _jit_compiled_convolution_op while saving (showing 5 of 53). These functions will not be directly callable after loading.\n"
     ]
    },
    {
     "name": "stdout",
     "output_type": "stream",
     "text": [
      "INFO:tensorflow:Assets written to: ./models/pretrained_resnet50_trainlast4convlayers/assets\n"
     ]
    },
    {
     "name": "stderr",
     "output_type": "stream",
     "text": [
      "INFO:tensorflow:Assets written to: ./models/pretrained_resnet50_trainlast4convlayers/assets\n"
     ]
    },
    {
     "name": "stdout",
     "output_type": "stream",
     "text": [
      "50/50 [==============================] - 60s 1s/step - loss: 1.6788 - accuracy: 0.9252 - val_loss: 2.5984 - val_accuracy: 0.7525\n",
      "Epoch 29/50\n",
      "50/50 [==============================] - ETA: 0s - loss: 1.6748 - accuracy: 0.9222\n",
      "Epoch 29: val_accuracy improved from 0.75250 to 0.75500, saving model to ./models/pretrained_resnet50_trainlast4convlayers\n"
     ]
    },
    {
     "name": "stderr",
     "output_type": "stream",
     "text": [
      "2023-04-23 17:37:20.750416: I tensorflow/core/common_runtime/executor.cc:1197] [/device:CPU:0] (DEBUG INFO) Executor start aborting (this does not indicate an error and you can ignore this message): INVALID_ARGUMENT: You must feed a value for placeholder tensor 'inputs' with dtype float and shape [?,512]\n",
      "\t [[{{node inputs}}]]\n",
      "2023-04-23 17:37:25.508863: I tensorflow/core/common_runtime/executor.cc:1197] [/device:CPU:0] (DEBUG INFO) Executor start aborting (this does not indicate an error and you can ignore this message): INVALID_ARGUMENT: You must feed a value for placeholder tensor 'inputs' with dtype float and shape [?,512]\n",
      "\t [[{{node inputs}}]]\n",
      "WARNING:absl:Found untraced functions such as _jit_compiled_convolution_op, _jit_compiled_convolution_op, _jit_compiled_convolution_op, _jit_compiled_convolution_op, _jit_compiled_convolution_op while saving (showing 5 of 53). These functions will not be directly callable after loading.\n"
     ]
    },
    {
     "name": "stdout",
     "output_type": "stream",
     "text": [
      "INFO:tensorflow:Assets written to: ./models/pretrained_resnet50_trainlast4convlayers/assets\n"
     ]
    },
    {
     "name": "stderr",
     "output_type": "stream",
     "text": [
      "INFO:tensorflow:Assets written to: ./models/pretrained_resnet50_trainlast4convlayers/assets\n"
     ]
    },
    {
     "name": "stdout",
     "output_type": "stream",
     "text": [
      "50/50 [==============================] - 61s 1s/step - loss: 1.6748 - accuracy: 0.9222 - val_loss: 2.6194 - val_accuracy: 0.7550\n",
      "Epoch 30/50\n",
      "50/50 [==============================] - ETA: 0s - loss: 1.6510 - accuracy: 0.9336\n",
      "Epoch 30: val_accuracy did not improve from 0.75500\n",
      "50/50 [==============================] - 44s 874ms/step - loss: 1.6510 - accuracy: 0.9336 - val_loss: 2.6419 - val_accuracy: 0.7481\n",
      "Epoch 31/50\n",
      "50/50 [==============================] - ETA: 0s - loss: 1.6441 - accuracy: 0.9372\n",
      "Epoch 31: val_accuracy did not improve from 0.75500\n",
      "50/50 [==============================] - 44s 884ms/step - loss: 1.6441 - accuracy: 0.9372 - val_loss: 2.7198 - val_accuracy: 0.7362\n",
      "Epoch 32/50\n",
      "50/50 [==============================] - ETA: 0s - loss: 1.6491 - accuracy: 0.9328\n",
      "Epoch 32: val_accuracy did not improve from 0.75500\n",
      "50/50 [==============================] - 46s 931ms/step - loss: 1.6491 - accuracy: 0.9328 - val_loss: 2.6268 - val_accuracy: 0.7500\n",
      "Epoch 33/50\n",
      "50/50 [==============================] - ETA: 0s - loss: 1.6328 - accuracy: 0.9397\n",
      "Epoch 33: val_accuracy did not improve from 0.75500\n",
      "50/50 [==============================] - 45s 893ms/step - loss: 1.6328 - accuracy: 0.9397 - val_loss: 2.6644 - val_accuracy: 0.7531\n",
      "Epoch 34/50\n",
      "50/50 [==============================] - ETA: 0s - loss: 1.6311 - accuracy: 0.9403\n",
      "Epoch 34: val_accuracy did not improve from 0.75500\n",
      "50/50 [==============================] - 45s 893ms/step - loss: 1.6311 - accuracy: 0.9403 - val_loss: 2.7432 - val_accuracy: 0.7319\n",
      "Epoch 35/50\n",
      "50/50 [==============================] - ETA: 0s - loss: 1.6237 - accuracy: 0.9442\n",
      "Epoch 35: val_accuracy did not improve from 0.75500\n",
      "50/50 [==============================] - 44s 890ms/step - loss: 1.6237 - accuracy: 0.9442 - val_loss: 2.6604 - val_accuracy: 0.7531\n",
      "Epoch 36/50\n",
      "50/50 [==============================] - ETA: 0s - loss: 1.6053 - accuracy: 0.9513\n",
      "Epoch 36: val_accuracy did not improve from 0.75500\n",
      "50/50 [==============================] - 45s 893ms/step - loss: 1.6053 - accuracy: 0.9513 - val_loss: 2.8949 - val_accuracy: 0.7206\n",
      "Epoch 37/50\n",
      "50/50 [==============================] - ETA: 0s - loss: 1.6082 - accuracy: 0.9508\n",
      "Epoch 37: val_accuracy did not improve from 0.75500\n",
      "50/50 [==============================] - 45s 894ms/step - loss: 1.6082 - accuracy: 0.9508 - val_loss: 2.9175 - val_accuracy: 0.7300\n",
      "Epoch 38/50\n",
      "50/50 [==============================] - ETA: 0s - loss: 1.6322 - accuracy: 0.9352\n",
      "Epoch 38: val_accuracy did not improve from 0.75500\n",
      "50/50 [==============================] - 45s 894ms/step - loss: 1.6322 - accuracy: 0.9352 - val_loss: 3.0064 - val_accuracy: 0.7144\n",
      "Epoch 39/50\n",
      "50/50 [==============================] - ETA: 0s - loss: 1.6425 - accuracy: 0.9348\n",
      "Epoch 39: val_accuracy did not improve from 0.75500\n",
      "50/50 [==============================] - 45s 894ms/step - loss: 1.6425 - accuracy: 0.9348 - val_loss: 2.8748 - val_accuracy: 0.7188\n",
      "Epoch 40/50\n",
      "50/50 [==============================] - ETA: 0s - loss: 1.6442 - accuracy: 0.9328\n",
      "Epoch 40: val_accuracy did not improve from 0.75500\n",
      "50/50 [==============================] - 45s 896ms/step - loss: 1.6442 - accuracy: 0.9328 - val_loss: 2.6813 - val_accuracy: 0.7406\n",
      "Epoch 41/50\n",
      "50/50 [==============================] - ETA: 0s - loss: 1.5941 - accuracy: 0.9516\n",
      "Epoch 41: val_accuracy did not improve from 0.75500\n",
      "50/50 [==============================] - 45s 896ms/step - loss: 1.5941 - accuracy: 0.9516 - val_loss: 2.7610 - val_accuracy: 0.7350\n",
      "Epoch 42/50\n",
      "50/50 [==============================] - ETA: 0s - loss: 1.6018 - accuracy: 0.9438\n",
      "Epoch 42: val_accuracy improved from 0.75500 to 0.77438, saving model to ./models/pretrained_resnet50_trainlast4convlayers\n"
     ]
    },
    {
     "name": "stderr",
     "output_type": "stream",
     "text": [
      "2023-04-23 17:47:16.529032: I tensorflow/core/common_runtime/executor.cc:1197] [/device:CPU:0] (DEBUG INFO) Executor start aborting (this does not indicate an error and you can ignore this message): INVALID_ARGUMENT: You must feed a value for placeholder tensor 'inputs' with dtype float and shape [?,512]\n",
      "\t [[{{node inputs}}]]\n",
      "2023-04-23 17:47:22.165131: I tensorflow/core/common_runtime/executor.cc:1197] [/device:CPU:0] (DEBUG INFO) Executor start aborting (this does not indicate an error and you can ignore this message): INVALID_ARGUMENT: You must feed a value for placeholder tensor 'inputs' with dtype float and shape [?,512]\n",
      "\t [[{{node inputs}}]]\n",
      "WARNING:absl:Found untraced functions such as _jit_compiled_convolution_op, _jit_compiled_convolution_op, _jit_compiled_convolution_op, _jit_compiled_convolution_op, _jit_compiled_convolution_op while saving (showing 5 of 53). These functions will not be directly callable after loading.\n"
     ]
    },
    {
     "name": "stdout",
     "output_type": "stream",
     "text": [
      "INFO:tensorflow:Assets written to: ./models/pretrained_resnet50_trainlast4convlayers/assets\n"
     ]
    },
    {
     "name": "stderr",
     "output_type": "stream",
     "text": [
      "INFO:tensorflow:Assets written to: ./models/pretrained_resnet50_trainlast4convlayers/assets\n"
     ]
    },
    {
     "name": "stdout",
     "output_type": "stream",
     "text": [
      "50/50 [==============================] - 60s 1s/step - loss: 1.6018 - accuracy: 0.9438 - val_loss: 2.5937 - val_accuracy: 0.7744\n",
      "Epoch 43/50\n",
      "50/50 [==============================] - ETA: 0s - loss: 1.6136 - accuracy: 0.9398\n",
      "Epoch 43: val_accuracy improved from 0.77438 to 0.77625, saving model to ./models/pretrained_resnet50_trainlast4convlayers\n"
     ]
    },
    {
     "name": "stderr",
     "output_type": "stream",
     "text": [
      "2023-04-23 17:48:17.111756: I tensorflow/core/common_runtime/executor.cc:1197] [/device:CPU:0] (DEBUG INFO) Executor start aborting (this does not indicate an error and you can ignore this message): INVALID_ARGUMENT: You must feed a value for placeholder tensor 'inputs' with dtype float and shape [?,512]\n",
      "\t [[{{node inputs}}]]\n",
      "2023-04-23 17:48:22.358971: I tensorflow/core/common_runtime/executor.cc:1197] [/device:CPU:0] (DEBUG INFO) Executor start aborting (this does not indicate an error and you can ignore this message): INVALID_ARGUMENT: You must feed a value for placeholder tensor 'inputs' with dtype float and shape [?,512]\n",
      "\t [[{{node inputs}}]]\n",
      "WARNING:absl:Found untraced functions such as _jit_compiled_convolution_op, _jit_compiled_convolution_op, _jit_compiled_convolution_op, _jit_compiled_convolution_op, _jit_compiled_convolution_op while saving (showing 5 of 53). These functions will not be directly callable after loading.\n"
     ]
    },
    {
     "name": "stdout",
     "output_type": "stream",
     "text": [
      "INFO:tensorflow:Assets written to: ./models/pretrained_resnet50_trainlast4convlayers/assets\n"
     ]
    },
    {
     "name": "stderr",
     "output_type": "stream",
     "text": [
      "INFO:tensorflow:Assets written to: ./models/pretrained_resnet50_trainlast4convlayers/assets\n"
     ]
    },
    {
     "name": "stdout",
     "output_type": "stream",
     "text": [
      "50/50 [==============================] - 60s 1s/step - loss: 1.6136 - accuracy: 0.9398 - val_loss: 2.5598 - val_accuracy: 0.7763\n",
      "Epoch 44/50\n",
      "50/50 [==============================] - ETA: 0s - loss: 1.6501 - accuracy: 0.9212\n",
      "Epoch 44: val_accuracy did not improve from 0.77625\n",
      "50/50 [==============================] - 43s 865ms/step - loss: 1.6501 - accuracy: 0.9212 - val_loss: 2.7122 - val_accuracy: 0.7481\n",
      "Epoch 45/50\n",
      "50/50 [==============================] - ETA: 0s - loss: 1.7280 - accuracy: 0.8941\n",
      "Epoch 45: val_accuracy did not improve from 0.77625\n",
      "50/50 [==============================] - 44s 876ms/step - loss: 1.7280 - accuracy: 0.8941 - val_loss: 2.6840 - val_accuracy: 0.7300\n",
      "Epoch 46/50\n",
      "50/50 [==============================] - ETA: 0s - loss: 1.5911 - accuracy: 0.9489\n",
      "Epoch 46: val_accuracy improved from 0.77625 to 0.77750, saving model to ./models/pretrained_resnet50_trainlast4convlayers\n"
     ]
    },
    {
     "name": "stderr",
     "output_type": "stream",
     "text": [
      "2023-04-23 17:51:05.823115: I tensorflow/core/common_runtime/executor.cc:1197] [/device:CPU:0] (DEBUG INFO) Executor start aborting (this does not indicate an error and you can ignore this message): INVALID_ARGUMENT: You must feed a value for placeholder tensor 'inputs' with dtype float and shape [?,512]\n",
      "\t [[{{node inputs}}]]\n",
      "2023-04-23 17:51:11.093019: I tensorflow/core/common_runtime/executor.cc:1197] [/device:CPU:0] (DEBUG INFO) Executor start aborting (this does not indicate an error and you can ignore this message): INVALID_ARGUMENT: You must feed a value for placeholder tensor 'inputs' with dtype float and shape [?,512]\n",
      "\t [[{{node inputs}}]]\n",
      "WARNING:absl:Found untraced functions such as _jit_compiled_convolution_op, _jit_compiled_convolution_op, _jit_compiled_convolution_op, _jit_compiled_convolution_op, _jit_compiled_convolution_op while saving (showing 5 of 53). These functions will not be directly callable after loading.\n"
     ]
    },
    {
     "name": "stdout",
     "output_type": "stream",
     "text": [
      "INFO:tensorflow:Assets written to: ./models/pretrained_resnet50_trainlast4convlayers/assets\n"
     ]
    },
    {
     "name": "stderr",
     "output_type": "stream",
     "text": [
      "INFO:tensorflow:Assets written to: ./models/pretrained_resnet50_trainlast4convlayers/assets\n"
     ]
    },
    {
     "name": "stdout",
     "output_type": "stream",
     "text": [
      "50/50 [==============================] - 60s 1s/step - loss: 1.5911 - accuracy: 0.9489 - val_loss: 2.5125 - val_accuracy: 0.7775\n",
      "Epoch 47/50\n",
      "50/50 [==============================] - ETA: 0s - loss: 1.5840 - accuracy: 0.9498\n",
      "Epoch 47: val_accuracy improved from 0.77750 to 0.77938, saving model to ./models/pretrained_resnet50_trainlast4convlayers\n"
     ]
    },
    {
     "name": "stderr",
     "output_type": "stream",
     "text": [
      "2023-04-23 17:52:05.667451: I tensorflow/core/common_runtime/executor.cc:1197] [/device:CPU:0] (DEBUG INFO) Executor start aborting (this does not indicate an error and you can ignore this message): INVALID_ARGUMENT: You must feed a value for placeholder tensor 'inputs' with dtype float and shape [?,512]\n",
      "\t [[{{node inputs}}]]\n",
      "2023-04-23 17:52:10.412605: I tensorflow/core/common_runtime/executor.cc:1197] [/device:CPU:0] (DEBUG INFO) Executor start aborting (this does not indicate an error and you can ignore this message): INVALID_ARGUMENT: You must feed a value for placeholder tensor 'inputs' with dtype float and shape [?,512]\n",
      "\t [[{{node inputs}}]]\n",
      "WARNING:absl:Found untraced functions such as _jit_compiled_convolution_op, _jit_compiled_convolution_op, _jit_compiled_convolution_op, _jit_compiled_convolution_op, _jit_compiled_convolution_op while saving (showing 5 of 53). These functions will not be directly callable after loading.\n"
     ]
    },
    {
     "name": "stdout",
     "output_type": "stream",
     "text": [
      "INFO:tensorflow:Assets written to: ./models/pretrained_resnet50_trainlast4convlayers/assets\n"
     ]
    },
    {
     "name": "stderr",
     "output_type": "stream",
     "text": [
      "INFO:tensorflow:Assets written to: ./models/pretrained_resnet50_trainlast4convlayers/assets\n"
     ]
    },
    {
     "name": "stdout",
     "output_type": "stream",
     "text": [
      "50/50 [==============================] - 60s 1s/step - loss: 1.5840 - accuracy: 0.9498 - val_loss: 2.5612 - val_accuracy: 0.7794\n",
      "Epoch 48/50\n",
      "50/50 [==============================] - ETA: 0s - loss: 1.5732 - accuracy: 0.9567\n",
      "Epoch 48: val_accuracy did not improve from 0.77938\n",
      "50/50 [==============================] - 43s 871ms/step - loss: 1.5732 - accuracy: 0.9567 - val_loss: 2.5859 - val_accuracy: 0.7763\n",
      "Epoch 49/50\n",
      "50/50 [==============================] - ETA: 0s - loss: 1.5485 - accuracy: 0.9642\n",
      "Epoch 49: val_accuracy did not improve from 0.77938\n",
      "50/50 [==============================] - 44s 878ms/step - loss: 1.5485 - accuracy: 0.9642 - val_loss: 2.6030 - val_accuracy: 0.7788\n",
      "Epoch 50/50\n",
      "50/50 [==============================] - ETA: 0s - loss: 1.5245 - accuracy: 0.9722\n",
      "Epoch 50: val_accuracy improved from 0.77938 to 0.78500, saving model to ./models/pretrained_resnet50_trainlast4convlayers\n"
     ]
    },
    {
     "name": "stderr",
     "output_type": "stream",
     "text": [
      "2023-04-23 17:54:32.396261: I tensorflow/core/common_runtime/executor.cc:1197] [/device:CPU:0] (DEBUG INFO) Executor start aborting (this does not indicate an error and you can ignore this message): INVALID_ARGUMENT: You must feed a value for placeholder tensor 'inputs' with dtype float and shape [?,512]\n",
      "\t [[{{node inputs}}]]\n",
      "2023-04-23 17:54:38.028911: I tensorflow/core/common_runtime/executor.cc:1197] [/device:CPU:0] (DEBUG INFO) Executor start aborting (this does not indicate an error and you can ignore this message): INVALID_ARGUMENT: You must feed a value for placeholder tensor 'inputs' with dtype float and shape [?,512]\n",
      "\t [[{{node inputs}}]]\n",
      "WARNING:absl:Found untraced functions such as _jit_compiled_convolution_op, _jit_compiled_convolution_op, _jit_compiled_convolution_op, _jit_compiled_convolution_op, _jit_compiled_convolution_op while saving (showing 5 of 53). These functions will not be directly callable after loading.\n"
     ]
    },
    {
     "name": "stdout",
     "output_type": "stream",
     "text": [
      "INFO:tensorflow:Assets written to: ./models/pretrained_resnet50_trainlast4convlayers/assets\n"
     ]
    },
    {
     "name": "stderr",
     "output_type": "stream",
     "text": [
      "INFO:tensorflow:Assets written to: ./models/pretrained_resnet50_trainlast4convlayers/assets\n"
     ]
    },
    {
     "name": "stdout",
     "output_type": "stream",
     "text": [
      "\b\b\b\b\b\b\b\b\b\b\b\b\b\b\b\b\b\b\b\b\b\b\b\b\b\b\b\b\b\b\b\b\b\b\b\b\b\b\b\b\b\b\b\b\b\b\b\b\b\b\b\b\b\b\b\b\b\b\b\b\b\b\b\b\b\b\b\b\b\b\b\b\b\b\b\b\b\b\b\b\b\b\r",
      "50/50 [==============================] - 60s 1s/step - loss: 1.5245 - accuracy: 0.9722 - val_loss: 2.5890 - val_accuracy: 0.7850\n"
     ]
    },
    {
     "data": {
      "text/plain": [
       "<keras.callbacks.History at 0x7fed1a323750>"
      ]
     },
     "execution_count": 131,
     "metadata": {},
     "output_type": "execute_result"
    }
   ],
   "source": [
    "#define early stopping\n",
    "es = EarlyStopping(monitor='val_accuracy', patience=20, restore_best_weights=True, verbose=0)\n",
    "##define automatic saving \n",
    "save = ModelCheckpoint(\n",
    "    \"./models/pretrained_resnet50_trainlast4convlayers\",\n",
    "    monitor = \"val_accuracy\",\n",
    "    verbose = 1,\n",
    "    save_best_only = True,\n",
    "    save_weights_only = False,\n",
    ")\n",
    "\n",
    "##fit \n",
    "%time\n",
    "resnet50.fit(\n",
    "  normalized_train,\n",
    "  validation_data=normalized_val,\n",
    "    epochs=50, callbacks=[es, save]  \n",
    ")"
   ]
  },
  {
   "cell_type": "code",
   "execution_count": 110,
   "id": "2b3021b6",
   "metadata": {},
   "outputs": [
    {
     "name": "stderr",
     "output_type": "stream",
     "text": [
      "2023-04-23 15:56:09.546378: W tensorflow/core/util/tensor_slice_reader.cc:97] Could not open ./models/pretrained_resnet50_trainLastLayers: FAILED_PRECONDITION: models/pretrained_resnet50_trainLastLayers; Is a directory: perhaps your file is in a different file format and you need to use a different restore operator?\n"
     ]
    },
    {
     "data": {
      "text/plain": [
       "<tensorflow.python.checkpoint.checkpoint.CheckpointLoadStatus at 0x7ff158b366d0>"
      ]
     },
     "execution_count": 110,
     "metadata": {},
     "output_type": "execute_result"
    }
   ],
   "source": [
    "resnet50.load_weights(\"./models/pretrained_resnet50_trainLastLayers\")"
   ]
  },
  {
   "cell_type": "code",
   "execution_count": 132,
   "id": "eb1cd8c8",
   "metadata": {},
   "outputs": [
    {
     "name": "stdout",
     "output_type": "stream",
     "text": [
      "0.7850000262260437\n"
     ]
    },
    {
     "data": {
      "image/png": "[encoded data removed]",
      "text/plain": [
       "<Figure size 1000x500 with 2 Axes>"
      ]
     },
     "metadata": {},
     "output_type": "display_data"
    }
   ],
   "source": [
    "fig, ax = plt.subplots(1, 2, figsize=(10, 5))\n",
    "ax[0].plot(range(1, len(resnet50.history.history['loss'])+1), resnet50.history.history['loss'], \n",
    "           label='Train Loss');\n",
    "ax[0].plot(range(1, len(resnet50.history.history['val_loss'])+1), \n",
    "         resnet50.history.history['val_loss'], label='Val Loss');\n",
    "ax[0].grid();\n",
    "ax[0].legend();\n",
    "ax[0].set_xlabel(\"Number of Epochs\");\n",
    "ax[1].plot(range(1, len(resnet50.history.history['accuracy'])+1),resnet50.history.history['accuracy'],\n",
    "          label = 'Train Accuracy')\n",
    "ax[1].plot(range(1, len(resnet50.history.history['val_accuracy'])+1), resnet50.history.history['val_accuracy'], \n",
    "          label = 'Validation Accuracy')\n",
    "ax[1].grid();\n",
    "ax[1].legend();\n",
    "ax[1].set_xlabel(\"Number of Epochs\");\n",
    "print(max(resnet50.history.history['val_accuracy']))"
   ]
  },
  {
   "cell_type": "code",
   "execution_count": 111,
   "id": "4cee467d",
   "metadata": {},
   "outputs": [
    {
     "name": "stdout",
     "output_type": "stream",
     "text": [
      "13/13 [==============================] - 9s 581ms/step - loss: 2.4054 - accuracy: 0.7844\n"
     ]
    },
    {
     "data": {
      "text/plain": [
       "[2.405425786972046, 0.784375011920929]"
      ]
     },
     "execution_count": 111,
     "metadata": {},
     "output_type": "execute_result"
    }
   ],
   "source": [
    "resnet50.evaluate(normalized_val)"
   ]
  },
  {
   "cell_type": "code",
   "execution_count": null,
   "id": "df232b0e",
   "metadata": {},
   "outputs": [],
   "source": []
  },
  {
   "cell_type": "markdown",
   "id": "3db47ce5",
   "metadata": {},
   "source": [
    "Unfreeze more layers\n"
   ]
  },
  {
   "cell_type": "code",
   "execution_count": 94,
   "id": "ff2fb9aa",
   "metadata": {},
   "outputs": [
    {
     "data": {
      "text/plain": [
       "[<keras.engine.input_layer.InputLayer at 0x7fed041cd010>,\n",
       " <keras.layers.reshaping.zero_padding2d.ZeroPadding2D at 0x7fed041cc850>,\n",
       " <keras.layers.convolutional.conv2d.Conv2D at 0x7ff15e662e10>,\n",
       " <keras.layers.normalization.batch_normalization.BatchNormalization at 0x7ff158a9d310>,\n",
       " <keras.layers.core.activation.Activation at 0x7ff15e9d7e90>,\n",
       " <keras.layers.reshaping.zero_padding2d.ZeroPadding2D at 0x7fed0c798650>,\n",
       " <keras.layers.pooling.max_pooling2d.MaxPooling2D at 0x7ff15e0c9890>,\n",
       " <keras.layers.convolutional.conv2d.Conv2D at 0x7fea0ade4e50>,\n",
       " <keras.layers.normalization.batch_normalization.BatchNormalization at 0x7ff159a2d250>,\n",
       " <keras.layers.core.activation.Activation at 0x7ff15eb20550>,\n",
       " <keras.layers.convolutional.conv2d.Conv2D at 0x7fea0ade7cd0>,\n",
       " <keras.layers.normalization.batch_normalization.BatchNormalization at 0x7fed6526ad90>,\n",
       " <keras.layers.core.activation.Activation at 0x7ff1708a0710>,\n",
       " <keras.layers.convolutional.conv2d.Conv2D at 0x7ff15e1854d0>,\n",
       " <keras.layers.convolutional.conv2d.Conv2D at 0x7fed1a122e50>,\n",
       " <keras.layers.normalization.batch_normalization.BatchNormalization at 0x7fed64d93310>,\n",
       " <keras.layers.normalization.batch_normalization.BatchNormalization at 0x7fea0ac2e710>,\n",
       " <keras.layers.merging.add.Add at 0x7ff21520abd0>,\n",
       " <keras.layers.core.activation.Activation at 0x7ff215298e50>,\n",
       " <keras.layers.convolutional.conv2d.Conv2D at 0x7fed0c314690>,\n",
       " <keras.layers.normalization.batch_normalization.BatchNormalization at 0x7ff15e81fe10>,\n",
       " <keras.layers.core.activation.Activation at 0x7fed0c082810>,\n",
       " <keras.layers.convolutional.conv2d.Conv2D at 0x7fea0ac196d0>,\n",
       " <keras.layers.normalization.batch_normalization.BatchNormalization at 0x7fed64d4d750>,\n",
       " <keras.layers.core.activation.Activation at 0x7feca41f2b50>,\n",
       " <keras.layers.convolutional.conv2d.Conv2D at 0x7fea081711d0>,\n",
       " <keras.layers.normalization.batch_normalization.BatchNormalization at 0x7fedbc63c290>,\n",
       " <keras.layers.merging.add.Add at 0x7ff2047a6ed0>,\n",
       " <keras.layers.core.activation.Activation at 0x7ff2044d6150>,\n",
       " <keras.layers.convolutional.conv2d.Conv2D at 0x7ff158c847d0>,\n",
       " <keras.layers.normalization.batch_normalization.BatchNormalization at 0x7ff1e0198690>,\n",
       " <keras.layers.core.activation.Activation at 0x7fecb8196810>,\n",
       " <keras.layers.convolutional.conv2d.Conv2D at 0x7fea0adccc50>,\n",
       " <keras.layers.normalization.batch_normalization.BatchNormalization at 0x7ff21443bf50>,\n",
       " <keras.layers.core.activation.Activation at 0x7ff1f4284090>,\n",
       " <keras.layers.convolutional.conv2d.Conv2D at 0x7fea0aeff250>,\n",
       " <keras.layers.normalization.batch_normalization.BatchNormalization at 0x7fea0b018bd0>,\n",
       " <keras.layers.merging.add.Add at 0x7fed1a3aee10>,\n",
       " <keras.layers.core.activation.Activation at 0x7fea0ac260d0>,\n",
       " <keras.layers.convolutional.conv2d.Conv2D at 0x7ff1f41f4590>,\n",
       " <keras.layers.normalization.batch_normalization.BatchNormalization at 0x7ff15e81c3d0>,\n",
       " <keras.layers.core.activation.Activation at 0x7ff204194310>,\n",
       " <keras.layers.convolutional.conv2d.Conv2D at 0x7fed0c0f5250>,\n",
       " <keras.layers.normalization.batch_normalization.BatchNormalization at 0x7ff159e5c050>,\n",
       " <keras.layers.core.activation.Activation at 0x7ff17001cb10>,\n",
       " <keras.layers.convolutional.conv2d.Conv2D at 0x7fea08161810>,\n",
       " <keras.layers.convolutional.conv2d.Conv2D at 0x7fecec14d190>,\n",
       " <keras.layers.normalization.batch_normalization.BatchNormalization at 0x7fea106ac4d0>,\n",
       " <keras.layers.normalization.batch_normalization.BatchNormalization at 0x7fedac1b9250>,\n",
       " <keras.layers.merging.add.Add at 0x7fedac1b8390>,\n",
       " <keras.layers.core.activation.Activation at 0x7fed6553a610>,\n",
       " <keras.layers.convolutional.conv2d.Conv2D at 0x7fea0af29e90>,\n",
       " <keras.layers.normalization.batch_normalization.BatchNormalization at 0x7fea0af2b3d0>,\n",
       " <keras.layers.core.activation.Activation at 0x7fea107d4190>,\n",
       " <keras.layers.convolutional.conv2d.Conv2D at 0x7fed6518e150>,\n",
       " <keras.layers.normalization.batch_normalization.BatchNormalization at 0x7fed6518ed90>,\n",
       " <keras.layers.core.activation.Activation at 0x7fea107d7d10>,\n",
       " <keras.layers.convolutional.conv2d.Conv2D at 0x7fed653ff090>,\n",
       " <keras.layers.normalization.batch_normalization.BatchNormalization at 0x7fed1a38d490>,\n",
       " <keras.layers.merging.add.Add at 0x7fed1a38ee90>,\n",
       " <keras.layers.core.activation.Activation at 0x7fed1a38e850>,\n",
       " <keras.layers.convolutional.conv2d.Conv2D at 0x7fed64eae2d0>,\n",
       " <keras.layers.normalization.batch_normalization.BatchNormalization at 0x7fed1a38d390>,\n",
       " <keras.layers.core.activation.Activation at 0x7fed64eafb10>,\n",
       " <keras.layers.convolutional.conv2d.Conv2D at 0x7fea10703010>,\n",
       " <keras.layers.normalization.batch_normalization.BatchNormalization at 0x7fed64eac850>,\n",
       " <keras.layers.core.activation.Activation at 0x7fed0c3cf550>,\n",
       " <keras.layers.convolutional.conv2d.Conv2D at 0x7fed64d5afd0>,\n",
       " <keras.layers.normalization.batch_normalization.BatchNormalization at 0x7ff1e40fc2d0>,\n",
       " <keras.layers.merging.add.Add at 0x7ff1598d27d0>,\n",
       " <keras.layers.core.activation.Activation at 0x7fed64eafe10>,\n",
       " <keras.layers.convolutional.conv2d.Conv2D at 0x7ff21431c810>,\n",
       " <keras.layers.normalization.batch_normalization.BatchNormalization at 0x7fea107d6710>,\n",
       " <keras.layers.core.activation.Activation at 0x7ff1598d01d0>,\n",
       " <keras.layers.convolutional.conv2d.Conv2D at 0x7ff1e41f4050>,\n",
       " <keras.layers.normalization.batch_normalization.BatchNormalization at 0x7fe9fdaeb890>,\n",
       " <keras.layers.core.activation.Activation at 0x7fe9fdaea950>,\n",
       " <keras.layers.convolutional.conv2d.Conv2D at 0x7fecec1f4bd0>,\n",
       " <keras.layers.normalization.batch_normalization.BatchNormalization at 0x7ff159ac8650>,\n",
       " <keras.layers.merging.add.Add at 0x7ff20457c110>,\n",
       " <keras.layers.core.activation.Activation at 0x7ff20457c990>,\n",
       " <keras.layers.convolutional.conv2d.Conv2D at 0x7fed0c16c450>,\n",
       " <keras.layers.normalization.batch_normalization.BatchNormalization at 0x7ff1e42e84d0>,\n",
       " <keras.layers.core.activation.Activation at 0x7ff214294f50>,\n",
       " <keras.layers.convolutional.conv2d.Conv2D at 0x7fed0c5cd510>,\n",
       " <keras.layers.normalization.batch_normalization.BatchNormalization at 0x7fed0c10d8d0>,\n",
       " <keras.layers.core.activation.Activation at 0x7fea0ade1350>,\n",
       " <keras.layers.convolutional.conv2d.Conv2D at 0x7fed0c16de90>,\n",
       " <keras.layers.convolutional.conv2d.Conv2D at 0x7fecb019f2d0>,\n",
       " <keras.layers.normalization.batch_normalization.BatchNormalization at 0x7ff1f42b45d0>,\n",
       " <keras.layers.normalization.batch_normalization.BatchNormalization at 0x7ff2142a8390>,\n",
       " <keras.layers.merging.add.Add at 0x7ff204449010>,\n",
       " <keras.layers.core.activation.Activation at 0x7fecec1f4950>,\n",
       " <keras.layers.convolutional.conv2d.Conv2D at 0x7fed6518c790>,\n",
       " <keras.layers.normalization.batch_normalization.BatchNormalization at 0x7ff214294710>,\n",
       " <keras.layers.core.activation.Activation at 0x7fed0c5ceb90>,\n",
       " <keras.layers.convolutional.conv2d.Conv2D at 0x7fed1a38eb90>,\n",
       " <keras.layers.normalization.batch_normalization.BatchNormalization at 0x7ff1598d0f10>,\n",
       " <keras.layers.core.activation.Activation at 0x7fed65539050>,\n",
       " <keras.layers.convolutional.conv2d.Conv2D at 0x7ff1598d34d0>,\n",
       " <keras.layers.normalization.batch_normalization.BatchNormalization at 0x7fed1a183910>,\n",
       " <keras.layers.merging.add.Add at 0x7fea080f1d50>,\n",
       " <keras.layers.core.activation.Activation at 0x7fed0c5ce790>,\n",
       " <keras.layers.convolutional.conv2d.Conv2D at 0x7fed0c60f290>,\n",
       " <keras.layers.normalization.batch_normalization.BatchNormalization at 0x7ff1e4281950>,\n",
       " <keras.layers.core.activation.Activation at 0x7fea0ade1490>,\n",
       " <keras.layers.convolutional.conv2d.Conv2D at 0x7fed14128610>,\n",
       " <keras.layers.normalization.batch_normalization.BatchNormalization at 0x7ff159c495d0>,\n",
       " <keras.layers.core.activation.Activation at 0x7fedbc13e250>,\n",
       " <keras.layers.convolutional.conv2d.Conv2D at 0x7fed1a28ff10>,\n",
       " <keras.layers.normalization.batch_normalization.BatchNormalization at 0x7fed0c5cda50>,\n",
       " <keras.layers.merging.add.Add at 0x7ff159a23e10>,\n",
       " <keras.layers.core.activation.Activation at 0x7ff2141890d0>,\n",
       " <keras.layers.convolutional.conv2d.Conv2D at 0x7fed0c4ba350>,\n",
       " <keras.layers.normalization.batch_normalization.BatchNormalization at 0x7ff20426a210>,\n",
       " <keras.layers.core.activation.Activation at 0x7fecf41a8150>,\n",
       " <keras.layers.convolutional.conv2d.Conv2D at 0x7fed0c4b8450>,\n",
       " <keras.layers.normalization.batch_normalization.BatchNormalization at 0x7fed6537ea10>,\n",
       " <keras.layers.core.activation.Activation at 0x7fecec1f59d0>,\n",
       " <keras.layers.convolutional.conv2d.Conv2D at 0x7fecb8146fd0>,\n",
       " <keras.layers.normalization.batch_normalization.BatchNormalization at 0x7fed64defb10>,\n",
       " <keras.layers.merging.add.Add at 0x7fed0c201310>,\n",
       " <keras.layers.core.activation.Activation at 0x7fed1a1af5d0>,\n",
       " <keras.layers.convolutional.conv2d.Conv2D at 0x7fed65196ed0>,\n",
       " <keras.layers.normalization.batch_normalization.BatchNormalization at 0x7fed65197190>,\n",
       " <keras.layers.core.activation.Activation at 0x7fea10632950>,\n",
       " <keras.layers.convolutional.conv2d.Conv2D at 0x7fed65194450>,\n",
       " <keras.layers.normalization.batch_normalization.BatchNormalization at 0x7fed1a2d3b90>,\n",
       " <keras.layers.core.activation.Activation at 0x7ff15e48c450>,\n",
       " <keras.layers.convolutional.conv2d.Conv2D at 0x7fed1a1af1d0>,\n",
       " <keras.layers.normalization.batch_normalization.BatchNormalization at 0x7fed64c07f10>,\n",
       " <keras.layers.merging.add.Add at 0x7fecf41a87d0>,\n",
       " <keras.layers.core.activation.Activation at 0x7ff159a23050>,\n",
       " <keras.layers.convolutional.conv2d.Conv2D at 0x7ff158a23c10>,\n",
       " <keras.layers.normalization.batch_normalization.BatchNormalization at 0x7fecf41bbb50>,\n",
       " <keras.layers.core.activation.Activation at 0x7fecb8146bd0>,\n",
       " <keras.layers.convolutional.conv2d.Conv2D at 0x7ff159c4a050>,\n",
       " <keras.layers.normalization.batch_normalization.BatchNormalization at 0x7ff1e41f7c50>,\n",
       " <keras.layers.core.activation.Activation at 0x7fed64eaf990>,\n",
       " <keras.layers.convolutional.conv2d.Conv2D at 0x7fea080f1510>,\n",
       " <keras.layers.normalization.batch_normalization.BatchNormalization at 0x7fed64c446d0>,\n",
       " <keras.layers.merging.add.Add at 0x7fed1a28ef90>,\n",
       " <keras.layers.core.activation.Activation at 0x7fed1a28cd10>,\n",
       " <keras.layers.convolutional.conv2d.Conv2D at 0x7fed64d22210>,\n",
       " <keras.layers.normalization.batch_normalization.BatchNormalization at 0x7fed0c5e7e50>,\n",
       " <keras.layers.core.activation.Activation at 0x7fed64d21a90>,\n",
       " <keras.layers.convolutional.conv2d.Conv2D at 0x7fed1a3585d0>,\n",
       " <keras.layers.normalization.batch_normalization.BatchNormalization at 0x7fed0c746a10>,\n",
       " <keras.layers.core.activation.Activation at 0x7fed1a1c3250>,\n",
       " <keras.layers.convolutional.conv2d.Conv2D at 0x7fed0c5e7250>,\n",
       " <keras.layers.convolutional.conv2d.Conv2D at 0x7fed651da810>,\n",
       " <keras.layers.normalization.batch_normalization.BatchNormalization at 0x7feca41fba90>,\n",
       " <keras.layers.normalization.batch_normalization.BatchNormalization at 0x7fed1a1c2590>,\n",
       " <keras.layers.merging.add.Add at 0x7ff159dc5b10>,\n",
       " <keras.layers.core.activation.Activation at 0x7ff158a22410>,\n",
       " <keras.layers.convolutional.conv2d.Conv2D at 0x7fed655bab10>,\n",
       " <keras.layers.normalization.batch_normalization.BatchNormalization at 0x7fed0c222910>,\n",
       " <keras.layers.core.activation.Activation at 0x7fed655bb890>,\n",
       " <keras.layers.convolutional.conv2d.Conv2D at 0x7fed1a11f310>,\n",
       " <keras.layers.normalization.batch_normalization.BatchNormalization at 0x7fed64d29c90>,\n",
       " <keras.layers.core.activation.Activation at 0x7fed64d2bf90>,\n",
       " <keras.layers.convolutional.conv2d.Conv2D at 0x7fed64e3dcd0>,\n",
       " <keras.layers.normalization.batch_normalization.BatchNormalization at 0x7ff159dc6650>,\n",
       " <keras.layers.merging.add.Add at 0x7ff204496490>,\n",
       " <keras.layers.core.activation.Activation at 0x7fea080f1810>,\n",
       " <keras.layers.convolutional.conv2d.Conv2D at 0x7ff1f4313d90>,\n",
       " <keras.layers.normalization.batch_normalization.BatchNormalization at 0x7ff1f4311e50>,\n",
       " <keras.layers.core.activation.Activation at 0x7ff1f4311290>,\n",
       " <keras.layers.convolutional.conv2d.Conv2D at 0x7ff158c21dd0>,\n",
       " <keras.layers.normalization.batch_normalization.BatchNormalization at 0x7fea105d0e50>,\n",
       " <keras.layers.core.activation.Activation at 0x7fea105d3290>,\n",
       " <keras.layers.convolutional.conv2d.Conv2D at 0x7ff1f4311f10>,\n",
       " <keras.layers.normalization.batch_normalization.BatchNormalization at 0x7ff204309d90>,\n",
       " <keras.layers.merging.add.Add at 0x7fed64d2b790>,\n",
       " <keras.layers.core.activation.Activation at 0x7ff204494e50>,\n",
       " <keras.layers.pooling.global_average_pooling2d.GlobalAveragePooling2D at 0x7fed0c5cc150>,\n",
       " <keras.layers.core.dense.Dense at 0x7ff159ad1b10>,\n",
       " <keras.layers.regularization.dropout.Dropout at 0x7fed0c5e6890>,\n",
       " <keras.layers.core.dense.Dense at 0x7fea10783c10>]"
      ]
     },
     "execution_count": 94,
     "metadata": {},
     "output_type": "execute_result"
    }
   ],
   "source": [
    "resnet50.layers"
   ]
  },
  {
   "cell_type": "code",
   "execution_count": 112,
   "id": "dda64eea",
   "metadata": {},
   "outputs": [],
   "source": [
    "resnet50.layers[-13].trainable = True\n",
    "resnet50.layers[-14].trainalbe = True\n",
    "resnet50.layers[-17].trainable = True\n",
    "resnet50.layers[-18].trainable = True"
   ]
  },
  {
   "cell_type": "code",
   "execution_count": 113,
   "id": "b987e03f",
   "metadata": {},
   "outputs": [],
   "source": [
    "##recompile using smaller learning rate\n",
    "# Compiling the model fine Tune\n",
    "resnet50.compile(loss='sparse_categorical_crossentropy',\n",
    "              optimizer=optimizers.Adam(learning_rate=2e-6),\n",
    "              metrics=['accuracy'])"
   ]
  },
  {
   "cell_type": "code",
   "execution_count": 114,
   "id": "66a641b4",
   "metadata": {},
   "outputs": [
    {
     "name": "stdout",
     "output_type": "stream",
     "text": [
      "CPU times: user 3 µs, sys: 0 ns, total: 3 µs\n",
      "Wall time: 7.15 µs\n",
      "Epoch 1/60\n",
      "50/50 [==============================] - ETA: 0s - loss: 35.5596 - accuracy: 0.2998\n",
      "Epoch 1: val_accuracy improved from -inf to 0.24062, saving model to ./models/pretrained_resnet50_trainonlyLast2Layers\n"
     ]
    },
    {
     "name": "stderr",
     "output_type": "stream",
     "text": [
      "2023-04-23 15:59:28.294788: I tensorflow/core/common_runtime/executor.cc:1197] [/device:CPU:0] (DEBUG INFO) Executor start aborting (this does not indicate an error and you can ignore this message): INVALID_ARGUMENT: You must feed a value for placeholder tensor 'inputs' with dtype float and shape [?,512]\n",
      "\t [[{{node inputs}}]]\n",
      "2023-04-23 15:59:33.562229: I tensorflow/core/common_runtime/executor.cc:1197] [/device:CPU:0] (DEBUG INFO) Executor start aborting (this does not indicate an error and you can ignore this message): INVALID_ARGUMENT: You must feed a value for placeholder tensor 'inputs' with dtype float and shape [?,512]\n",
      "\t [[{{node inputs}}]]\n",
      "WARNING:absl:Found untraced functions such as _jit_compiled_convolution_op, _jit_compiled_convolution_op, _jit_compiled_convolution_op, _jit_compiled_convolution_op, _jit_compiled_convolution_op while saving (showing 5 of 53). These functions will not be directly callable after loading.\n"
     ]
    },
    {
     "name": "stdout",
     "output_type": "stream",
     "text": [
      "INFO:tensorflow:Assets written to: ./models/pretrained_resnet50_trainonlyLast2Layers/assets\n"
     ]
    },
    {
     "name": "stderr",
     "output_type": "stream",
     "text": [
      "INFO:tensorflow:Assets written to: ./models/pretrained_resnet50_trainonlyLast2Layers/assets\n"
     ]
    },
    {
     "name": "stdout",
     "output_type": "stream",
     "text": [
      "50/50 [==============================] - 63s 1s/step - loss: 35.5596 - accuracy: 0.2998 - val_loss: 33.9498 - val_accuracy: 0.2406\n",
      "Epoch 2/60\n",
      "50/50 [==============================] - ETA: 0s - loss: 8.9454 - accuracy: 0.4256\n",
      "Epoch 2: val_accuracy improved from 0.24062 to 0.24688, saving model to ./models/pretrained_resnet50_trainonlyLast2Layers\n"
     ]
    },
    {
     "name": "stderr",
     "output_type": "stream",
     "text": [
      "2023-04-23 16:00:26.258815: I tensorflow/core/common_runtime/executor.cc:1197] [/device:CPU:0] (DEBUG INFO) Executor start aborting (this does not indicate an error and you can ignore this message): INVALID_ARGUMENT: You must feed a value for placeholder tensor 'inputs' with dtype float and shape [?,512]\n",
      "\t [[{{node inputs}}]]\n",
      "2023-04-23 16:00:31.485148: I tensorflow/core/common_runtime/executor.cc:1197] [/device:CPU:0] (DEBUG INFO) Executor start aborting (this does not indicate an error and you can ignore this message): INVALID_ARGUMENT: You must feed a value for placeholder tensor 'inputs' with dtype float and shape [?,512]\n",
      "\t [[{{node inputs}}]]\n",
      "WARNING:absl:Found untraced functions such as _jit_compiled_convolution_op, _jit_compiled_convolution_op, _jit_compiled_convolution_op, _jit_compiled_convolution_op, _jit_compiled_convolution_op while saving (showing 5 of 53). These functions will not be directly callable after loading.\n"
     ]
    },
    {
     "name": "stdout",
     "output_type": "stream",
     "text": [
      "INFO:tensorflow:Assets written to: ./models/pretrained_resnet50_trainonlyLast2Layers/assets\n"
     ]
    },
    {
     "name": "stderr",
     "output_type": "stream",
     "text": [
      "INFO:tensorflow:Assets written to: ./models/pretrained_resnet50_trainonlyLast2Layers/assets\n"
     ]
    },
    {
     "name": "stdout",
     "output_type": "stream",
     "text": [
      "50/50 [==============================] - 58s 1s/step - loss: 8.9454 - accuracy: 0.4256 - val_loss: 30.0148 - val_accuracy: 0.2469\n",
      "Epoch 3/60\n",
      "50/50 [==============================] - ETA: 0s - loss: 6.7891 - accuracy: 0.4712\n",
      "Epoch 3: val_accuracy improved from 0.24688 to 0.27250, saving model to ./models/pretrained_resnet50_trainonlyLast2Layers\n"
     ]
    },
    {
     "name": "stderr",
     "output_type": "stream",
     "text": [
      "2023-04-23 16:01:24.611464: I tensorflow/core/common_runtime/executor.cc:1197] [/device:CPU:0] (DEBUG INFO) Executor start aborting (this does not indicate an error and you can ignore this message): INVALID_ARGUMENT: You must feed a value for placeholder tensor 'inputs' with dtype float and shape [?,512]\n",
      "\t [[{{node inputs}}]]\n",
      "2023-04-23 16:01:29.395463: I tensorflow/core/common_runtime/executor.cc:1197] [/device:CPU:0] (DEBUG INFO) Executor start aborting (this does not indicate an error and you can ignore this message): INVALID_ARGUMENT: You must feed a value for placeholder tensor 'inputs' with dtype float and shape [?,512]\n",
      "\t [[{{node inputs}}]]\n",
      "WARNING:absl:Found untraced functions such as _jit_compiled_convolution_op, _jit_compiled_convolution_op, _jit_compiled_convolution_op, _jit_compiled_convolution_op, _jit_compiled_convolution_op while saving (showing 5 of 53). These functions will not be directly callable after loading.\n"
     ]
    },
    {
     "name": "stdout",
     "output_type": "stream",
     "text": [
      "INFO:tensorflow:Assets written to: ./models/pretrained_resnet50_trainonlyLast2Layers/assets\n"
     ]
    },
    {
     "name": "stderr",
     "output_type": "stream",
     "text": [
      "INFO:tensorflow:Assets written to: ./models/pretrained_resnet50_trainonlyLast2Layers/assets\n"
     ]
    },
    {
     "name": "stdout",
     "output_type": "stream",
     "text": [
      "50/50 [==============================] - 59s 1s/step - loss: 6.7891 - accuracy: 0.4712 - val_loss: 19.4035 - val_accuracy: 0.2725\n",
      "Epoch 4/60\n",
      "50/50 [==============================] - ETA: 0s - loss: 5.9842 - accuracy: 0.4950\n",
      "Epoch 4: val_accuracy improved from 0.27250 to 0.35688, saving model to ./models/pretrained_resnet50_trainonlyLast2Layers\n"
     ]
    },
    {
     "name": "stderr",
     "output_type": "stream",
     "text": [
      "2023-04-23 16:02:23.422155: I tensorflow/core/common_runtime/executor.cc:1197] [/device:CPU:0] (DEBUG INFO) Executor start aborting (this does not indicate an error and you can ignore this message): INVALID_ARGUMENT: You must feed a value for placeholder tensor 'inputs' with dtype float and shape [?,512]\n",
      "\t [[{{node inputs}}]]\n",
      "2023-04-23 16:02:28.139538: I tensorflow/core/common_runtime/executor.cc:1197] [/device:CPU:0] (DEBUG INFO) Executor start aborting (this does not indicate an error and you can ignore this message): INVALID_ARGUMENT: You must feed a value for placeholder tensor 'inputs' with dtype float and shape [?,512]\n",
      "\t [[{{node inputs}}]]\n",
      "WARNING:absl:Found untraced functions such as _jit_compiled_convolution_op, _jit_compiled_convolution_op, _jit_compiled_convolution_op, _jit_compiled_convolution_op, _jit_compiled_convolution_op while saving (showing 5 of 53). These functions will not be directly callable after loading.\n"
     ]
    },
    {
     "name": "stdout",
     "output_type": "stream",
     "text": [
      "INFO:tensorflow:Assets written to: ./models/pretrained_resnet50_trainonlyLast2Layers/assets\n"
     ]
    },
    {
     "name": "stderr",
     "output_type": "stream",
     "text": [
      "INFO:tensorflow:Assets written to: ./models/pretrained_resnet50_trainonlyLast2Layers/assets\n"
     ]
    },
    {
     "name": "stdout",
     "output_type": "stream",
     "text": [
      "50/50 [==============================] - 59s 1s/step - loss: 5.9842 - accuracy: 0.4950 - val_loss: 11.2110 - val_accuracy: 0.3569\n",
      "Epoch 5/60\n",
      "50/50 [==============================] - ETA: 0s - loss: 5.2274 - accuracy: 0.5311\n",
      "Epoch 5: val_accuracy improved from 0.35688 to 0.43875, saving model to ./models/pretrained_resnet50_trainonlyLast2Layers\n"
     ]
    },
    {
     "name": "stderr",
     "output_type": "stream",
     "text": [
      "2023-04-23 16:03:22.271716: I tensorflow/core/common_runtime/executor.cc:1197] [/device:CPU:0] (DEBUG INFO) Executor start aborting (this does not indicate an error and you can ignore this message): INVALID_ARGUMENT: You must feed a value for placeholder tensor 'inputs' with dtype float and shape [?,512]\n",
      "\t [[{{node inputs}}]]\n",
      "2023-04-23 16:03:27.037588: I tensorflow/core/common_runtime/executor.cc:1197] [/device:CPU:0] (DEBUG INFO) Executor start aborting (this does not indicate an error and you can ignore this message): INVALID_ARGUMENT: You must feed a value for placeholder tensor 'inputs' with dtype float and shape [?,512]\n",
      "\t [[{{node inputs}}]]\n",
      "WARNING:absl:Found untraced functions such as _jit_compiled_convolution_op, _jit_compiled_convolution_op, _jit_compiled_convolution_op, _jit_compiled_convolution_op, _jit_compiled_convolution_op while saving (showing 5 of 53). These functions will not be directly callable after loading.\n"
     ]
    },
    {
     "name": "stdout",
     "output_type": "stream",
     "text": [
      "INFO:tensorflow:Assets written to: ./models/pretrained_resnet50_trainonlyLast2Layers/assets\n"
     ]
    },
    {
     "name": "stderr",
     "output_type": "stream",
     "text": [
      "INFO:tensorflow:Assets written to: ./models/pretrained_resnet50_trainonlyLast2Layers/assets\n"
     ]
    },
    {
     "name": "stdout",
     "output_type": "stream",
     "text": [
      "50/50 [==============================] - 59s 1s/step - loss: 5.2274 - accuracy: 0.5311 - val_loss: 7.2942 - val_accuracy: 0.4387\n",
      "Epoch 6/60\n",
      "50/50 [==============================] - ETA: 0s - loss: 4.8634 - accuracy: 0.5492\n",
      "Epoch 6: val_accuracy improved from 0.43875 to 0.49437, saving model to ./models/pretrained_resnet50_trainonlyLast2Layers\n"
     ]
    },
    {
     "name": "stderr",
     "output_type": "stream",
     "text": [
      "2023-04-23 16:04:20.474935: I tensorflow/core/common_runtime/executor.cc:1197] [/device:CPU:0] (DEBUG INFO) Executor start aborting (this does not indicate an error and you can ignore this message): INVALID_ARGUMENT: You must feed a value for placeholder tensor 'inputs' with dtype float and shape [?,512]\n",
      "\t [[{{node inputs}}]]\n",
      "2023-04-23 16:04:26.058332: I tensorflow/core/common_runtime/executor.cc:1197] [/device:CPU:0] (DEBUG INFO) Executor start aborting (this does not indicate an error and you can ignore this message): INVALID_ARGUMENT: You must feed a value for placeholder tensor 'inputs' with dtype float and shape [?,512]\n",
      "\t [[{{node inputs}}]]\n",
      "WARNING:absl:Found untraced functions such as _jit_compiled_convolution_op, _jit_compiled_convolution_op, _jit_compiled_convolution_op, _jit_compiled_convolution_op, _jit_compiled_convolution_op while saving (showing 5 of 53). These functions will not be directly callable after loading.\n"
     ]
    },
    {
     "name": "stdout",
     "output_type": "stream",
     "text": [
      "INFO:tensorflow:Assets written to: ./models/pretrained_resnet50_trainonlyLast2Layers/assets\n"
     ]
    },
    {
     "name": "stderr",
     "output_type": "stream",
     "text": [
      "INFO:tensorflow:Assets written to: ./models/pretrained_resnet50_trainonlyLast2Layers/assets\n"
     ]
    },
    {
     "name": "stdout",
     "output_type": "stream",
     "text": [
      "50/50 [==============================] - 58s 1s/step - loss: 4.8634 - accuracy: 0.5492 - val_loss: 5.4633 - val_accuracy: 0.4944\n",
      "Epoch 7/60\n",
      "50/50 [==============================] - ETA: 0s - loss: 4.5514 - accuracy: 0.5639\n",
      "Epoch 7: val_accuracy improved from 0.49437 to 0.54438, saving model to ./models/pretrained_resnet50_trainonlyLast2Layers\n"
     ]
    },
    {
     "name": "stderr",
     "output_type": "stream",
     "text": [
      "2023-04-23 16:05:19.788901: I tensorflow/core/common_runtime/executor.cc:1197] [/device:CPU:0] (DEBUG INFO) Executor start aborting (this does not indicate an error and you can ignore this message): INVALID_ARGUMENT: You must feed a value for placeholder tensor 'inputs' with dtype float and shape [?,512]\n",
      "\t [[{{node inputs}}]]\n",
      "2023-04-23 16:05:25.012811: I tensorflow/core/common_runtime/executor.cc:1197] [/device:CPU:0] (DEBUG INFO) Executor start aborting (this does not indicate an error and you can ignore this message): INVALID_ARGUMENT: You must feed a value for placeholder tensor 'inputs' with dtype float and shape [?,512]\n",
      "\t [[{{node inputs}}]]\n",
      "WARNING:absl:Found untraced functions such as _jit_compiled_convolution_op, _jit_compiled_convolution_op, _jit_compiled_convolution_op, _jit_compiled_convolution_op, _jit_compiled_convolution_op while saving (showing 5 of 53). These functions will not be directly callable after loading.\n"
     ]
    },
    {
     "name": "stdout",
     "output_type": "stream",
     "text": [
      "INFO:tensorflow:Assets written to: ./models/pretrained_resnet50_trainonlyLast2Layers/assets\n"
     ]
    },
    {
     "name": "stderr",
     "output_type": "stream",
     "text": [
      "INFO:tensorflow:Assets written to: ./models/pretrained_resnet50_trainonlyLast2Layers/assets\n"
     ]
    },
    {
     "name": "stdout",
     "output_type": "stream",
     "text": [
      "50/50 [==============================] - 59s 1s/step - loss: 4.5514 - accuracy: 0.5639 - val_loss: 4.5349 - val_accuracy: 0.5444\n",
      "Epoch 8/60\n",
      "50/50 [==============================] - ETA: 0s - loss: 4.3577 - accuracy: 0.5708\n",
      "Epoch 8: val_accuracy improved from 0.54438 to 0.58312, saving model to ./models/pretrained_resnet50_trainonlyLast2Layers\n"
     ]
    },
    {
     "name": "stderr",
     "output_type": "stream",
     "text": [
      "2023-04-23 16:06:18.797049: I tensorflow/core/common_runtime/executor.cc:1197] [/device:CPU:0] (DEBUG INFO) Executor start aborting (this does not indicate an error and you can ignore this message): INVALID_ARGUMENT: You must feed a value for placeholder tensor 'inputs' with dtype float and shape [?,512]\n",
      "\t [[{{node inputs}}]]\n",
      "2023-04-23 16:06:24.024168: I tensorflow/core/common_runtime/executor.cc:1197] [/device:CPU:0] (DEBUG INFO) Executor start aborting (this does not indicate an error and you can ignore this message): INVALID_ARGUMENT: You must feed a value for placeholder tensor 'inputs' with dtype float and shape [?,512]\n",
      "\t [[{{node inputs}}]]\n",
      "WARNING:absl:Found untraced functions such as _jit_compiled_convolution_op, _jit_compiled_convolution_op, _jit_compiled_convolution_op, _jit_compiled_convolution_op, _jit_compiled_convolution_op while saving (showing 5 of 53). These functions will not be directly callable after loading.\n"
     ]
    },
    {
     "name": "stdout",
     "output_type": "stream",
     "text": [
      "INFO:tensorflow:Assets written to: ./models/pretrained_resnet50_trainonlyLast2Layers/assets\n"
     ]
    },
    {
     "name": "stderr",
     "output_type": "stream",
     "text": [
      "INFO:tensorflow:Assets written to: ./models/pretrained_resnet50_trainonlyLast2Layers/assets\n"
     ]
    },
    {
     "name": "stdout",
     "output_type": "stream",
     "text": [
      "50/50 [==============================] - 59s 1s/step - loss: 4.3577 - accuracy: 0.5708 - val_loss: 4.0520 - val_accuracy: 0.5831\n",
      "Epoch 9/60\n",
      "50/50 [==============================] - ETA: 0s - loss: 4.1011 - accuracy: 0.5895\n",
      "Epoch 9: val_accuracy improved from 0.58312 to 0.63000, saving model to ./models/pretrained_resnet50_trainonlyLast2Layers\n"
     ]
    },
    {
     "name": "stderr",
     "output_type": "stream",
     "text": [
      "2023-04-23 16:07:17.890109: I tensorflow/core/common_runtime/executor.cc:1197] [/device:CPU:0] (DEBUG INFO) Executor start aborting (this does not indicate an error and you can ignore this message): INVALID_ARGUMENT: You must feed a value for placeholder tensor 'inputs' with dtype float and shape [?,512]\n",
      "\t [[{{node inputs}}]]\n",
      "2023-04-23 16:07:23.142484: I tensorflow/core/common_runtime/executor.cc:1197] [/device:CPU:0] (DEBUG INFO) Executor start aborting (this does not indicate an error and you can ignore this message): INVALID_ARGUMENT: You must feed a value for placeholder tensor 'inputs' with dtype float and shape [?,512]\n",
      "\t [[{{node inputs}}]]\n",
      "WARNING:absl:Found untraced functions such as _jit_compiled_convolution_op, _jit_compiled_convolution_op, _jit_compiled_convolution_op, _jit_compiled_convolution_op, _jit_compiled_convolution_op while saving (showing 5 of 53). These functions will not be directly callable after loading.\n"
     ]
    },
    {
     "name": "stdout",
     "output_type": "stream",
     "text": [
      "INFO:tensorflow:Assets written to: ./models/pretrained_resnet50_trainonlyLast2Layers/assets\n"
     ]
    },
    {
     "name": "stderr",
     "output_type": "stream",
     "text": [
      "INFO:tensorflow:Assets written to: ./models/pretrained_resnet50_trainonlyLast2Layers/assets\n"
     ]
    },
    {
     "name": "stdout",
     "output_type": "stream",
     "text": [
      "50/50 [==============================] - 59s 1s/step - loss: 4.1011 - accuracy: 0.5895 - val_loss: 3.8019 - val_accuracy: 0.6300\n",
      "Epoch 10/60\n",
      "50/50 [==============================] - ETA: 0s - loss: 3.8857 - accuracy: 0.5986\n",
      "Epoch 10: val_accuracy improved from 0.63000 to 0.63813, saving model to ./models/pretrained_resnet50_trainonlyLast2Layers\n"
     ]
    },
    {
     "name": "stderr",
     "output_type": "stream",
     "text": [
      "2023-04-23 16:08:19.171794: I tensorflow/core/common_runtime/executor.cc:1197] [/device:CPU:0] (DEBUG INFO) Executor start aborting (this does not indicate an error and you can ignore this message): INVALID_ARGUMENT: You must feed a value for placeholder tensor 'inputs' with dtype float and shape [?,512]\n",
      "\t [[{{node inputs}}]]\n",
      "2023-04-23 16:08:23.934293: I tensorflow/core/common_runtime/executor.cc:1197] [/device:CPU:0] (DEBUG INFO) Executor start aborting (this does not indicate an error and you can ignore this message): INVALID_ARGUMENT: You must feed a value for placeholder tensor 'inputs' with dtype float and shape [?,512]\n",
      "\t [[{{node inputs}}]]\n",
      "WARNING:absl:Found untraced functions such as _jit_compiled_convolution_op, _jit_compiled_convolution_op, _jit_compiled_convolution_op, _jit_compiled_convolution_op, _jit_compiled_convolution_op while saving (showing 5 of 53). These functions will not be directly callable after loading.\n"
     ]
    },
    {
     "name": "stdout",
     "output_type": "stream",
     "text": [
      "INFO:tensorflow:Assets written to: ./models/pretrained_resnet50_trainonlyLast2Layers/assets\n"
     ]
    },
    {
     "name": "stderr",
     "output_type": "stream",
     "text": [
      "INFO:tensorflow:Assets written to: ./models/pretrained_resnet50_trainonlyLast2Layers/assets\n"
     ]
    },
    {
     "name": "stdout",
     "output_type": "stream",
     "text": [
      "50/50 [==============================] - 61s 1s/step - loss: 3.8857 - accuracy: 0.5986 - val_loss: 3.7261 - val_accuracy: 0.6381\n",
      "Epoch 11/60\n",
      "50/50 [==============================] - ETA: 0s - loss: 3.7071 - accuracy: 0.6172\n",
      "Epoch 11: val_accuracy improved from 0.63813 to 0.64750, saving model to ./models/pretrained_resnet50_trainonlyLast2Layers\n"
     ]
    },
    {
     "name": "stderr",
     "output_type": "stream",
     "text": [
      "2023-04-23 16:09:18.381649: I tensorflow/core/common_runtime/executor.cc:1197] [/device:CPU:0] (DEBUG INFO) Executor start aborting (this does not indicate an error and you can ignore this message): INVALID_ARGUMENT: You must feed a value for placeholder tensor 'inputs' with dtype float and shape [?,512]\n",
      "\t [[{{node inputs}}]]\n",
      "2023-04-23 16:09:23.176114: I tensorflow/core/common_runtime/executor.cc:1197] [/device:CPU:0] (DEBUG INFO) Executor start aborting (this does not indicate an error and you can ignore this message): INVALID_ARGUMENT: You must feed a value for placeholder tensor 'inputs' with dtype float and shape [?,512]\n",
      "\t [[{{node inputs}}]]\n",
      "WARNING:absl:Found untraced functions such as _jit_compiled_convolution_op, _jit_compiled_convolution_op, _jit_compiled_convolution_op, _jit_compiled_convolution_op, _jit_compiled_convolution_op while saving (showing 5 of 53). These functions will not be directly callable after loading.\n"
     ]
    },
    {
     "name": "stdout",
     "output_type": "stream",
     "text": [
      "INFO:tensorflow:Assets written to: ./models/pretrained_resnet50_trainonlyLast2Layers/assets\n"
     ]
    },
    {
     "name": "stderr",
     "output_type": "stream",
     "text": [
      "INFO:tensorflow:Assets written to: ./models/pretrained_resnet50_trainonlyLast2Layers/assets\n"
     ]
    },
    {
     "name": "stdout",
     "output_type": "stream",
     "text": [
      "50/50 [==============================] - 59s 1s/step - loss: 3.7071 - accuracy: 0.6172 - val_loss: 3.6564 - val_accuracy: 0.6475\n",
      "Epoch 12/60\n",
      "50/50 [==============================] - ETA: 0s - loss: 3.5757 - accuracy: 0.6187\n",
      "Epoch 12: val_accuracy did not improve from 0.64750\n",
      "50/50 [==============================] - 43s 865ms/step - loss: 3.5757 - accuracy: 0.6187 - val_loss: 3.6001 - val_accuracy: 0.6463\n",
      "Epoch 13/60\n",
      "50/50 [==============================] - ETA: 0s - loss: 3.4647 - accuracy: 0.6291\n",
      "Epoch 13: val_accuracy improved from 0.64750 to 0.65562, saving model to ./models/pretrained_resnet50_trainonlyLast2Layers\n"
     ]
    },
    {
     "name": "stderr",
     "output_type": "stream",
     "text": [
      "2023-04-23 16:11:00.619332: I tensorflow/core/common_runtime/executor.cc:1197] [/device:CPU:0] (DEBUG INFO) Executor start aborting (this does not indicate an error and you can ignore this message): INVALID_ARGUMENT: You must feed a value for placeholder tensor 'inputs' with dtype float and shape [?,512]\n",
      "\t [[{{node inputs}}]]\n",
      "2023-04-23 16:11:06.195399: I tensorflow/core/common_runtime/executor.cc:1197] [/device:CPU:0] (DEBUG INFO) Executor start aborting (this does not indicate an error and you can ignore this message): INVALID_ARGUMENT: You must feed a value for placeholder tensor 'inputs' with dtype float and shape [?,512]\n",
      "\t [[{{node inputs}}]]\n",
      "WARNING:absl:Found untraced functions such as _jit_compiled_convolution_op, _jit_compiled_convolution_op, _jit_compiled_convolution_op, _jit_compiled_convolution_op, _jit_compiled_convolution_op while saving (showing 5 of 53). These functions will not be directly callable after loading.\n"
     ]
    },
    {
     "name": "stdout",
     "output_type": "stream",
     "text": [
      "INFO:tensorflow:Assets written to: ./models/pretrained_resnet50_trainonlyLast2Layers/assets\n"
     ]
    },
    {
     "name": "stderr",
     "output_type": "stream",
     "text": [
      "INFO:tensorflow:Assets written to: ./models/pretrained_resnet50_trainonlyLast2Layers/assets\n"
     ]
    },
    {
     "name": "stdout",
     "output_type": "stream",
     "text": [
      "50/50 [==============================] - 59s 1s/step - loss: 3.4647 - accuracy: 0.6291 - val_loss: 3.4957 - val_accuracy: 0.6556\n",
      "Epoch 14/60\n",
      "50/50 [==============================] - ETA: 0s - loss: 3.3163 - accuracy: 0.6392\n",
      "Epoch 14: val_accuracy improved from 0.65562 to 0.66188, saving model to ./models/pretrained_resnet50_trainonlyLast2Layers\n"
     ]
    },
    {
     "name": "stderr",
     "output_type": "stream",
     "text": [
      "2023-04-23 16:12:00.412189: I tensorflow/core/common_runtime/executor.cc:1197] [/device:CPU:0] (DEBUG INFO) Executor start aborting (this does not indicate an error and you can ignore this message): INVALID_ARGUMENT: You must feed a value for placeholder tensor 'inputs' with dtype float and shape [?,512]\n",
      "\t [[{{node inputs}}]]\n",
      "2023-04-23 16:12:05.593087: I tensorflow/core/common_runtime/executor.cc:1197] [/device:CPU:0] (DEBUG INFO) Executor start aborting (this does not indicate an error and you can ignore this message): INVALID_ARGUMENT: You must feed a value for placeholder tensor 'inputs' with dtype float and shape [?,512]\n",
      "\t [[{{node inputs}}]]\n",
      "WARNING:absl:Found untraced functions such as _jit_compiled_convolution_op, _jit_compiled_convolution_op, _jit_compiled_convolution_op, _jit_compiled_convolution_op, _jit_compiled_convolution_op while saving (showing 5 of 53). These functions will not be directly callable after loading.\n"
     ]
    },
    {
     "name": "stdout",
     "output_type": "stream",
     "text": [
      "INFO:tensorflow:Assets written to: ./models/pretrained_resnet50_trainonlyLast2Layers/assets\n"
     ]
    },
    {
     "name": "stderr",
     "output_type": "stream",
     "text": [
      "INFO:tensorflow:Assets written to: ./models/pretrained_resnet50_trainonlyLast2Layers/assets\n"
     ]
    },
    {
     "name": "stdout",
     "output_type": "stream",
     "text": [
      "50/50 [==============================] - 59s 1s/step - loss: 3.3163 - accuracy: 0.6392 - val_loss: 3.4429 - val_accuracy: 0.6619\n",
      "Epoch 15/60\n",
      "50/50 [==============================] - ETA: 0s - loss: 3.1741 - accuracy: 0.6505\n",
      "Epoch 15: val_accuracy improved from 0.66188 to 0.67375, saving model to ./models/pretrained_resnet50_trainonlyLast2Layers\n"
     ]
    },
    {
     "name": "stderr",
     "output_type": "stream",
     "text": [
      "2023-04-23 16:12:59.629997: I tensorflow/core/common_runtime/executor.cc:1197] [/device:CPU:0] (DEBUG INFO) Executor start aborting (this does not indicate an error and you can ignore this message): INVALID_ARGUMENT: You must feed a value for placeholder tensor 'inputs' with dtype float and shape [?,512]\n",
      "\t [[{{node inputs}}]]\n",
      "2023-04-23 16:13:04.821698: I tensorflow/core/common_runtime/executor.cc:1197] [/device:CPU:0] (DEBUG INFO) Executor start aborting (this does not indicate an error and you can ignore this message): INVALID_ARGUMENT: You must feed a value for placeholder tensor 'inputs' with dtype float and shape [?,512]\n",
      "\t [[{{node inputs}}]]\n",
      "WARNING:absl:Found untraced functions such as _jit_compiled_convolution_op, _jit_compiled_convolution_op, _jit_compiled_convolution_op, _jit_compiled_convolution_op, _jit_compiled_convolution_op while saving (showing 5 of 53). These functions will not be directly callable after loading.\n"
     ]
    },
    {
     "name": "stdout",
     "output_type": "stream",
     "text": [
      "INFO:tensorflow:Assets written to: ./models/pretrained_resnet50_trainonlyLast2Layers/assets\n"
     ]
    },
    {
     "name": "stderr",
     "output_type": "stream",
     "text": [
      "INFO:tensorflow:Assets written to: ./models/pretrained_resnet50_trainonlyLast2Layers/assets\n"
     ]
    },
    {
     "name": "stdout",
     "output_type": "stream",
     "text": [
      "50/50 [==============================] - 59s 1s/step - loss: 3.1741 - accuracy: 0.6505 - val_loss: 3.3338 - val_accuracy: 0.6737\n",
      "Epoch 16/60\n",
      "50/50 [==============================] - ETA: 0s - loss: 3.0855 - accuracy: 0.6609\n",
      "Epoch 16: val_accuracy did not improve from 0.67375\n",
      "50/50 [==============================] - 43s 868ms/step - loss: 3.0855 - accuracy: 0.6609 - val_loss: 3.3148 - val_accuracy: 0.6737\n",
      "Epoch 17/60\n",
      "50/50 [==============================] - ETA: 0s - loss: 3.0162 - accuracy: 0.6689\n",
      "Epoch 17: val_accuracy did not improve from 0.67375\n",
      "50/50 [==============================] - 44s 879ms/step - loss: 3.0162 - accuracy: 0.6689 - val_loss: 3.2635 - val_accuracy: 0.6725\n",
      "Epoch 18/60\n",
      "50/50 [==============================] - ETA: 0s - loss: 2.8891 - accuracy: 0.6747\n",
      "Epoch 18: val_accuracy improved from 0.67375 to 0.68000, saving model to ./models/pretrained_resnet50_trainonlyLast2Layers\n"
     ]
    },
    {
     "name": "stderr",
     "output_type": "stream",
     "text": [
      "2023-04-23 16:15:26.752433: I tensorflow/core/common_runtime/executor.cc:1197] [/device:CPU:0] (DEBUG INFO) Executor start aborting (this does not indicate an error and you can ignore this message): INVALID_ARGUMENT: You must feed a value for placeholder tensor 'inputs' with dtype float and shape [?,512]\n",
      "\t [[{{node inputs}}]]\n",
      "2023-04-23 16:15:31.926617: I tensorflow/core/common_runtime/executor.cc:1197] [/device:CPU:0] (DEBUG INFO) Executor start aborting (this does not indicate an error and you can ignore this message): INVALID_ARGUMENT: You must feed a value for placeholder tensor 'inputs' with dtype float and shape [?,512]\n",
      "\t [[{{node inputs}}]]\n",
      "WARNING:absl:Found untraced functions such as _jit_compiled_convolution_op, _jit_compiled_convolution_op, _jit_compiled_convolution_op, _jit_compiled_convolution_op, _jit_compiled_convolution_op while saving (showing 5 of 53). These functions will not be directly callable after loading.\n"
     ]
    },
    {
     "name": "stdout",
     "output_type": "stream",
     "text": [
      "INFO:tensorflow:Assets written to: ./models/pretrained_resnet50_trainonlyLast2Layers/assets\n"
     ]
    },
    {
     "name": "stderr",
     "output_type": "stream",
     "text": [
      "INFO:tensorflow:Assets written to: ./models/pretrained_resnet50_trainonlyLast2Layers/assets\n"
     ]
    },
    {
     "name": "stdout",
     "output_type": "stream",
     "text": [
      "50/50 [==============================] - 60s 1s/step - loss: 2.8891 - accuracy: 0.6747 - val_loss: 3.1905 - val_accuracy: 0.6800\n",
      "Epoch 19/60\n",
      "50/50 [==============================] - ETA: 0s - loss: 2.8621 - accuracy: 0.6828\n",
      "Epoch 19: val_accuracy improved from 0.68000 to 0.68500, saving model to ./models/pretrained_resnet50_trainonlyLast2Layers\n"
     ]
    },
    {
     "name": "stderr",
     "output_type": "stream",
     "text": [
      "2023-04-23 16:16:26.096461: I tensorflow/core/common_runtime/executor.cc:1197] [/device:CPU:0] (DEBUG INFO) Executor start aborting (this does not indicate an error and you can ignore this message): INVALID_ARGUMENT: You must feed a value for placeholder tensor 'inputs' with dtype float and shape [?,512]\n",
      "\t [[{{node inputs}}]]\n",
      "2023-04-23 16:16:31.692744: I tensorflow/core/common_runtime/executor.cc:1197] [/device:CPU:0] (DEBUG INFO) Executor start aborting (this does not indicate an error and you can ignore this message): INVALID_ARGUMENT: You must feed a value for placeholder tensor 'inputs' with dtype float and shape [?,512]\n",
      "\t [[{{node inputs}}]]\n",
      "WARNING:absl:Found untraced functions such as _jit_compiled_convolution_op, _jit_compiled_convolution_op, _jit_compiled_convolution_op, _jit_compiled_convolution_op, _jit_compiled_convolution_op while saving (showing 5 of 53). These functions will not be directly callable after loading.\n"
     ]
    },
    {
     "name": "stdout",
     "output_type": "stream",
     "text": [
      "INFO:tensorflow:Assets written to: ./models/pretrained_resnet50_trainonlyLast2Layers/assets\n"
     ]
    },
    {
     "name": "stderr",
     "output_type": "stream",
     "text": [
      "INFO:tensorflow:Assets written to: ./models/pretrained_resnet50_trainonlyLast2Layers/assets\n"
     ]
    },
    {
     "name": "stdout",
     "output_type": "stream",
     "text": [
      "50/50 [==============================] - 59s 1s/step - loss: 2.8621 - accuracy: 0.6828 - val_loss: 3.1558 - val_accuracy: 0.6850\n",
      "Epoch 20/60\n",
      "50/50 [==============================] - ETA: 0s - loss: 2.7431 - accuracy: 0.6891\n",
      "Epoch 20: val_accuracy did not improve from 0.68500\n",
      "50/50 [==============================] - 44s 873ms/step - loss: 2.7431 - accuracy: 0.6891 - val_loss: 3.1279 - val_accuracy: 0.6737\n",
      "Epoch 21/60\n",
      "50/50 [==============================] - ETA: 0s - loss: 2.6838 - accuracy: 0.6928\n",
      "Epoch 21: val_accuracy did not improve from 0.68500\n",
      "50/50 [==============================] - 44s 882ms/step - loss: 2.6838 - accuracy: 0.6928 - val_loss: 3.0934 - val_accuracy: 0.6806\n",
      "Epoch 22/60\n",
      "50/50 [==============================] - ETA: 0s - loss: 2.6236 - accuracy: 0.7083\n",
      "Epoch 22: val_accuracy improved from 0.68500 to 0.68750, saving model to ./models/pretrained_resnet50_trainonlyLast2Layers\n"
     ]
    },
    {
     "name": "stderr",
     "output_type": "stream",
     "text": [
      "2023-04-23 16:18:54.438803: I tensorflow/core/common_runtime/executor.cc:1197] [/device:CPU:0] (DEBUG INFO) Executor start aborting (this does not indicate an error and you can ignore this message): INVALID_ARGUMENT: You must feed a value for placeholder tensor 'inputs' with dtype float and shape [?,512]\n",
      "\t [[{{node inputs}}]]\n",
      "2023-04-23 16:18:59.193220: I tensorflow/core/common_runtime/executor.cc:1197] [/device:CPU:0] (DEBUG INFO) Executor start aborting (this does not indicate an error and you can ignore this message): INVALID_ARGUMENT: You must feed a value for placeholder tensor 'inputs' with dtype float and shape [?,512]\n",
      "\t [[{{node inputs}}]]\n",
      "WARNING:absl:Found untraced functions such as _jit_compiled_convolution_op, _jit_compiled_convolution_op, _jit_compiled_convolution_op, _jit_compiled_convolution_op, _jit_compiled_convolution_op while saving (showing 5 of 53). These functions will not be directly callable after loading.\n"
     ]
    },
    {
     "name": "stdout",
     "output_type": "stream",
     "text": [
      "INFO:tensorflow:Assets written to: ./models/pretrained_resnet50_trainonlyLast2Layers/assets\n"
     ]
    },
    {
     "name": "stderr",
     "output_type": "stream",
     "text": [
      "INFO:tensorflow:Assets written to: ./models/pretrained_resnet50_trainonlyLast2Layers/assets\n"
     ]
    },
    {
     "name": "stdout",
     "output_type": "stream",
     "text": [
      "50/50 [==============================] - 60s 1s/step - loss: 2.6236 - accuracy: 0.7083 - val_loss: 3.0375 - val_accuracy: 0.6875\n",
      "Epoch 23/60\n",
      "50/50 [==============================] - ETA: 0s - loss: 2.5920 - accuracy: 0.7080\n",
      "Epoch 23: val_accuracy did not improve from 0.68750\n",
      "50/50 [==============================] - 44s 877ms/step - loss: 2.5920 - accuracy: 0.7080 - val_loss: 3.0292 - val_accuracy: 0.6794\n",
      "Epoch 24/60\n",
      "50/50 [==============================] - ETA: 0s - loss: 2.5404 - accuracy: 0.7144\n",
      "Epoch 24: val_accuracy did not improve from 0.68750\n",
      "50/50 [==============================] - 44s 885ms/step - loss: 2.5404 - accuracy: 0.7144 - val_loss: 3.0125 - val_accuracy: 0.6850\n",
      "Epoch 25/60\n",
      "50/50 [==============================] - ETA: 0s - loss: 2.4651 - accuracy: 0.7258\n",
      "Epoch 25: val_accuracy improved from 0.68750 to 0.69250, saving model to ./models/pretrained_resnet50_trainonlyLast2Layers\n"
     ]
    },
    {
     "name": "stderr",
     "output_type": "stream",
     "text": [
      "2023-04-23 16:21:22.797845: I tensorflow/core/common_runtime/executor.cc:1197] [/device:CPU:0] (DEBUG INFO) Executor start aborting (this does not indicate an error and you can ignore this message): INVALID_ARGUMENT: You must feed a value for placeholder tensor 'inputs' with dtype float and shape [?,512]\n",
      "\t [[{{node inputs}}]]\n",
      "2023-04-23 16:21:27.530886: I tensorflow/core/common_runtime/executor.cc:1197] [/device:CPU:0] (DEBUG INFO) Executor start aborting (this does not indicate an error and you can ignore this message): INVALID_ARGUMENT: You must feed a value for placeholder tensor 'inputs' with dtype float and shape [?,512]\n",
      "\t [[{{node inputs}}]]\n",
      "WARNING:absl:Found untraced functions such as _jit_compiled_convolution_op, _jit_compiled_convolution_op, _jit_compiled_convolution_op, _jit_compiled_convolution_op, _jit_compiled_convolution_op while saving (showing 5 of 53). These functions will not be directly callable after loading.\n"
     ]
    },
    {
     "name": "stdout",
     "output_type": "stream",
     "text": [
      "INFO:tensorflow:Assets written to: ./models/pretrained_resnet50_trainonlyLast2Layers/assets\n"
     ]
    },
    {
     "name": "stderr",
     "output_type": "stream",
     "text": [
      "INFO:tensorflow:Assets written to: ./models/pretrained_resnet50_trainonlyLast2Layers/assets\n"
     ]
    },
    {
     "name": "stdout",
     "output_type": "stream",
     "text": [
      "50/50 [==============================] - 60s 1s/step - loss: 2.4651 - accuracy: 0.7258 - val_loss: 2.9600 - val_accuracy: 0.6925\n",
      "Epoch 26/60\n",
      "50/50 [==============================] - ETA: 0s - loss: 2.4099 - accuracy: 0.7386\n",
      "Epoch 26: val_accuracy improved from 0.69250 to 0.69875, saving model to ./models/pretrained_resnet50_trainonlyLast2Layers\n"
     ]
    },
    {
     "name": "stderr",
     "output_type": "stream",
     "text": [
      "2023-04-23 16:22:22.605773: I tensorflow/core/common_runtime/executor.cc:1197] [/device:CPU:0] (DEBUG INFO) Executor start aborting (this does not indicate an error and you can ignore this message): INVALID_ARGUMENT: You must feed a value for placeholder tensor 'inputs' with dtype float and shape [?,512]\n",
      "\t [[{{node inputs}}]]\n",
      "2023-04-23 16:22:27.383052: I tensorflow/core/common_runtime/executor.cc:1197] [/device:CPU:0] (DEBUG INFO) Executor start aborting (this does not indicate an error and you can ignore this message): INVALID_ARGUMENT: You must feed a value for placeholder tensor 'inputs' with dtype float and shape [?,512]\n",
      "\t [[{{node inputs}}]]\n",
      "WARNING:absl:Found untraced functions such as _jit_compiled_convolution_op, _jit_compiled_convolution_op, _jit_compiled_convolution_op, _jit_compiled_convolution_op, _jit_compiled_convolution_op while saving (showing 5 of 53). These functions will not be directly callable after loading.\n"
     ]
    },
    {
     "name": "stdout",
     "output_type": "stream",
     "text": [
      "INFO:tensorflow:Assets written to: ./models/pretrained_resnet50_trainonlyLast2Layers/assets\n"
     ]
    },
    {
     "name": "stderr",
     "output_type": "stream",
     "text": [
      "INFO:tensorflow:Assets written to: ./models/pretrained_resnet50_trainonlyLast2Layers/assets\n"
     ]
    },
    {
     "name": "stdout",
     "output_type": "stream",
     "text": [
      "50/50 [==============================] - 60s 1s/step - loss: 2.4099 - accuracy: 0.7386 - val_loss: 2.9300 - val_accuracy: 0.6988\n",
      "Epoch 27/60\n",
      "50/50 [==============================] - ETA: 0s - loss: 2.3642 - accuracy: 0.7450\n",
      "Epoch 27: val_accuracy did not improve from 0.69875\n",
      "50/50 [==============================] - 44s 873ms/step - loss: 2.3642 - accuracy: 0.7450 - val_loss: 2.9175 - val_accuracy: 0.6963\n",
      "Epoch 28/60\n",
      "50/50 [==============================] - ETA: 0s - loss: 2.3279 - accuracy: 0.7520\n",
      "Epoch 28: val_accuracy did not improve from 0.69875\n",
      "50/50 [==============================] - 44s 881ms/step - loss: 2.3279 - accuracy: 0.7520 - val_loss: 2.9081 - val_accuracy: 0.6975\n",
      "Epoch 29/60\n",
      "50/50 [==============================] - ETA: 0s - loss: 2.2868 - accuracy: 0.7577\n",
      "Epoch 29: val_accuracy did not improve from 0.69875\n",
      "50/50 [==============================] - 44s 887ms/step - loss: 2.2868 - accuracy: 0.7577 - val_loss: 2.8817 - val_accuracy: 0.6938\n",
      "Epoch 30/60\n",
      "50/50 [==============================] - ETA: 0s - loss: 2.2376 - accuracy: 0.7630\n",
      "Epoch 30: val_accuracy did not improve from 0.69875\n",
      "50/50 [==============================] - 44s 892ms/step - loss: 2.2376 - accuracy: 0.7630 - val_loss: 2.8637 - val_accuracy: 0.6981\n",
      "Epoch 31/60\n",
      "50/50 [==============================] - ETA: 0s - loss: 2.2191 - accuracy: 0.7695\n",
      "Epoch 31: val_accuracy improved from 0.69875 to 0.70750, saving model to ./models/pretrained_resnet50_trainonlyLast2Layers\n"
     ]
    },
    {
     "name": "stderr",
     "output_type": "stream",
     "text": [
      "2023-04-23 16:26:18.737900: I tensorflow/core/common_runtime/executor.cc:1197] [/device:CPU:0] (DEBUG INFO) Executor start aborting (this does not indicate an error and you can ignore this message): INVALID_ARGUMENT: You must feed a value for placeholder tensor 'inputs' with dtype float and shape [?,512]\n",
      "\t [[{{node inputs}}]]\n",
      "2023-04-23 16:26:24.267969: I tensorflow/core/common_runtime/executor.cc:1197] [/device:CPU:0] (DEBUG INFO) Executor start aborting (this does not indicate an error and you can ignore this message): INVALID_ARGUMENT: You must feed a value for placeholder tensor 'inputs' with dtype float and shape [?,512]\n",
      "\t [[{{node inputs}}]]\n",
      "WARNING:absl:Found untraced functions such as _jit_compiled_convolution_op, _jit_compiled_convolution_op, _jit_compiled_convolution_op, _jit_compiled_convolution_op, _jit_compiled_convolution_op while saving (showing 5 of 53). These functions will not be directly callable after loading.\n"
     ]
    },
    {
     "name": "stdout",
     "output_type": "stream",
     "text": [
      "INFO:tensorflow:Assets written to: ./models/pretrained_resnet50_trainonlyLast2Layers/assets\n"
     ]
    },
    {
     "name": "stderr",
     "output_type": "stream",
     "text": [
      "INFO:tensorflow:Assets written to: ./models/pretrained_resnet50_trainonlyLast2Layers/assets\n"
     ]
    },
    {
     "name": "stdout",
     "output_type": "stream",
     "text": [
      "50/50 [==============================] - 60s 1s/step - loss: 2.2191 - accuracy: 0.7695 - val_loss: 2.8165 - val_accuracy: 0.7075\n",
      "Epoch 32/60\n",
      "50/50 [==============================] - ETA: 0s - loss: 2.2247 - accuracy: 0.7694\n",
      "Epoch 32: val_accuracy improved from 0.70750 to 0.71188, saving model to ./models/pretrained_resnet50_trainonlyLast2Layers\n"
     ]
    },
    {
     "name": "stderr",
     "output_type": "stream",
     "text": [
      "2023-04-23 16:27:18.964627: I tensorflow/core/common_runtime/executor.cc:1197] [/device:CPU:0] (DEBUG INFO) Executor start aborting (this does not indicate an error and you can ignore this message): INVALID_ARGUMENT: You must feed a value for placeholder tensor 'inputs' with dtype float and shape [?,512]\n",
      "\t [[{{node inputs}}]]\n",
      "2023-04-23 16:27:24.156382: I tensorflow/core/common_runtime/executor.cc:1197] [/device:CPU:0] (DEBUG INFO) Executor start aborting (this does not indicate an error and you can ignore this message): INVALID_ARGUMENT: You must feed a value for placeholder tensor 'inputs' with dtype float and shape [?,512]\n",
      "\t [[{{node inputs}}]]\n",
      "WARNING:absl:Found untraced functions such as _jit_compiled_convolution_op, _jit_compiled_convolution_op, _jit_compiled_convolution_op, _jit_compiled_convolution_op, _jit_compiled_convolution_op while saving (showing 5 of 53). These functions will not be directly callable after loading.\n"
     ]
    },
    {
     "name": "stdout",
     "output_type": "stream",
     "text": [
      "INFO:tensorflow:Assets written to: ./models/pretrained_resnet50_trainonlyLast2Layers/assets\n"
     ]
    },
    {
     "name": "stderr",
     "output_type": "stream",
     "text": [
      "INFO:tensorflow:Assets written to: ./models/pretrained_resnet50_trainonlyLast2Layers/assets\n"
     ]
    },
    {
     "name": "stdout",
     "output_type": "stream",
     "text": [
      "50/50 [==============================] - 60s 1s/step - loss: 2.2247 - accuracy: 0.7694 - val_loss: 2.8036 - val_accuracy: 0.7119\n",
      "Epoch 33/60\n",
      "50/50 [==============================] - ETA: 0s - loss: 2.1615 - accuracy: 0.7789\n",
      "Epoch 33: val_accuracy did not improve from 0.71188\n",
      "50/50 [==============================] - 44s 875ms/step - loss: 2.1615 - accuracy: 0.7789 - val_loss: 2.8120 - val_accuracy: 0.7044\n",
      "Epoch 34/60\n",
      "50/50 [==============================] - ETA: 0s - loss: 2.1514 - accuracy: 0.7867\n",
      "Epoch 34: val_accuracy improved from 0.71188 to 0.71438, saving model to ./models/pretrained_resnet50_trainonlyLast2Layers\n"
     ]
    },
    {
     "name": "stderr",
     "output_type": "stream",
     "text": [
      "2023-04-23 16:29:02.531183: I tensorflow/core/common_runtime/executor.cc:1197] [/device:CPU:0] (DEBUG INFO) Executor start aborting (this does not indicate an error and you can ignore this message): INVALID_ARGUMENT: You must feed a value for placeholder tensor 'inputs' with dtype float and shape [?,512]\n",
      "\t [[{{node inputs}}]]\n",
      "2023-04-23 16:29:07.777273: I tensorflow/core/common_runtime/executor.cc:1197] [/device:CPU:0] (DEBUG INFO) Executor start aborting (this does not indicate an error and you can ignore this message): INVALID_ARGUMENT: You must feed a value for placeholder tensor 'inputs' with dtype float and shape [?,512]\n",
      "\t [[{{node inputs}}]]\n",
      "WARNING:absl:Found untraced functions such as _jit_compiled_convolution_op, _jit_compiled_convolution_op, _jit_compiled_convolution_op, _jit_compiled_convolution_op, _jit_compiled_convolution_op while saving (showing 5 of 53). These functions will not be directly callable after loading.\n"
     ]
    },
    {
     "name": "stdout",
     "output_type": "stream",
     "text": [
      "INFO:tensorflow:Assets written to: ./models/pretrained_resnet50_trainonlyLast2Layers/assets\n"
     ]
    },
    {
     "name": "stderr",
     "output_type": "stream",
     "text": [
      "INFO:tensorflow:Assets written to: ./models/pretrained_resnet50_trainonlyLast2Layers/assets\n"
     ]
    },
    {
     "name": "stdout",
     "output_type": "stream",
     "text": [
      "50/50 [==============================] - 60s 1s/step - loss: 2.1514 - accuracy: 0.7867 - val_loss: 2.7713 - val_accuracy: 0.7144\n",
      "Epoch 35/60\n",
      "50/50 [==============================] - ETA: 0s - loss: 2.1113 - accuracy: 0.7920\n",
      "Epoch 35: val_accuracy did not improve from 0.71438\n",
      "50/50 [==============================] - 44s 878ms/step - loss: 2.1113 - accuracy: 0.7920 - val_loss: 2.7757 - val_accuracy: 0.7119\n",
      "Epoch 36/60\n",
      "50/50 [==============================] - ETA: 0s - loss: 2.1031 - accuracy: 0.7948\n",
      "Epoch 36: val_accuracy did not improve from 0.71438\n",
      "50/50 [==============================] - 44s 885ms/step - loss: 2.1031 - accuracy: 0.7948 - val_loss: 2.7624 - val_accuracy: 0.7106\n",
      "Epoch 37/60\n",
      "50/50 [==============================] - ETA: 0s - loss: 2.0715 - accuracy: 0.7975\n",
      "Epoch 37: val_accuracy improved from 0.71438 to 0.71938, saving model to ./models/pretrained_resnet50_trainonlyLast2Layers\n"
     ]
    },
    {
     "name": "stderr",
     "output_type": "stream",
     "text": [
      "2023-04-23 16:31:30.841627: I tensorflow/core/common_runtime/executor.cc:1197] [/device:CPU:0] (DEBUG INFO) Executor start aborting (this does not indicate an error and you can ignore this message): INVALID_ARGUMENT: You must feed a value for placeholder tensor 'inputs' with dtype float and shape [?,512]\n",
      "\t [[{{node inputs}}]]\n",
      "2023-04-23 16:31:36.123289: I tensorflow/core/common_runtime/executor.cc:1197] [/device:CPU:0] (DEBUG INFO) Executor start aborting (this does not indicate an error and you can ignore this message): INVALID_ARGUMENT: You must feed a value for placeholder tensor 'inputs' with dtype float and shape [?,512]\n",
      "\t [[{{node inputs}}]]\n",
      "WARNING:absl:Found untraced functions such as _jit_compiled_convolution_op, _jit_compiled_convolution_op, _jit_compiled_convolution_op, _jit_compiled_convolution_op, _jit_compiled_convolution_op while saving (showing 5 of 53). These functions will not be directly callable after loading.\n"
     ]
    },
    {
     "name": "stdout",
     "output_type": "stream",
     "text": [
      "INFO:tensorflow:Assets written to: ./models/pretrained_resnet50_trainonlyLast2Layers/assets\n"
     ]
    },
    {
     "name": "stderr",
     "output_type": "stream",
     "text": [
      "INFO:tensorflow:Assets written to: ./models/pretrained_resnet50_trainonlyLast2Layers/assets\n"
     ]
    },
    {
     "name": "stdout",
     "output_type": "stream",
     "text": [
      "50/50 [==============================] - 60s 1s/step - loss: 2.0715 - accuracy: 0.7975 - val_loss: 2.7403 - val_accuracy: 0.7194\n",
      "Epoch 38/60\n",
      "50/50 [==============================] - ETA: 0s - loss: 2.0500 - accuracy: 0.8073\n",
      "Epoch 38: val_accuracy improved from 0.71938 to 0.72250, saving model to ./models/pretrained_resnet50_trainonlyLast2Layers\n"
     ]
    },
    {
     "name": "stderr",
     "output_type": "stream",
     "text": [
      "2023-04-23 16:32:30.708225: I tensorflow/core/common_runtime/executor.cc:1197] [/device:CPU:0] (DEBUG INFO) Executor start aborting (this does not indicate an error and you can ignore this message): INVALID_ARGUMENT: You must feed a value for placeholder tensor 'inputs' with dtype float and shape [?,512]\n",
      "\t [[{{node inputs}}]]\n",
      "2023-04-23 16:32:35.456994: I tensorflow/core/common_runtime/executor.cc:1197] [/device:CPU:0] (DEBUG INFO) Executor start aborting (this does not indicate an error and you can ignore this message): INVALID_ARGUMENT: You must feed a value for placeholder tensor 'inputs' with dtype float and shape [?,512]\n",
      "\t [[{{node inputs}}]]\n",
      "WARNING:absl:Found untraced functions such as _jit_compiled_convolution_op, _jit_compiled_convolution_op, _jit_compiled_convolution_op, _jit_compiled_convolution_op, _jit_compiled_convolution_op while saving (showing 5 of 53). These functions will not be directly callable after loading.\n"
     ]
    },
    {
     "name": "stdout",
     "output_type": "stream",
     "text": [
      "INFO:tensorflow:Assets written to: ./models/pretrained_resnet50_trainonlyLast2Layers/assets\n"
     ]
    },
    {
     "name": "stderr",
     "output_type": "stream",
     "text": [
      "INFO:tensorflow:Assets written to: ./models/pretrained_resnet50_trainonlyLast2Layers/assets\n"
     ]
    },
    {
     "name": "stdout",
     "output_type": "stream",
     "text": [
      "50/50 [==============================] - 60s 1s/step - loss: 2.0500 - accuracy: 0.8073 - val_loss: 2.7294 - val_accuracy: 0.7225\n",
      "Epoch 39/60\n",
      "50/50 [==============================] - ETA: 0s - loss: 2.0355 - accuracy: 0.8078\n",
      "Epoch 39: val_accuracy did not improve from 0.72250\n",
      "50/50 [==============================] - 44s 873ms/step - loss: 2.0355 - accuracy: 0.8078 - val_loss: 2.7206 - val_accuracy: 0.7212\n",
      "Epoch 40/60\n",
      "50/50 [==============================] - ETA: 0s - loss: 2.0148 - accuracy: 0.8164\n",
      "Epoch 40: val_accuracy improved from 0.72250 to 0.72562, saving model to ./models/pretrained_resnet50_trainonlyLast2Layers\n"
     ]
    },
    {
     "name": "stderr",
     "output_type": "stream",
     "text": [
      "2023-04-23 16:34:14.302865: I tensorflow/core/common_runtime/executor.cc:1197] [/device:CPU:0] (DEBUG INFO) Executor start aborting (this does not indicate an error and you can ignore this message): INVALID_ARGUMENT: You must feed a value for placeholder tensor 'inputs' with dtype float and shape [?,512]\n",
      "\t [[{{node inputs}}]]\n",
      "2023-04-23 16:34:19.046528: I tensorflow/core/common_runtime/executor.cc:1197] [/device:CPU:0] (DEBUG INFO) Executor start aborting (this does not indicate an error and you can ignore this message): INVALID_ARGUMENT: You must feed a value for placeholder tensor 'inputs' with dtype float and shape [?,512]\n",
      "\t [[{{node inputs}}]]\n",
      "WARNING:absl:Found untraced functions such as _jit_compiled_convolution_op, _jit_compiled_convolution_op, _jit_compiled_convolution_op, _jit_compiled_convolution_op, _jit_compiled_convolution_op while saving (showing 5 of 53). These functions will not be directly callable after loading.\n"
     ]
    },
    {
     "name": "stdout",
     "output_type": "stream",
     "text": [
      "INFO:tensorflow:Assets written to: ./models/pretrained_resnet50_trainonlyLast2Layers/assets\n"
     ]
    },
    {
     "name": "stderr",
     "output_type": "stream",
     "text": [
      "INFO:tensorflow:Assets written to: ./models/pretrained_resnet50_trainonlyLast2Layers/assets\n"
     ]
    },
    {
     "name": "stdout",
     "output_type": "stream",
     "text": [
      "50/50 [==============================] - 60s 1s/step - loss: 2.0148 - accuracy: 0.8164 - val_loss: 2.6955 - val_accuracy: 0.7256\n",
      "Epoch 41/60\n",
      "50/50 [==============================] - ETA: 0s - loss: 1.9971 - accuracy: 0.8202\n",
      "Epoch 41: val_accuracy did not improve from 0.72562\n",
      "50/50 [==============================] - 44s 875ms/step - loss: 1.9971 - accuracy: 0.8202 - val_loss: 2.6985 - val_accuracy: 0.7250\n",
      "Epoch 42/60\n",
      "50/50 [==============================] - ETA: 0s - loss: 1.9915 - accuracy: 0.8219\n",
      "Epoch 42: val_accuracy did not improve from 0.72562\n",
      "50/50 [==============================] - 44s 884ms/step - loss: 1.9915 - accuracy: 0.8219 - val_loss: 2.7052 - val_accuracy: 0.7225\n",
      "Epoch 43/60\n",
      "50/50 [==============================] - ETA: 0s - loss: 1.9716 - accuracy: 0.8253\n",
      "Epoch 43: val_accuracy improved from 0.72562 to 0.73125, saving model to ./models/pretrained_resnet50_trainonlyLast2Layers\n"
     ]
    },
    {
     "name": "stderr",
     "output_type": "stream",
     "text": [
      "2023-04-23 16:36:41.649933: I tensorflow/core/common_runtime/executor.cc:1197] [/device:CPU:0] (DEBUG INFO) Executor start aborting (this does not indicate an error and you can ignore this message): INVALID_ARGUMENT: You must feed a value for placeholder tensor 'inputs' with dtype float and shape [?,512]\n",
      "\t [[{{node inputs}}]]\n",
      "2023-04-23 16:36:47.194427: I tensorflow/core/common_runtime/executor.cc:1197] [/device:CPU:0] (DEBUG INFO) Executor start aborting (this does not indicate an error and you can ignore this message): INVALID_ARGUMENT: You must feed a value for placeholder tensor 'inputs' with dtype float and shape [?,512]\n",
      "\t [[{{node inputs}}]]\n",
      "WARNING:absl:Found untraced functions such as _jit_compiled_convolution_op, _jit_compiled_convolution_op, _jit_compiled_convolution_op, _jit_compiled_convolution_op, _jit_compiled_convolution_op while saving (showing 5 of 53). These functions will not be directly callable after loading.\n"
     ]
    },
    {
     "name": "stdout",
     "output_type": "stream",
     "text": [
      "INFO:tensorflow:Assets written to: ./models/pretrained_resnet50_trainonlyLast2Layers/assets\n"
     ]
    },
    {
     "name": "stderr",
     "output_type": "stream",
     "text": [
      "INFO:tensorflow:Assets written to: ./models/pretrained_resnet50_trainonlyLast2Layers/assets\n"
     ]
    },
    {
     "name": "stdout",
     "output_type": "stream",
     "text": [
      "50/50 [==============================] - 60s 1s/step - loss: 1.9716 - accuracy: 0.8253 - val_loss: 2.6782 - val_accuracy: 0.7312\n",
      "Epoch 44/60\n",
      "50/50 [==============================] - ETA: 0s - loss: 1.9499 - accuracy: 0.8358\n",
      "Epoch 44: val_accuracy did not improve from 0.73125\n",
      "50/50 [==============================] - 44s 880ms/step - loss: 1.9499 - accuracy: 0.8358 - val_loss: 2.6738 - val_accuracy: 0.7262\n",
      "Epoch 45/60\n",
      "50/50 [==============================] - ETA: 0s - loss: 1.9416 - accuracy: 0.8442\n",
      "Epoch 45: val_accuracy did not improve from 0.73125\n",
      "50/50 [==============================] - 44s 887ms/step - loss: 1.9416 - accuracy: 0.8442 - val_loss: 2.6695 - val_accuracy: 0.7312\n",
      "Epoch 46/60\n",
      "50/50 [==============================] - ETA: 0s - loss: 1.9277 - accuracy: 0.8428\n",
      "Epoch 46: val_accuracy improved from 0.73125 to 0.73500, saving model to ./models/pretrained_resnet50_trainonlyLast2Layers\n"
     ]
    },
    {
     "name": "stderr",
     "output_type": "stream",
     "text": [
      "2023-04-23 16:39:10.495792: I tensorflow/core/common_runtime/executor.cc:1197] [/device:CPU:0] (DEBUG INFO) Executor start aborting (this does not indicate an error and you can ignore this message): INVALID_ARGUMENT: You must feed a value for placeholder tensor 'inputs' with dtype float and shape [?,512]\n",
      "\t [[{{node inputs}}]]\n",
      "2023-04-23 16:39:15.661600: I tensorflow/core/common_runtime/executor.cc:1197] [/device:CPU:0] (DEBUG INFO) Executor start aborting (this does not indicate an error and you can ignore this message): INVALID_ARGUMENT: You must feed a value for placeholder tensor 'inputs' with dtype float and shape [?,512]\n",
      "\t [[{{node inputs}}]]\n",
      "WARNING:absl:Found untraced functions such as _jit_compiled_convolution_op, _jit_compiled_convolution_op, _jit_compiled_convolution_op, _jit_compiled_convolution_op, _jit_compiled_convolution_op while saving (showing 5 of 53). These functions will not be directly callable after loading.\n"
     ]
    },
    {
     "name": "stdout",
     "output_type": "stream",
     "text": [
      "INFO:tensorflow:Assets written to: ./models/pretrained_resnet50_trainonlyLast2Layers/assets\n"
     ]
    },
    {
     "name": "stderr",
     "output_type": "stream",
     "text": [
      "INFO:tensorflow:Assets written to: ./models/pretrained_resnet50_trainonlyLast2Layers/assets\n"
     ]
    },
    {
     "name": "stdout",
     "output_type": "stream",
     "text": [
      "50/50 [==============================] - 61s 1s/step - loss: 1.9277 - accuracy: 0.8428 - val_loss: 2.6423 - val_accuracy: 0.7350\n",
      "Epoch 47/60\n",
      "50/50 [==============================] - ETA: 0s - loss: 1.9180 - accuracy: 0.8472\n",
      "Epoch 47: val_accuracy did not improve from 0.73500\n",
      "50/50 [==============================] - 44s 880ms/step - loss: 1.9180 - accuracy: 0.8472 - val_loss: 2.6738 - val_accuracy: 0.7188\n",
      "Epoch 48/60\n",
      "50/50 [==============================] - ETA: 0s - loss: 1.9068 - accuracy: 0.8472\n",
      "Epoch 48: val_accuracy did not improve from 0.73500\n",
      "50/50 [==============================] - 44s 879ms/step - loss: 1.9068 - accuracy: 0.8472 - val_loss: 2.7062 - val_accuracy: 0.7206\n",
      "Epoch 49/60\n",
      "50/50 [==============================] - ETA: 0s - loss: 1.9015 - accuracy: 0.8528\n",
      "Epoch 49: val_accuracy did not improve from 0.73500\n",
      "50/50 [==============================] - 44s 886ms/step - loss: 1.9015 - accuracy: 0.8528 - val_loss: 2.6683 - val_accuracy: 0.7312\n",
      "Epoch 50/60\n",
      "50/50 [==============================] - ETA: 0s - loss: 1.8739 - accuracy: 0.8612\n",
      "Epoch 50: val_accuracy improved from 0.73500 to 0.74375, saving model to ./models/pretrained_resnet50_trainonlyLast2Layers\n"
     ]
    },
    {
     "name": "stderr",
     "output_type": "stream",
     "text": [
      "2023-04-23 16:42:22.216757: I tensorflow/core/common_runtime/executor.cc:1197] [/device:CPU:0] (DEBUG INFO) Executor start aborting (this does not indicate an error and you can ignore this message): INVALID_ARGUMENT: You must feed a value for placeholder tensor 'inputs' with dtype float and shape [?,512]\n",
      "\t [[{{node inputs}}]]\n",
      "2023-04-23 16:42:27.741716: I tensorflow/core/common_runtime/executor.cc:1197] [/device:CPU:0] (DEBUG INFO) Executor start aborting (this does not indicate an error and you can ignore this message): INVALID_ARGUMENT: You must feed a value for placeholder tensor 'inputs' with dtype float and shape [?,512]\n",
      "\t [[{{node inputs}}]]\n",
      "WARNING:absl:Found untraced functions such as _jit_compiled_convolution_op, _jit_compiled_convolution_op, _jit_compiled_convolution_op, _jit_compiled_convolution_op, _jit_compiled_convolution_op while saving (showing 5 of 53). These functions will not be directly callable after loading.\n"
     ]
    },
    {
     "name": "stdout",
     "output_type": "stream",
     "text": [
      "INFO:tensorflow:Assets written to: ./models/pretrained_resnet50_trainonlyLast2Layers/assets\n"
     ]
    },
    {
     "name": "stderr",
     "output_type": "stream",
     "text": [
      "INFO:tensorflow:Assets written to: ./models/pretrained_resnet50_trainonlyLast2Layers/assets\n"
     ]
    },
    {
     "name": "stdout",
     "output_type": "stream",
     "text": [
      "50/50 [==============================] - 60s 1s/step - loss: 1.8739 - accuracy: 0.8612 - val_loss: 2.6330 - val_accuracy: 0.7437\n",
      "Epoch 51/60\n",
      "50/50 [==============================] - ETA: 0s - loss: 1.8701 - accuracy: 0.8619\n",
      "Epoch 51: val_accuracy did not improve from 0.74375\n",
      "50/50 [==============================] - 44s 873ms/step - loss: 1.8701 - accuracy: 0.8619 - val_loss: 2.6532 - val_accuracy: 0.7337\n",
      "Epoch 52/60\n",
      "50/50 [==============================] - ETA: 0s - loss: 1.8569 - accuracy: 0.8664\n",
      "Epoch 52: val_accuracy did not improve from 0.74375\n",
      "50/50 [==============================] - 44s 880ms/step - loss: 1.8569 - accuracy: 0.8664 - val_loss: 2.6421 - val_accuracy: 0.7406\n",
      "Epoch 53/60\n",
      "50/50 [==============================] - ETA: 0s - loss: 1.8542 - accuracy: 0.8739\n",
      "Epoch 53: val_accuracy did not improve from 0.74375\n",
      "50/50 [==============================] - 45s 893ms/step - loss: 1.8542 - accuracy: 0.8739 - val_loss: 2.6434 - val_accuracy: 0.7375\n",
      "Epoch 54/60\n",
      "50/50 [==============================] - ETA: 0s - loss: 1.8398 - accuracy: 0.8737\n",
      "Epoch 54: val_accuracy did not improve from 0.74375\n",
      "50/50 [==============================] - 45s 893ms/step - loss: 1.8398 - accuracy: 0.8737 - val_loss: 2.6489 - val_accuracy: 0.7319\n",
      "Epoch 55/60\n",
      "50/50 [==============================] - ETA: 0s - loss: 1.8312 - accuracy: 0.8817\n",
      "Epoch 55: val_accuracy did not improve from 0.74375\n",
      "50/50 [==============================] - 45s 894ms/step - loss: 1.8312 - accuracy: 0.8817 - val_loss: 2.6437 - val_accuracy: 0.7362\n",
      "Epoch 56/60\n",
      "50/50 [==============================] - ETA: 0s - loss: 1.8246 - accuracy: 0.8856\n",
      "Epoch 56: val_accuracy did not improve from 0.74375\n",
      "50/50 [==============================] - 45s 896ms/step - loss: 1.8246 - accuracy: 0.8856 - val_loss: 2.6457 - val_accuracy: 0.7394\n",
      "Epoch 57/60\n",
      "50/50 [==============================] - ETA: 0s - loss: 1.8149 - accuracy: 0.8838\n",
      "Epoch 57: val_accuracy did not improve from 0.74375\n",
      "50/50 [==============================] - 45s 897ms/step - loss: 1.8149 - accuracy: 0.8838 - val_loss: 2.6561 - val_accuracy: 0.7406\n",
      "Epoch 58/60\n",
      "50/50 [==============================] - ETA: 0s - loss: 1.8057 - accuracy: 0.8869\n",
      "Epoch 58: val_accuracy did not improve from 0.74375\n",
      "50/50 [==============================] - 45s 896ms/step - loss: 1.8057 - accuracy: 0.8869 - val_loss: 2.6503 - val_accuracy: 0.7419\n",
      "Epoch 59/60\n",
      "50/50 [==============================] - ETA: 0s - loss: 1.7985 - accuracy: 0.8902\n",
      "Epoch 59: val_accuracy improved from 0.74375 to 0.74625, saving model to ./models/pretrained_resnet50_trainonlyLast2Layers\n"
     ]
    },
    {
     "name": "stderr",
     "output_type": "stream",
     "text": [
      "2023-04-23 16:49:18.530077: I tensorflow/core/common_runtime/executor.cc:1197] [/device:CPU:0] (DEBUG INFO) Executor start aborting (this does not indicate an error and you can ignore this message): INVALID_ARGUMENT: You must feed a value for placeholder tensor 'inputs' with dtype float and shape [?,512]\n",
      "\t [[{{node inputs}}]]\n",
      "2023-04-23 16:49:23.744475: I tensorflow/core/common_runtime/executor.cc:1197] [/device:CPU:0] (DEBUG INFO) Executor start aborting (this does not indicate an error and you can ignore this message): INVALID_ARGUMENT: You must feed a value for placeholder tensor 'inputs' with dtype float and shape [?,512]\n",
      "\t [[{{node inputs}}]]\n",
      "WARNING:absl:Found untraced functions such as _jit_compiled_convolution_op, _jit_compiled_convolution_op, _jit_compiled_convolution_op, _jit_compiled_convolution_op, _jit_compiled_convolution_op while saving (showing 5 of 53). These functions will not be directly callable after loading.\n"
     ]
    },
    {
     "name": "stdout",
     "output_type": "stream",
     "text": [
      "INFO:tensorflow:Assets written to: ./models/pretrained_resnet50_trainonlyLast2Layers/assets\n"
     ]
    },
    {
     "name": "stderr",
     "output_type": "stream",
     "text": [
      "INFO:tensorflow:Assets written to: ./models/pretrained_resnet50_trainonlyLast2Layers/assets\n"
     ]
    },
    {
     "name": "stdout",
     "output_type": "stream",
     "text": [
      "50/50 [==============================] - 61s 1s/step - loss: 1.7985 - accuracy: 0.8902 - val_loss: 2.6334 - val_accuracy: 0.7462\n",
      "Epoch 60/60\n",
      "50/50 [==============================] - ETA: 0s - loss: 1.7963 - accuracy: 0.8941\n",
      "Epoch 60: val_accuracy did not improve from 0.74625\n",
      "50/50 [==============================] - 44s 884ms/step - loss: 1.7963 - accuracy: 0.8941 - val_loss: 2.6676 - val_accuracy: 0.7431\n"
     ]
    },
    {
     "data": {
      "text/plain": [
       "<keras.callbacks.History at 0x7ff15e129ed0>"
      ]
     },
     "execution_count": 114,
     "metadata": {},
     "output_type": "execute_result"
    }
   ],
   "source": [
    "#define early stopping\n",
    "es = EarlyStopping(monitor='val_accuracy', patience=20, restore_best_weights=True, verbose=0)\n",
    "##define automatic saving \n",
    "save = ModelCheckpoint(\n",
    "    \"./models/pretrained_resnet50_trainonlyLast2Layers\",\n",
    "    monitor = \"val_accuracy\",\n",
    "    verbose = 1,\n",
    "    save_best_only = True,\n",
    "    save_weights_only = False,\n",
    ")\n",
    "\n",
    "##fit \n",
    "%time\n",
    "resnet50.fit(\n",
    "  normalized_train,\n",
    "  validation_data=normalized_val,\n",
    "    epochs=60, callbacks=[es, save]  \n",
    ")"
   ]
  },
  {
   "cell_type": "code",
   "execution_count": 115,
   "id": "74ebe629",
   "metadata": {},
   "outputs": [
    {
     "name": "stdout",
     "output_type": "stream",
     "text": [
      "0.7462499737739563\n"
     ]
    },
    {
     "data": {
      "image/png": "[encoded data removed]",
      "text/plain": [
       "<Figure size 1000x500 with 2 Axes>"
      ]
     },
     "metadata": {},
     "output_type": "display_data"
    }
   ],
   "source": [
    "fig, ax = plt.subplots(1, 2, figsize=(10, 5))\n",
    "ax[0].plot(range(1, len(resnet50.history.history['loss'])+1), resnet50.history.history['loss'], \n",
    "           label='Train Loss');\n",
    "ax[0].plot(range(1, len(resnet50.history.history['val_loss'])+1), \n",
    "         resnet50.history.history['val_loss'], label='Val Loss');\n",
    "ax[0].grid();\n",
    "ax[0].legend();\n",
    "ax[0].set_xlabel(\"Number of Epochs\");\n",
    "ax[1].plot(range(1, len(resnet50.history.history['accuracy'])+1),resnet50.history.history['accuracy'],\n",
    "          label = 'Train Accuracy')\n",
    "ax[1].plot(range(1, len(resnet50.history.history['val_accuracy'])+1), resnet50.history.history['val_accuracy'], \n",
    "          label = 'Validation Accuracy')\n",
    "ax[1].grid();\n",
    "ax[1].legend();\n",
    "ax[1].set_xlabel(\"Number of Epochs\");\n",
    "print(max(resnet50.history.history['val_accuracy']))"
   ]
  },
  {
   "cell_type": "code",
   "execution_count": 121,
   "id": "52f586eb",
   "metadata": {},
   "outputs": [
    {
     "name": "stdout",
     "output_type": "stream",
     "text": [
      "13/13 [==============================] - 8s 583ms/step - loss: 2.6676 - accuracy: 0.7431\n"
     ]
    },
    {
     "data": {
      "text/plain": [
       "[2.667616367340088, 0.7431250214576721]"
      ]
     },
     "execution_count": 121,
     "metadata": {},
     "output_type": "execute_result"
    }
   ],
   "source": [
    "resnet50.evaluate(normalized_val)"
   ]
  },
  {
   "cell_type": "code",
   "execution_count": null,
   "id": "366d98cd",
   "metadata": {},
   "outputs": [],
   "source": []
  },
  {
   "cell_type": "code",
   "execution_count": null,
   "id": "8eee175e",
   "metadata": {},
   "outputs": [],
   "source": [
    "\n",
    "\n"
   ]
  },
  {
   "cell_type": "code",
   "execution_count": null,
   "id": "92983ff9",
   "metadata": {},
   "outputs": [],
   "source": []
  },
  {
   "cell_type": "code",
   "execution_count": null,
   "id": "0f557aad",
   "metadata": {},
   "outputs": [],
   "source": []
  },
  {
   "cell_type": "code",
   "execution_count": null,
   "id": "01ada83a",
   "metadata": {},
   "outputs": [],
   "source": []
  },
  {
   "cell_type": "markdown",
   "id": "122e051c",
   "metadata": {},
   "source": [
    "## Load Test Images"
   ]
  },
  {
   "cell_type": "code",
   "execution_count": 116,
   "id": "8edf5fb4",
   "metadata": {},
   "outputs": [
    {
     "name": "stdout",
     "output_type": "stream",
     "text": [
      "Found 1800 files belonging to 1 classes.\n",
      "Found 1414 files belonging to 1 classes.\n",
      "Found 1800 files belonging to 1 classes.\n"
     ]
    }
   ],
   "source": [
    "##load the test image\n",
    "testset1 = utils.image_dataset_from_directory(\n",
    "    './test/class1',\n",
    "    labels=None,\n",
    "    color_mode=\"rgb\",\n",
    "    batch_size=64,\n",
    "    image_size=(258, 347),\n",
    "    shuffle=False,\n",
    "    seed=109,\n",
    "    interpolation=\"bilinear\",\n",
    "    follow_links=False,\n",
    "    crop_to_aspect_ratio=False,\n",
    ")\n",
    "\n",
    "testset2 = utils.image_dataset_from_directory(\n",
    "    './test/class2',\n",
    "    labels=None,\n",
    "    color_mode=\"rgb\",\n",
    "    batch_size=64,\n",
    "    image_size=(258, 347),\n",
    "    shuffle=False,\n",
    "    seed=109,\n",
    "    interpolation=\"bilinear\",\n",
    "    follow_links=False,\n",
    "    crop_to_aspect_ratio=False,\n",
    ")\n",
    "\n",
    "testset3 = utils.image_dataset_from_directory(\n",
    "    './test/class3',\n",
    "    labels=None,\n",
    "    color_mode=\"rgb\",\n",
    "    batch_size=64,\n",
    "    image_size=(258, 347),\n",
    "    shuffle=False,\n",
    "    seed=109,\n",
    "    interpolation=\"bilinear\",\n",
    "    follow_links=False,\n",
    "    crop_to_aspect_ratio=False,\n",
    ")\n",
    "\n",
    "##normalize the testset\n",
    "normalization_layer = tf.keras.layers.Rescaling(1./255)\n",
    "normalized_testset1 = testset1.map(lambda x: normalization_layer(x))\n",
    "normalized_testset2 = testset2.map(lambda x: normalization_layer(x))\n",
    "normalized_testset3 = testset3.map(lambda x: normalization_layer(x))"
   ]
  },
  {
   "cell_type": "code",
   "execution_count": 117,
   "id": "6a72196e",
   "metadata": {},
   "outputs": [
    {
     "name": "stderr",
     "output_type": "stream",
     "text": [
      "2023-04-23 17:06:11.814042: I tensorflow/core/common_runtime/executor.cc:1197] [/device:CPU:0] (DEBUG INFO) Executor start aborting (this does not indicate an error and you can ignore this message): INVALID_ARGUMENT: You must feed a value for placeholder tensor 'Placeholder/_0' with dtype string and shape [1800]\n",
      "\t [[{{node Placeholder/_0}}]]\n",
      "2023-04-23 17:06:11.814367: I tensorflow/core/common_runtime/executor.cc:1197] [/device:CPU:0] (DEBUG INFO) Executor start aborting (this does not indicate an error and you can ignore this message): INVALID_ARGUMENT: You must feed a value for placeholder tensor 'Placeholder/_0' with dtype string and shape [1800]\n",
      "\t [[{{node Placeholder/_0}}]]\n"
     ]
    },
    {
     "name": "stdout",
     "output_type": "stream",
     "text": [
      "29/29 [==============================] - 10s 333ms/step\n"
     ]
    },
    {
     "name": "stderr",
     "output_type": "stream",
     "text": [
      "2023-04-23 17:06:22.292126: I tensorflow/core/common_runtime/executor.cc:1197] [/device:CPU:0] (DEBUG INFO) Executor start aborting (this does not indicate an error and you can ignore this message): INVALID_ARGUMENT: You must feed a value for placeholder tensor 'Placeholder/_0' with dtype string and shape [1414]\n",
      "\t [[{{node Placeholder/_0}}]]\n",
      "2023-04-23 17:06:22.292431: I tensorflow/core/common_runtime/executor.cc:1197] [/device:CPU:0] (DEBUG INFO) Executor start aborting (this does not indicate an error and you can ignore this message): INVALID_ARGUMENT: You must feed a value for placeholder tensor 'Placeholder/_0' with dtype string and shape [1414]\n",
      "\t [[{{node Placeholder/_0}}]]\n"
     ]
    },
    {
     "name": "stdout",
     "output_type": "stream",
     "text": [
      "23/23 [==============================] - 8s 335ms/step\n",
      " 1/29 [>.............................] - ETA: 5s"
     ]
    },
    {
     "name": "stderr",
     "output_type": "stream",
     "text": [
      "2023-04-23 17:06:29.881351: I tensorflow/core/common_runtime/executor.cc:1197] [/device:CPU:0] (DEBUG INFO) Executor start aborting (this does not indicate an error and you can ignore this message): INVALID_ARGUMENT: You must feed a value for placeholder tensor 'Placeholder/_0' with dtype string and shape [1800]\n",
      "\t [[{{node Placeholder/_0}}]]\n",
      "2023-04-23 17:06:29.881672: I tensorflow/core/common_runtime/executor.cc:1197] [/device:CPU:0] (DEBUG INFO) Executor start aborting (this does not indicate an error and you can ignore this message): INVALID_ARGUMENT: You must feed a value for placeholder tensor 'Placeholder/_0' with dtype string and shape [1800]\n",
      "\t [[{{node Placeholder/_0}}]]\n"
     ]
    },
    {
     "name": "stdout",
     "output_type": "stream",
     "text": [
      "29/29 [==============================] - 9s 306ms/step\n"
     ]
    }
   ],
   "source": [
    "##predict\n",
    "prediction1 = np.array([x.argmax() for x in resnet50.predict(normalized_testset1)])\n",
    "prediction2 = np.array([x.argmax() for x in resnet50.predict(normalized_testset2)]) \n",
    "prediction3 = np.array([x.argmax() for x in resnet50.predict(normalized_testset3)])"
   ]
  },
  {
   "cell_type": "code",
   "execution_count": 118,
   "id": "c3d90c8e",
   "metadata": {},
   "outputs": [
    {
     "name": "stdout",
     "output_type": "stream",
     "text": [
      "[0]\n",
      "Number of prediction 0: 1800\n",
      "Number of prediction 1: 0\n",
      "Number of prediction 2: 0\n",
      "Number of prediction 3: 0\n"
     ]
    }
   ],
   "source": [
    "print(np.unique(prediction1))\n",
    "print(\"Number of prediction 0: {}\".format((prediction1==0).sum()))\n",
    "print(\"Number of prediction 1: {}\".format((prediction1==1).sum()))\n",
    "print(\"Number of prediction 2: {}\".format((prediction1==2).sum()))\n",
    "print(\"Number of prediction 3: {}\".format((prediction1==3).sum()))"
   ]
  },
  {
   "cell_type": "code",
   "execution_count": 119,
   "id": "14aa7cb8",
   "metadata": {},
   "outputs": [
    {
     "name": "stdout",
     "output_type": "stream",
     "text": [
      "[0 3]\n",
      "Number of prediction 0: 1356\n",
      "Number of prediction 1: 0\n",
      "Number of prediction 2: 0\n",
      "Number of prediction 3: 58\n"
     ]
    }
   ],
   "source": [
    "print(np.unique(prediction2))\n",
    "print(\"Number of prediction 0: {}\".format((prediction2==0).sum()))\n",
    "print(\"Number of prediction 1: {}\".format((prediction2==1).sum()))\n",
    "print(\"Number of prediction 2: {}\".format((prediction2==2).sum()))\n",
    "print(\"Number of prediction 3: {}\".format((prediction2==3).sum()))"
   ]
  },
  {
   "cell_type": "code",
   "execution_count": 120,
   "id": "148fb58c",
   "metadata": {},
   "outputs": [
    {
     "name": "stdout",
     "output_type": "stream",
     "text": [
      "[0 3]\n",
      "Number of prediction 0: 1795\n",
      "Number of prediction 1: 0\n",
      "Number of prediction 2: 0\n",
      "Number of prediction 3: 5\n"
     ]
    }
   ],
   "source": [
    "print(np.unique(prediction3))\n",
    "print(\"Number of prediction 0: {}\".format((prediction3==0).sum()))\n",
    "print(\"Number of prediction 1: {}\".format((prediction3==1).sum()))\n",
    "print(\"Number of prediction 2: {}\".format((prediction3==2).sum()))\n",
    "print(\"Number of prediction 3: {}\".format((prediction3==3).sum()))"
   ]
  },
  {
   "cell_type": "code",
   "execution_count": null,
   "id": "f363ec31",
   "metadata": {},
   "outputs": [],
   "source": []
  }
 ],
 "metadata": {
  "kernelspec": {
   "display_name": "Python3 (default)",
   "language": "python",
   "name": "python3"
  },
  "language_info": {
   "codemirror_mode": {
    "name": "ipython",
    "version": 3
   },
   "file_extension": ".py",
   "mimetype": "text/x-python",
   "name": "python",
   "nbconvert_exporter": "python",
   "pygments_lexer": "ipython3",
   "version": "3.11.3"
  }
 },
 "nbformat": 4,
 "nbformat_minor": 5
}
